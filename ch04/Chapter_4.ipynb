{
  "nbformat": 4,
  "nbformat_minor": 0,
  "metadata": {
    "colab": {
      "name": "Chapter_4.ipynb",
      "private_outputs": true,
      "provenance": [],
      "collapsed_sections": [],
      "mount_file_id": "1kaJRBf2l5QblelqSdxf44yyuSnhFUBUh",
      "authorship_tag": "ABX9TyPjz2jMwE5zZuP20d/k/sUr",
      "include_colab_link": true
    },
    "kernelspec": {
      "name": "python3",
      "display_name": "Python 3"
    },
    "language_info": {
      "name": "python"
    }
  },
  "cells": [
    {
      "cell_type": "markdown",
      "metadata": {
        "id": "view-in-github",
        "colab_type": "text"
      },
      "source": [
        "<a href=\"https://colab.research.google.com/github/falconlee236/DeepLearningFrom_Scratch/blob/main/ch04/Chapter_4.ipynb\" target=\"_parent\"><img src=\"https://colab.research.google.com/assets/colab-badge.svg\" alt=\"Open In Colab\"/></a>"
      ]
    },
    {
      "cell_type": "markdown",
      "metadata": {
        "id": "UtcpyRwjq7-l"
      },
      "source": [
        "# Chapter 4 Neural network training"
      ]
    },
    {
      "cell_type": "markdown",
      "metadata": {
        "id": "IyJnf8f-rVJa"
      },
      "source": [
        "**4.2 loss function**"
      ]
    },
    {
      "cell_type": "markdown",
      "metadata": {
        "id": "blNw53ZmuNVo"
      },
      "source": [
        "*4.2.1 sum of squares for error, SSE*"
      ]
    },
    {
      "cell_type": "code",
      "metadata": {
        "id": "1DeRlukauVul"
      },
      "source": [
        "def sum_squares_error(y, t):\n",
        "  return 0.5 * np.sum((y - t) ** 2)"
      ],
      "execution_count": null,
      "outputs": []
    },
    {
      "cell_type": "code",
      "metadata": {
        "id": "UabZVwXmulBt"
      },
      "source": [
        "import numpy as np\n",
        "\n",
        "# answer is 2\n",
        "t = [0, 0, 1, 0, 0, 0, 0, 0, 0, 0]\n",
        "\n",
        "# example1 : estimate probablity of number 2 to most highest probablity(0.6)\n",
        "y = [0.1, 0.05, 0.6, 0.0, 0.05, 0.1, 0.0, 0.1, 0.0, 0.0]\n",
        "sum_squares_error(np.array(y), np.array(t))"
      ],
      "execution_count": null,
      "outputs": []
    },
    {
      "cell_type": "code",
      "metadata": {
        "id": "zLTN5A0evhCj"
      },
      "source": [
        "# example2 : estimate probablity of number 7 to most highest probablity(0.6)\n",
        "y = [0.1, 0.05, 0.1, 0.0, 0.05, 0.1, 0.0, 0.6, 0.0, 0.0]\n",
        "sum_squares_error(np.array(y), np.array(t))"
      ],
      "execution_count": null,
      "outputs": []
    },
    {
      "cell_type": "markdown",
      "metadata": {
        "id": "z8usI2xlv0XE"
      },
      "source": [
        "the smaller value of loss function is, the better answer has"
      ]
    },
    {
      "cell_type": "markdown",
      "metadata": {
        "id": "lq2L5BrLwkZz"
      },
      "source": [
        "*4.2.2 cross entropy error, CEE*"
      ]
    },
    {
      "cell_type": "code",
      "metadata": {
        "id": "Y74U4Jg0wrcK"
      },
      "source": [
        "def cross_entropy_error(y, t):\n",
        "  delta = 1e-7 # log0 = -inf/ protect -inf\n",
        "  return -np.sum(t * np.log(y + delta))"
      ],
      "execution_count": null,
      "outputs": []
    },
    {
      "cell_type": "code",
      "metadata": {
        "id": "-gRzdyqPxktW"
      },
      "source": [
        "t = [0, 0, 1, 0, 0, 0, 0, 0, 0, 0]\n",
        "y = [0.1, 0.05, 0.6, 0.0, 0.05, 0.1, 0.0, 0.1, 0.0, 0.0]\n",
        "cross_entropy_error(np.array(y), np.array(t))"
      ],
      "execution_count": null,
      "outputs": []
    },
    {
      "cell_type": "code",
      "metadata": {
        "id": "zPMR6iztxqkL"
      },
      "source": [
        "t = [0, 0, 1, 0, 0, 0, 0, 0, 0, 0]\n",
        "y = [0.1, 0.05, 0.1, 0.0, 0.05, 0.1, 0.0, 0.6, 0.0, 0.0]\n",
        "cross_entropy_error(np.array(y), np.array(t))"
      ],
      "execution_count": null,
      "outputs": []
    },
    {
      "cell_type": "code",
      "metadata": {
        "id": "EnvlVWd8x-Kn"
      },
      "source": [
        ""
      ],
      "execution_count": null,
      "outputs": []
    }
  ]
}