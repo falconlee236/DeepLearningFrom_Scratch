{
  "nbformat": 4,
  "nbformat_minor": 0,
  "metadata": {
    "colab": {
      "name": "Chapter_4.ipynb",
      "private_outputs": true,
      "provenance": [],
      "collapsed_sections": [],
      "mount_file_id": "https://github.com/falconlee236/DeepLearningFrom_Scratch/blob/main/ch04/Chapter_4.ipynb",
      "authorship_tag": "ABX9TyPIBqgjTd7TOoxHNsf7C4hN",
      "include_colab_link": true
    },
    "kernelspec": {
      "name": "python3",
      "display_name": "Python 3"
    },
    "language_info": {
      "name": "python"
    }
  },
  "cells": [
    {
      "cell_type": "markdown",
      "metadata": {
        "id": "view-in-github",
        "colab_type": "text"
      },
      "source": [
        "<a href=\"https://colab.research.google.com/github/falconlee236/DeepLearningFrom_Scratch/blob/main/ch04/Chapter_4.ipynb\" target=\"_parent\"><img src=\"https://colab.research.google.com/assets/colab-badge.svg\" alt=\"Open In Colab\"/></a>"
      ]
    },
    {
      "cell_type": "markdown",
      "metadata": {
        "id": "UtcpyRwjq7-l"
      },
      "source": [
        "# Chapter 4 Neural network training"
      ]
    },
    {
      "cell_type": "markdown",
      "metadata": {
        "id": "IyJnf8f-rVJa"
      },
      "source": [
        "**4.2 loss function**"
      ]
    },
    {
      "cell_type": "markdown",
      "metadata": {
        "id": "blNw53ZmuNVo"
      },
      "source": [
        "*4.2.1 sum of squares for error, SSE*"
      ]
    },
    {
      "cell_type": "code",
      "metadata": {
        "id": "1DeRlukauVul"
      },
      "source": [
        "def sum_squares_error(y, t):\n",
        "  return 0.5 * np.sum((y - t) ** 2)"
      ],
      "execution_count": null,
      "outputs": []
    },
    {
      "cell_type": "code",
      "metadata": {
        "id": "UabZVwXmulBt"
      },
      "source": [
        "import numpy as np\n",
        "\n",
        "# answer is 2\n",
        "t = [0, 0, 1, 0, 0, 0, 0, 0, 0, 0]\n",
        "\n",
        "# example1 : estimate probablity of number 2 to most highest probablity(0.6)\n",
        "y = [0.1, 0.05, 0.6, 0.0, 0.05, 0.1, 0.0, 0.1, 0.0, 0.0]\n",
        "sum_squares_error(np.array(y), np.array(t))"
      ],
      "execution_count": null,
      "outputs": []
    },
    {
      "cell_type": "code",
      "metadata": {
        "id": "zLTN5A0evhCj"
      },
      "source": [
        "# example2 : estimate probablity of number 7 to most highest probablity(0.6)\n",
        "y = [0.1, 0.05, 0.1, 0.0, 0.05, 0.1, 0.0, 0.6, 0.0, 0.0]\n",
        "sum_squares_error(np.array(y), np.array(t))"
      ],
      "execution_count": null,
      "outputs": []
    },
    {
      "cell_type": "markdown",
      "metadata": {
        "id": "z8usI2xlv0XE"
      },
      "source": [
        "the smaller value of loss function is, the better answer has"
      ]
    },
    {
      "cell_type": "markdown",
      "metadata": {
        "id": "lq2L5BrLwkZz"
      },
      "source": [
        "*4.2.2 cross entropy error, CEE*"
      ]
    },
    {
      "cell_type": "code",
      "metadata": {
        "id": "Y74U4Jg0wrcK"
      },
      "source": [
        "def cross_entropy_error(y, t):\n",
        "  delta = 1e-7 # log0 = -inf/ protect -inf\n",
        "  return -np.sum(t * np.log(y + delta))"
      ],
      "execution_count": null,
      "outputs": []
    },
    {
      "cell_type": "code",
      "metadata": {
        "id": "-gRzdyqPxktW"
      },
      "source": [
        "t = [0, 0, 1, 0, 0, 0, 0, 0, 0, 0]\n",
        "y = [0.1, 0.05, 0.6, 0.0, 0.05, 0.1, 0.0, 0.1, 0.0, 0.0]\n",
        "cross_entropy_error(np.array(y), np.array(t))"
      ],
      "execution_count": null,
      "outputs": []
    },
    {
      "cell_type": "code",
      "metadata": {
        "id": "zPMR6iztxqkL"
      },
      "source": [
        "t = [0, 0, 1, 0, 0, 0, 0, 0, 0, 0]\n",
        "y = [0.1, 0.05, 0.1, 0.0, 0.05, 0.1, 0.0, 0.6, 0.0, 0.0]\n",
        "cross_entropy_error(np.array(y), np.array(t))"
      ],
      "execution_count": null,
      "outputs": []
    },
    {
      "cell_type": "markdown",
      "metadata": {
        "id": "EnvlVWd8x-Kn"
      },
      "source": [
        "*4.2.3 mini-batch training*"
      ]
    },
    {
      "cell_type": "code",
      "metadata": {
        "id": "79kPIRd-z-g0"
      },
      "source": [
        "%cd drive/MyDrive/DeepLearningFrom_Scratch/ch04/"
      ],
      "execution_count": null,
      "outputs": []
    },
    {
      "cell_type": "code",
      "metadata": {
        "id": "51CJEnZQ0Pio"
      },
      "source": [
        "import sys, os\n",
        "sys.path.append(os.pardir)\n",
        "import numpy as np\n",
        "from dataset.mnist import load_mnist\n",
        "\n",
        "(x_train, t_train), (x_test, t_test) = load_mnist(normalize=True, one_hot_label=True)\n",
        "\n",
        "print(x_train.shape) # (60000, 784)\n",
        "print(t_train.shape) # (60000, 784)"
      ],
      "execution_count": null,
      "outputs": []
    },
    {
      "cell_type": "code",
      "metadata": {
        "id": "I5XyebTs1pFr"
      },
      "source": [
        "train_size = x_train.shape[0]\n",
        "batch_size = 10\n",
        "batch_mask = np.random.choice(train_size, batch_size)\n",
        "x_batch = x_train[batch_mask]\n",
        "t_batch = t_train[batch_mask]"
      ],
      "execution_count": null,
      "outputs": []
    },
    {
      "cell_type": "code",
      "metadata": {
        "id": "sKWRr4kv2ZoP"
      },
      "source": [
        "np.random.choice(60000, 10)"
      ],
      "execution_count": null,
      "outputs": []
    },
    {
      "cell_type": "code",
      "metadata": {
        "id": "6aK1vPHv2ckt"
      },
      "source": [
        "# Case: t label is given by one-hot encoding\n",
        "def cross_entropy_error(y, t):\n",
        "  if y.ndim == 1:\n",
        "    t = t.reshape(1, t.size)\n",
        "    y = y.reshape(1, y.size)\n",
        "\n",
        "  batch_size = y.shape[0]\n",
        "  return -np.sum(t * np.log(y + 1e-7)) / batch_size"
      ],
      "execution_count": null,
      "outputs": []
    },
    {
      "cell_type": "code",
      "metadata": {
        "id": "RXwuwt4r568i"
      },
      "source": [
        "# Case: t label is given by number label\n",
        "def cross_entropy_error(y, t):\n",
        "  if y.ndim == 1:\n",
        "    t = t.reshape(1, t.size)\n",
        "    y = y.reshape(1, y.size)\n",
        "\n",
        "  batch_size = y.shape[0]\n",
        "  return -np.sum(np.log(y[np.arange(batch_size), t] + 1e-7)) / batch_size"
      ],
      "execution_count": null,
      "outputs": []
    },
    {
      "cell_type": "markdown",
      "metadata": {
        "id": "9W4K2Zyr6HaN"
      },
      "source": [
        "**4.3 numerical differentiation**"
      ]
    },
    {
      "cell_type": "markdown",
      "metadata": {
        "id": "GItihRsY7ajd"
      },
      "source": [
        "*4.3.1 differentiation*"
      ]
    },
    {
      "cell_type": "code",
      "metadata": {
        "id": "KwYP6HdP7eaF"
      },
      "source": [
        ""
      ],
      "execution_count": null,
      "outputs": []
    }
  ]
}