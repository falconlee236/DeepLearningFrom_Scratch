{
  "nbformat": 4,
  "nbformat_minor": 0,
  "metadata": {
    "colab": {
      "name": "Chapter_5.ipynb",
      "private_outputs": true,
      "provenance": [],
      "collapsed_sections": [],
      "mount_file_id": "1GqXU8s60-lJn4beyyQZeUvrr_jT1JYfH",
      "authorship_tag": "ABX9TyNGhnPisc/Wc/0rixJYQRKY",
      "include_colab_link": true
    },
    "kernelspec": {
      "name": "python3",
      "display_name": "Python 3"
    },
    "language_info": {
      "name": "python"
    }
  },
  "cells": [
    {
      "cell_type": "markdown",
      "metadata": {
        "id": "view-in-github",
        "colab_type": "text"
      },
      "source": [
        "<a href=\"https://colab.research.google.com/github/falconlee236/DeepLearningFrom_Scratch/blob/main/Book_2/ch05/Chapter_5.ipynb\" target=\"_parent\"><img src=\"https://colab.research.google.com/assets/colab-badge.svg\" alt=\"Open In Colab\"/></a>"
      ]
    },
    {
      "cell_type": "markdown",
      "metadata": {
        "id": "iUSEy4_-ZHc4"
      },
      "source": [
        "# Chapter 5 Recurrent neural Network"
      ]
    },
    {
      "cell_type": "markdown",
      "metadata": {
        "id": "KvXgxSegbEYw"
      },
      "source": [
        "**5.3 RNN implementation**"
      ]
    },
    {
      "cell_type": "markdown",
      "metadata": {
        "id": "bbjcvCB1bIMu"
      },
      "source": [
        "*5.3.1 RNN layer Implementation*"
      ]
    },
    {
      "cell_type": "code",
      "metadata": {
        "id": "hfZirUbtbNEe"
      },
      "source": [
        "import numpy as np\n",
        "\n",
        "class RNN:\n",
        "    def __init__(self, Wx, Wh, b):\n",
        "        self.params = [Wx, Wh, b]\n",
        "        self.grads = [np.zeros_like(Wx), np.zeros_like(Wh), np_zeros_like(b)]\n",
        "        self.cache = None\n",
        "    \n",
        "    def forward(self, x, h_prev):\n",
        "        Wx, Wh, b = self.params\n",
        "        t = np.matmul(h_prev, Wh) + np.matmul(x, Wx) + b\n",
        "        h_next = np.tanh(t)\n",
        "\n",
        "        self.cache = (x, h_prev, h_next)\n",
        "        return h_next\n",
        "\n",
        "    def backward(self, dh_next):\n",
        "        Wx, Wh, b = self.params\n",
        "        x, h_prev, h_next = self.cache\n",
        "\n",
        "        dt = dh_next * (1 - dh_next ** 2)\n",
        "        db = np.sum(dt, axis=0)\n",
        "        dWh = np.matmul(h_prev.T, dt)\n",
        "        dh_prev = np.matmul(dt, Wh.T)\n",
        "        dWx = np.matmul(x.T, dt)\n",
        "        dx = np.matmul(dt, Wx.T)\n",
        "\n",
        "        self.grads[0][...] = dWx\n",
        "        self.grads[1][...] = dWh\n",
        "        self.grads[2][...] = db\n",
        "    \n",
        "        return dx, dh_prev"
      ],
      "execution_count": null,
      "outputs": []
    },
    {
      "cell_type": "markdown",
      "metadata": {
        "id": "_J2e4F61eOh5"
      },
      "source": [
        "*5.3.2 Time RNN layer implementation*"
      ]
    },
    {
      "cell_type": "code",
      "metadata": {
        "id": "S70szLpwnPIK"
      },
      "source": [
        "class TimeRNN:\n",
        "    def __init__(self, Wx, Wh, b, stateful=False):\n",
        "        self.params = [Wx, Wh, b]\n",
        "        self.grads = [np.zeros_like(Wx), np.zeros_like(Wh), np.zeros_like(b)]\n",
        "        self.layers = None\n",
        "\n",
        "        self.h, self.dh = None, None\n",
        "        self.stateful = stateful\n",
        "\n",
        "    def set_state(self, h):\n",
        "        self.h = h\n",
        "    \n",
        "    def reset_state(self):\n",
        "        self.h = None\n",
        "    \n",
        "    def forward(self, xs):\n",
        "        Wx, Wh, b = self.params\n",
        "        N, T, D = xs.shape\n",
        "        D, H = Wx.shape\n",
        "\n",
        "        self.layers = []\n",
        "        hs = np.empty((N, T, H), dtype='f')\n",
        "\n",
        "        if not self.stateful or self.h is None:\n",
        "            self.h = np.zeros((N, H), dtype='f')\n",
        "        \n",
        "        for t in range(T):\n",
        "            layer = RNN(*self.params)\n",
        "            self.h = layer.forward(xs[:, t, :], self.h)\n",
        "            hs[:, t, :] = self.h\n",
        "            self.layers.append(layer)\n",
        "        \n",
        "        return hs\n",
        "\n",
        "    def backward(self, dhs):\n",
        "        Wx, Wh, b = self.params\n",
        "        N, T, H = dhs.shape\n",
        "        D, H = Wx.shape\n",
        "\n",
        "        dxs = np.empty((N, T, D), dtype='f')\n",
        "        dh = 0\n",
        "        grads = [0, 0, 0]\n",
        "        for t in reversed(range(T)):\n",
        "            layer = self.layers[t]\n",
        "            dx, dh = layer.backward(dhs[:, t, :] + dh) # sum gradient\n",
        "            dxs[:, t, :] = dx\n",
        "\n",
        "            for i, grad in enumerate(layer.grads):\n",
        "                grads[i] += grad\n",
        "        \n",
        "        for i, grad in enumerate(grads):\n",
        "            self.grads[i][...] = grad\n",
        "        self.dh = dh\n",
        "\n",
        "        return dxs"
      ],
      "execution_count": null,
      "outputs": []
    },
    {
      "cell_type": "markdown",
      "metadata": {
        "id": "jSFGyeAprfo6"
      },
      "source": [
        "**5.5 RNNLM(RNN Language Model) training and evaluation**"
      ]
    },
    {
      "cell_type": "markdown",
      "metadata": {
        "id": "1nxIZr6HrbJv"
      },
      "source": [
        "*5.5.1 RNNLM implementation*"
      ]
    },
    {
      "cell_type": "code",
      "metadata": {
        "id": "gFGm5rJXt5AS"
      },
      "source": [
        "%cd drive/MyDrive/DeepLearningFrom_Scratch/Book_2/ch05"
      ],
      "execution_count": null,
      "outputs": []
    },
    {
      "cell_type": "code",
      "metadata": {
        "id": "YkGN2X_xrge6"
      },
      "source": [
        "import sys\n",
        "sys.path.append('..')\n",
        "import numpy as np\n",
        "from common.time_layers import *\n",
        "\n",
        "class SimpleRnnlm:\n",
        "    def __init__(self, vocab_size, wordvec_size, hidden_size):\n",
        "        V, D, H = vocab_size, wordvec_size, hidden_size\n",
        "        rn = np.random.randn\n",
        "\n",
        "        # weight initalization\n",
        "        embed_W = (rn(V, D) / 100).astype('f')\n",
        "        rnn_Wx = (rn(D, H) / np.sqrt(D)).astype('f')\n",
        "        rnn_Wh = (rn(H, H) / np.sqrt(H)).astype('f')\n",
        "        rnn_b = np.zeros(H).astype('f')\n",
        "        affine_W = (rn(H, V) / np.sqrt(H)).astype('f')\n",
        "        affine_b = np.zeros(V).astype('f')\n",
        "\n",
        "        # layer generate\n",
        "        self.layers = [\n",
        "                       TimeEmbedding(embed_W),\n",
        "                       TimeRNN(rnn_Wx, rnn_Wh, rnn_b, stateful=True),\n",
        "                       TimeAffine(affine_W, affine_b)\n",
        "        ]\n",
        "        self.loss_layer = TimeSoftmaxWithLoss()\n",
        "        self.rnn_layer = self.layers[1]\n",
        "\n",
        "        # Collect every weight and gradient to list\n",
        "        self.params, self.grads = [], []\n",
        "        for layer in self.layers:\n",
        "            self.params += layer.params\n",
        "            self.grads += layer.grads\n",
        "        \n",
        "    def forward(self, xs, ts):\n",
        "        for layer in self.layers:\n",
        "            xs = layer.forward(xs)\n",
        "        loss = self.loss_layer.forward(xs, ts)\n",
        "        return loss\n",
        "    \n",
        "    def backward(self, dout=1):\n",
        "        dout = self.loss_layer.backward(dout)\n",
        "        for layer in reversed(self.layers):\n",
        "            dout = layer.backward(dout)\n",
        "        return dout\n",
        "\n",
        "    def reset_state(self):\n",
        "        self.rnn_layer.reset_state()"
      ],
      "execution_count": null,
      "outputs": []
    },
    {
      "cell_type": "markdown",
      "metadata": {
        "id": "yA8ccMxzu9Hh"
      },
      "source": [
        "*5.5.3 training code of RNNLM*"
      ]
    },
    {
      "cell_type": "code",
      "metadata": {
        "id": "MqDR6J9gxM6K"
      },
      "source": [
        "import sys\n",
        "sys.path.append('..')\n",
        "import matplotlib.pyplot as plt\n",
        "import numpy as np\n",
        "from common.optimizer import SGD\n",
        "from dataset import ptb\n",
        "\n",
        "# hyperparameter configuration\n",
        "batch_size = 10\n",
        "wordvec_size = 100\n",
        "hidden_size = 100 # number of element of hidden state vector of RNN\n",
        "time_size = 5 # Time size that Truncated BPTT flat once\n",
        "lr = 0.1\n",
        "max_epoch = 100\n",
        "\n",
        "# train data read(1000 of all data)\n",
        "corpus, word_to_id, id_to_word = ptb.load_data('train')\n",
        "corpus_size = 1000\n",
        "corpus = corpus[:corpus_size]\n",
        "vocab_size = int(max(corpus) + 1)\n",
        "\n",
        "xs = corpus[:-1] # input\n",
        "ts = corpus[1:] # output(answer label)\n",
        "data_size = len(xs)\n",
        "print(f\"corpus size: {corpus_size}, vocab size: {vocab_size}\")\n",
        "\n",
        "# variable using training\n",
        "max_iters = data_size // (batch_size * time_size)\n",
        "time_idx = 0\n",
        "total_loss = 0\n",
        "loss_count = 0\n",
        "ppl_list = []\n",
        "\n",
        "# model generate\n",
        "model = SimpleRnnlm(vocab_size, wordvec_size, hidden_size)\n",
        "optimizer = SGD(lr)\n",
        "\n",
        "# 1. start pos calculate\n",
        "jump = (corpus_size - 1) // batch_size\n",
        "offsets = [i * jump for i in range(batch_size)]\n",
        "\n",
        "for epoch in range(max_epoch):\n",
        "    for iter in range(max_iters):\n",
        "        # mini-batch obtain\n",
        "        batch_x = np.empty((batch_size, time_size), dtype='i')\n",
        "        batch_t = np.empty((batch_size, time_size), dtype='i')\n",
        "        for t in range(time_size):\n",
        "            for i, offset in enumerate(offsets):\n",
        "                batch_x[i, t] = xs[(offset + time_idx) % data_size]\n",
        "                batch_t[i, t] = ts[(offset + time_idx) % data_size]\n",
        "            time_idx += 1\n",
        "        \n",
        "        # parameter renew to obtain gradient\n",
        "        loss = model.forward(batch_x, batch_t)\n",
        "        model.backward()\n",
        "        optimizer.update(model.params, model.grads)\n",
        "        total_loss += loss\n",
        "        loss_count += 1\n",
        "\n",
        "    # perplexity evaluation every epoch\n",
        "    ppl = np.exp(total_loss / loss_count)\n",
        "    print(f\"| epoch {epoch + 1} | perplexity: {ppl: .2f}\")\n",
        "    ppl_list.append(float(ppl))\n",
        "    total_loss, loss_count = 0, 0"
      ],
      "execution_count": null,
      "outputs": []
    },
    {
      "cell_type": "markdown",
      "metadata": {
        "id": "KXvWZGXe5U5T"
      },
      "source": [
        "*5.5.4 Trainer Class of RNNLM*"
      ]
    },
    {
      "cell_type": "code",
      "metadata": {
        "id": "YNX8-PRI1JZ_"
      },
      "source": [
        "import sys\n",
        "sys.path.append('..')\n",
        "import matplotlib.pyplot as plt\n",
        "import numpy as np\n",
        "from common.optimizer import SGD\n",
        "from dataset import ptb\n",
        "from common.trainer import RnnlmTrainer\n",
        "\n",
        "# hyperparameter configuration\n",
        "batch_size = 10\n",
        "wordvec_size = 100\n",
        "hidden_size = 100 # number of element of hidden state vector of RNN\n",
        "time_size = 5 # Time size that Truncated BPTT flat once\n",
        "lr = 0.1\n",
        "max_epoch = 100\n",
        "\n",
        "# train data read(1000 of all data)\n",
        "corpus, word_to_id, id_to_word = ptb.load_data('train')\n",
        "corpus_size = 1000\n",
        "corpus = corpus[:corpus_size]\n",
        "vocab_size = int(max(corpus) + 1)\n",
        "\n",
        "xs = corpus[:-1] # input\n",
        "ts = corpus[1:] # output(answer label)\n",
        "data_size = len(xs)\n",
        "print(f\"corpus size: {corpus_size}, vocab size: {vocab_size}\")\n",
        "\n",
        "# variable using training\n",
        "max_iters = data_size // (batch_size * time_size)\n",
        "time_idx = 0\n",
        "total_loss = 0\n",
        "loss_count = 0\n",
        "ppl_list = []\n",
        "\n",
        "# model generate\n",
        "model = SimpleRnnlm(vocab_size, wordvec_size, hidden_size)\n",
        "optimizer = SGD(lr)\n",
        "trainer = RnnlmTrainer(model, optimizer)\n",
        "\n",
        "trainer.fit(xs, ts, max_epoch, batch_size, time_size)\n",
        "trainer.plot()"
      ],
      "execution_count": null,
      "outputs": []
    }
  ]
}