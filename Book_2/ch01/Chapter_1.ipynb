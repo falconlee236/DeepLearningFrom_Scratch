{
  "nbformat": 4,
  "nbformat_minor": 0,
  "metadata": {
    "colab": {
      "name": "Chapter_1.ipynb",
      "private_outputs": true,
      "provenance": [],
      "collapsed_sections": [],
      "mount_file_id": "1pTFRReWFqjj1NGsPOkbwCrTx1C1aa-lh",
      "authorship_tag": "ABX9TyOnn6pqAANMOjWJ5beApIUj",
      "include_colab_link": true
    },
    "kernelspec": {
      "name": "python3",
      "display_name": "Python 3"
    },
    "language_info": {
      "name": "python"
    }
  },
  "cells": [
    {
      "cell_type": "markdown",
      "metadata": {
        "id": "view-in-github",
        "colab_type": "text"
      },
      "source": [
        "<a href=\"https://colab.research.google.com/github/falconlee236/DeepLearningFrom_Scratch/blob/main/Book_2/ch01/Chapter_1.ipynb\" target=\"_parent\"><img src=\"https://colab.research.google.com/assets/colab-badge.svg\" alt=\"Open In Colab\"/></a>"
      ]
    },
    {
      "cell_type": "markdown",
      "metadata": {
        "id": "uPnDHKeIJfUA"
      },
      "source": [
        "# Chapter 1 Neural Network Review"
      ]
    },
    {
      "cell_type": "markdown",
      "metadata": {
        "id": "XkRH1j5UKHtW"
      },
      "source": [
        "**1.1 Mathematics and Python Review**"
      ]
    },
    {
      "cell_type": "markdown",
      "metadata": {
        "id": "MMI2IX_PKiVK"
      },
      "source": [
        "*1.1.1 Vector and Matrix*"
      ]
    },
    {
      "cell_type": "code",
      "metadata": {
        "id": "ZJ-QNZghKmz7"
      },
      "source": [
        "import numpy as np\n",
        "\n",
        "x = np.array([1, 2, 3])\n",
        "x.__class__ # class name display"
      ],
      "execution_count": null,
      "outputs": []
    },
    {
      "cell_type": "code",
      "metadata": {
        "id": "h_ehy-E3KvVH"
      },
      "source": [
        "x.shape"
      ],
      "execution_count": null,
      "outputs": []
    },
    {
      "cell_type": "code",
      "metadata": {
        "id": "5FXYHgLfKxTd"
      },
      "source": [
        "x.ndim"
      ],
      "execution_count": null,
      "outputs": []
    },
    {
      "cell_type": "code",
      "metadata": {
        "id": "DNIro1l2KylF"
      },
      "source": [
        "W = np.array([[1, 2, 3], [4, 5, 6]])\n",
        "W.shape"
      ],
      "execution_count": null,
      "outputs": []
    },
    {
      "cell_type": "code",
      "metadata": {
        "id": "MFwbkVg3K3Rc"
      },
      "source": [
        "W.ndim"
      ],
      "execution_count": null,
      "outputs": []
    },
    {
      "cell_type": "markdown",
      "metadata": {
        "id": "JKP2gcoQK448"
      },
      "source": [
        "*1.1.2 element-wise operations of Matrix*"
      ]
    },
    {
      "cell_type": "code",
      "metadata": {
        "id": "He8syc7eLbar"
      },
      "source": [
        "W = np.array([[1, 2, 3], [4, 5, 6]])\n",
        "X = np.array([[0, 1, 2], [3, 4, 5]])\n",
        "W + X"
      ],
      "execution_count": null,
      "outputs": []
    },
    {
      "cell_type": "code",
      "metadata": {
        "id": "XJ0sr45PLlsC"
      },
      "source": [
        "W * X"
      ],
      "execution_count": null,
      "outputs": []
    },
    {
      "cell_type": "markdown",
      "metadata": {
        "id": "OxhPoY9MLmfh"
      },
      "source": [
        "*1.1.3 BroadCast*"
      ]
    },
    {
      "cell_type": "code",
      "metadata": {
        "id": "hLJV6Tl0MCHB"
      },
      "source": [
        "A = np.array([[1, 2], [3, 4]])\n",
        "A * 10"
      ],
      "execution_count": null,
      "outputs": []
    },
    {
      "cell_type": "code",
      "metadata": {
        "id": "xMzFJPbdMGUw"
      },
      "source": [
        "A = np.array([[1, 2], [3, 4]])\n",
        "b = np.array([10, 20])\n",
        "A * b"
      ],
      "execution_count": null,
      "outputs": []
    },
    {
      "cell_type": "markdown",
      "metadata": {
        "id": "Bs_KHnJ-MOAD"
      },
      "source": [
        "*1.1.4 dot-product of Vector and multiplication of Matrix*"
      ]
    },
    {
      "cell_type": "code",
      "metadata": {
        "id": "qOKTCinzMsWb"
      },
      "source": [
        "# dot product of vector\n",
        "a = np.array([1, 2, 3])\n",
        "b = np.array([4, 5, 6])\n",
        "np.dot(a, b)"
      ],
      "execution_count": null,
      "outputs": []
    },
    {
      "cell_type": "code",
      "metadata": {
        "id": "maEY7VjeOuaq"
      },
      "source": [
        "# multiplication of Matrix\n",
        "A = np.array([[1, 2], [3, 4]])\n",
        "B = np.array([[5, 6], [7, 8]])\n",
        "np.matmul(A, B)"
      ],
      "execution_count": null,
      "outputs": []
    },
    {
      "cell_type": "markdown",
      "metadata": {
        "id": "8roZc7WLO61w"
      },
      "source": [
        "**1.2 inference of Neural Network**"
      ]
    },
    {
      "cell_type": "markdown",
      "metadata": {
        "id": "hKk4kglIPUeo"
      },
      "source": [
        "*1.2.1 neural network inference entire picture*"
      ]
    },
    {
      "cell_type": "code",
      "metadata": {
        "id": "CZuZrcXZUuxl"
      },
      "source": [
        "import numpy as np\n",
        "w1 = np.random.randn(2, 4) # weight\n",
        "b1 = np.random.randn(4) # bias\n",
        "x = np.random.randn(10, 2) # input\n",
        "h = np.matmul(x, w1) + b1"
      ],
      "execution_count": null,
      "outputs": []
    },
    {
      "cell_type": "code",
      "metadata": {
        "id": "MYFAvQHmVHF2"
      },
      "source": [
        "def sigmoid(x):\n",
        "    return 1 / (1 + np.exp(-x))"
      ],
      "execution_count": null,
      "outputs": []
    },
    {
      "cell_type": "code",
      "metadata": {
        "id": "luJVGcopVog6"
      },
      "source": [
        "a = sigmoid(h)"
      ],
      "execution_count": null,
      "outputs": []
    },
    {
      "cell_type": "code",
      "metadata": {
        "id": "ZOGb6210VsMS"
      },
      "source": [
        "import numpy as np\n",
        "\n",
        "def sigmoid(x):\n",
        "    return 1 / (1 + np.exp(-x))\n",
        "\n",
        "x = np.random.randn(10, 2) \n",
        "w1 = np.random.randn(2, 4) \n",
        "b1 = np.random.randn(4)\n",
        "w2 = np.random.randn(4, 3)\n",
        "b2 = np.random.randn(3)\n",
        "\n",
        "h = np.matmul(x, w1) + b1\n",
        "a = sigmoid(h)\n",
        "s = np.matmul(h, w2) + b2"
      ],
      "execution_count": null,
      "outputs": []
    },
    {
      "cell_type": "markdown",
      "metadata": {
        "id": "cZGoFdtTWR44"
      },
      "source": [
        "*1.2.2 classified to layer and implementation forward*"
      ]
    },
    {
      "cell_type": "code",
      "metadata": {
        "id": "U2JTAcznW-Yi"
      },
      "source": [
        "import numpy as np\n",
        "\n",
        "class Sigmoid:\n",
        "    def __init__(self):\n",
        "        self.params = []\n",
        "    \n",
        "    def forward(self, x):\n",
        "        return 1 / (1 + np.exp(-x))"
      ],
      "execution_count": null,
      "outputs": []
    },
    {
      "cell_type": "code",
      "metadata": {
        "id": "PMKVNdd4X1SR"
      },
      "source": [
        "class Affine:\n",
        "    def __init__(self, W, b):\n",
        "        self.params = [W, b]\n",
        "\n",
        "    def forward(self, x):\n",
        "        W, b = self.params\n",
        "        return np.matmul(x, W) + b"
      ],
      "execution_count": null,
      "outputs": []
    },
    {
      "cell_type": "code",
      "metadata": {
        "id": "Gc9fxL9yYNIr"
      },
      "source": [
        "class TwoLayerNet:\n",
        "    def __init__(self, input_size, hidden_size, output_size):\n",
        "        I, H, O = input_size, hidden_size, output_size\n",
        "\n",
        "        # initalize weight and bias\n",
        "        W1 = np.random.randn(I, H)\n",
        "        b1 = np.random.randn(H)\n",
        "        W2 = np.random.randn(H, O)\n",
        "        b2 = np.random.randn(O)\n",
        "\n",
        "        # layer generate\n",
        "        self.layers = [Affine(W1, b1), Sigmoid(), Affine(W2, b2)]\n",
        "\n",
        "        # collect every weight to list\n",
        "        self.params = []\n",
        "        for layer in self.layers:\n",
        "            self.params += layer.params\n",
        "        \n",
        "    def predict(self, x):\n",
        "        for layer in self.layers:\n",
        "            x = layer.forward(x)\n",
        "        return x"
      ],
      "execution_count": null,
      "outputs": []
    },
    {
      "cell_type": "code",
      "metadata": {
        "id": "5MLwfNclZoVr"
      },
      "source": [
        "a = ['A', 'B']\n",
        "a += ['C', 'D']\n",
        "a"
      ],
      "execution_count": null,
      "outputs": []
    },
    {
      "cell_type": "code",
      "metadata": {
        "id": "Hj7SeTqzaF0o"
      },
      "source": [
        "x = np.random.randn(10, 2)\n",
        "model = TwoLayerNet(2, 4, 3)\n",
        "model.predict(x)"
      ],
      "execution_count": null,
      "outputs": []
    },
    {
      "cell_type": "markdown",
      "metadata": {
        "id": "K2Qx_y4BaSn8"
      },
      "source": [
        "**1.3 training of Neural Network**"
      ]
    },
    {
      "cell_type": "markdown",
      "metadata": {
        "id": "386-lI4ar8n3"
      },
      "source": [
        "*1.3.4 Calculation Graph*"
      ]
    },
    {
      "cell_type": "code",
      "metadata": {
        "id": "7tM8FKhrsBUa"
      },
      "source": [
        "# Repeat Node\n",
        "import numpy as np\n",
        "D, N = 8, 7\n",
        "x = np.random.randn(1, D)\n",
        "y = np.repeat(x, N, axis=0)\n",
        "dy = np.random.randn(N, D) # random gradient\n",
        "dx = np.sum(dy, axis=0, keepdims=True) # backward"
      ],
      "execution_count": null,
      "outputs": []
    },
    {
      "cell_type": "code",
      "metadata": {
        "id": "4Ypj_76cthMV"
      },
      "source": [
        "# Sum Node\n",
        "import numpy as np\n",
        "D, N = 8, 7\n",
        "x = np.random.randn(N, D) # input\n",
        "y = np.sum(x, axis=0, keepdims=True) # forward\n",
        "\n",
        "dy = np.random.randn(1, D) # random graident\n",
        "dx = np.repeat(dy, N, axis=0) # backward"
      ],
      "execution_count": null,
      "outputs": []
    },
    {
      "cell_type": "code",
      "metadata": {
        "id": "-xP1nRx1uAR5"
      },
      "source": [
        "# MatMul Node\n",
        "class MatMul:\n",
        "    def __init__(self, W):\n",
        "        self.params = [W]\n",
        "        self.grads = [np.zeros_like(W)]\n",
        "        self.x = None\n",
        "    \n",
        "    def forward(self, x):\n",
        "        W, = self.params\n",
        "        out = np.matmul(x, W)\n",
        "        self.x = x\n",
        "        return out\n",
        "    \n",
        "    def backward(self, dout):\n",
        "        W, = self.params\n",
        "        dx = np.matmul(dout, W.T)\n",
        "        dW = np.matmul(self.x.T, dout)\n",
        "        self.grads[0][...] = dW # ellipsis symbol(...) -> deep copy in numpy\n",
        "        return dx"
      ],
      "execution_count": null,
      "outputs": []
    },
    {
      "cell_type": "markdown",
      "metadata": {
        "id": "fXo7S34pEm_y"
      },
      "source": [
        "*1.3.5 gradient showing and implementing backward*"
      ]
    },
    {
      "cell_type": "code",
      "metadata": {
        "id": "BCKh3CDlE29X"
      },
      "source": [
        "class Sigmoid:\n",
        "    def __init__(self):\n",
        "        self.params = []\n",
        "        self.out = None\n",
        "    \n",
        "    def forward(self, x):\n",
        "        out = 1 / (1 + np.exp(-x))\n",
        "        self.out = out\n",
        "        return out\n",
        "    \n",
        "    def backward(self, dout):\n",
        "        dx = dout * (1.0 - self.out) * self.out\n",
        "        return dx"
      ],
      "execution_count": null,
      "outputs": []
    },
    {
      "cell_type": "code",
      "metadata": {
        "id": "F6MsuBeBFNOk"
      },
      "source": [
        "class Affine:\n",
        "    def __init__(self, W, b):\n",
        "        self.params = [W, b]\n",
        "        self.grads = [np.zeros_like(W), np.zeros_like(b)]\n",
        "        self.x = None\n",
        "\n",
        "    def forward(self, x):\n",
        "        W, b = self.params\n",
        "        out = np.matmul(x, W) + b\n",
        "        self.x = x\n",
        "        return out\n",
        "    \n",
        "    def backward(self, dout):\n",
        "        W, b = self.params\n",
        "        dx = np.matmul(dout, W.T)\n",
        "        dW = np.matmul(self.x.T, dout)\n",
        "        db = np.sum(dout, axis=0)\n",
        "\n",
        "        self.grads[0][...] = dW\n",
        "        self.grads[1][...] = db\n",
        "        return dx"
      ],
      "execution_count": null,
      "outputs": []
    }
  ]
}