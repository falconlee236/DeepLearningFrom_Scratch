{
  "nbformat": 4,
  "nbformat_minor": 0,
  "metadata": {
    "colab": {
      "name": "Chapter_1.ipynb",
      "private_outputs": true,
      "provenance": [],
      "mount_file_id": "1pTFRReWFqjj1NGsPOkbwCrTx1C1aa-lh",
      "authorship_tag": "ABX9TyMK6YrKJ5Eb+Mnh+udtkOmh",
      "include_colab_link": true
    },
    "kernelspec": {
      "name": "python3",
      "display_name": "Python 3"
    },
    "language_info": {
      "name": "python"
    }
  },
  "cells": [
    {
      "cell_type": "markdown",
      "metadata": {
        "id": "view-in-github",
        "colab_type": "text"
      },
      "source": [
        "<a href=\"https://colab.research.google.com/github/falconlee236/DeepLearningFrom_Scratch/blob/main/Book_2/ch01/Chapter_1.ipynb\" target=\"_parent\"><img src=\"https://colab.research.google.com/assets/colab-badge.svg\" alt=\"Open In Colab\"/></a>"
      ]
    },
    {
      "cell_type": "markdown",
      "metadata": {
        "id": "uPnDHKeIJfUA"
      },
      "source": [
        "# Chapter 1 Neural Network Review"
      ]
    },
    {
      "cell_type": "markdown",
      "metadata": {
        "id": "XkRH1j5UKHtW"
      },
      "source": [
        "**1.1 Mathematics and Python Review**"
      ]
    },
    {
      "cell_type": "markdown",
      "metadata": {
        "id": "MMI2IX_PKiVK"
      },
      "source": [
        "*1.1.1 Vector and Matrix*"
      ]
    },
    {
      "cell_type": "code",
      "metadata": {
        "id": "ZJ-QNZghKmz7"
      },
      "source": [
        "import numpy as np\n",
        "\n",
        "x = np.array([1, 2, 3])\n",
        "x.__class__ # class name display"
      ],
      "execution_count": null,
      "outputs": []
    },
    {
      "cell_type": "code",
      "metadata": {
        "id": "h_ehy-E3KvVH"
      },
      "source": [
        "x.shape"
      ],
      "execution_count": null,
      "outputs": []
    },
    {
      "cell_type": "code",
      "metadata": {
        "id": "5FXYHgLfKxTd"
      },
      "source": [
        "x.ndim"
      ],
      "execution_count": null,
      "outputs": []
    },
    {
      "cell_type": "code",
      "metadata": {
        "id": "DNIro1l2KylF"
      },
      "source": [
        "W = np.array([[1, 2, 3], [4, 5, 6]])\n",
        "W.shape"
      ],
      "execution_count": null,
      "outputs": []
    },
    {
      "cell_type": "code",
      "metadata": {
        "id": "MFwbkVg3K3Rc"
      },
      "source": [
        "W.ndim"
      ],
      "execution_count": null,
      "outputs": []
    },
    {
      "cell_type": "markdown",
      "metadata": {
        "id": "JKP2gcoQK448"
      },
      "source": [
        "*1.1.2 element-wise operations of Matrix*"
      ]
    },
    {
      "cell_type": "code",
      "metadata": {
        "id": "He8syc7eLbar"
      },
      "source": [
        "W = np.array([[1, 2, 3], [4, 5, 6]])\n",
        "X = np.array([[0, 1, 2], [3, 4, 5]])\n",
        "W + X"
      ],
      "execution_count": null,
      "outputs": []
    },
    {
      "cell_type": "code",
      "metadata": {
        "id": "XJ0sr45PLlsC"
      },
      "source": [
        "W * X"
      ],
      "execution_count": null,
      "outputs": []
    },
    {
      "cell_type": "markdown",
      "metadata": {
        "id": "OxhPoY9MLmfh"
      },
      "source": [
        "*1.1.3 BroadCast*"
      ]
    },
    {
      "cell_type": "code",
      "metadata": {
        "id": "hLJV6Tl0MCHB"
      },
      "source": [
        "A = np.array([[1, 2], [3, 4]])\n",
        "A * 10"
      ],
      "execution_count": null,
      "outputs": []
    },
    {
      "cell_type": "code",
      "metadata": {
        "id": "xMzFJPbdMGUw"
      },
      "source": [
        "A = np.array([[1, 2], [3, 4]])\n",
        "b = np.array([10, 20])\n",
        "A * b"
      ],
      "execution_count": null,
      "outputs": []
    },
    {
      "cell_type": "code",
      "metadata": {
        "id": "Bs_KHnJ-MOAD"
      },
      "source": [
        ""
      ],
      "execution_count": null,
      "outputs": []
    }
  ]
}