{
  "nbformat": 4,
  "nbformat_minor": 0,
  "metadata": {
    "colab": {
      "name": "Chapter_8.ipynb",
      "private_outputs": true,
      "provenance": [],
      "mount_file_id": "1BUVjyzSx0tqcNLmlIbmVKjAsNFipMGki",
      "authorship_tag": "ABX9TyPqSB5/zsuJBoFbi1ONcEeI",
      "include_colab_link": true
    },
    "kernelspec": {
      "name": "python3",
      "display_name": "Python 3"
    },
    "language_info": {
      "name": "python"
    }
  },
  "cells": [
    {
      "cell_type": "markdown",
      "metadata": {
        "id": "view-in-github",
        "colab_type": "text"
      },
      "source": [
        "<a href=\"https://colab.research.google.com/github/falconlee236/DeepLearningFrom_Scratch/blob/main/Book_2/ch08/Chapter_8.ipynb\" target=\"_parent\"><img src=\"https://colab.research.google.com/assets/colab-badge.svg\" alt=\"Open In Colab\"/></a>"
      ]
    },
    {
      "cell_type": "markdown",
      "metadata": {
        "id": "JY715aKQejGI"
      },
      "source": [
        "# Chapter 8 Attention"
      ]
    },
    {
      "cell_type": "markdown",
      "metadata": {
        "id": "xVPG-RS6fSbT"
      },
      "source": [
        "**8.1 Structure of Attention**"
      ]
    },
    {
      "cell_type": "markdown",
      "metadata": {
        "id": "RiDFO25ZiDL3"
      },
      "source": [
        "8.1.3 Decoder Improvement 1"
      ]
    },
    {
      "cell_type": "code",
      "metadata": {
        "id": "fOBSOYJXiICV"
      },
      "source": [
        "import numpy as np\n",
        "\n",
        "T, H = 5, 4\n",
        "hs = np.random.randn(T, H)\n",
        "a = np.array([0.8, 0.1, 0.03, 0.05, 0.02])\n",
        "\n",
        "ar = a.reshape(5, 1).repeat(4, axis=1) # -> (5, 1 * 4)\n",
        "print(ar.shape)\n",
        "\n",
        "t = hs * ar\n",
        "print(t.shape)\n",
        "\n",
        "c = np.sum(t, axis=0)\n",
        "print(c.shape)"
      ],
      "execution_count": null,
      "outputs": []
    },
    {
      "cell_type": "code",
      "metadata": {
        "id": "ock64IFkizof"
      },
      "source": [
        "N, T, H = 10, 5, 4\n",
        "hs = np.random.randn(N, T, H)\n",
        "a = np.random.randn(N, T)\n",
        "ar = a.reshape(N, T, 1).repeat(H, axis=2)\n",
        "# or ar = a.reshape(N, T, 1)\n",
        "\n",
        "t = hs * ar\n",
        "print(t.shape)\n",
        "\n",
        "c = np.sum(t, axis=1)\n",
        "print(c.shape)"
      ],
      "execution_count": null,
      "outputs": []
    },
    {
      "cell_type": "code",
      "metadata": {
        "id": "JzQhQvjolFuC"
      },
      "source": [
        "class WeightSum:\n",
        "    def __init__(self):\n",
        "        self.params, self.grads = [], []\n",
        "        self.cache = None\n",
        "\n",
        "    def forward(self, hs, a):\n",
        "        N, T, H = hs.shape\n",
        "\n",
        "        ar = a.reshape(N, T, 1).repeat(H, axis=2)\n",
        "        t = hs * ar\n",
        "        c = np.sum(t,axis=1)\n",
        "\n",
        "        self.cache = (hs, ar)\n",
        "        return c\n",
        "    \n",
        "    def backward(self, dc):\n",
        "        hs, ar = self.cache\n",
        "        N, T, H = hs.shape\n",
        "        \n",
        "        dt = dc.reshape(N, 1, H).repeat(T, axis=1)\n",
        "        dar = dt * hs\n",
        "        dhs = dt * ar\n",
        "        da = np.sum(dar, axis=2) # backward of repeat\n",
        "\n",
        "        return dhs, da"
      ],
      "execution_count": null,
      "outputs": []
    },
    {
      "cell_type": "markdown",
      "metadata": {
        "id": "upNlKlU1mGhH"
      },
      "source": [
        "8.1.4 Decoder Improvement 2"
      ]
    },
    {
      "cell_type": "code",
      "metadata": {
        "id": "h5rD1t8Bwhqb"
      },
      "source": [
        "%cd drive/MyDrive/DeepLearningFrom_Scratch/Book_2/ch08/"
      ],
      "execution_count": null,
      "outputs": []
    },
    {
      "cell_type": "code",
      "metadata": {
        "id": "bLQhoGf0vse2"
      },
      "source": [
        "import sys\n",
        "sys.path.append('..')\n",
        "from common.layers import Softmax\n",
        "import numpy as np\n",
        "\n",
        "N, T, H = 10, 5, 4\n",
        "hs = np.random.randn(N, T, H)\n",
        "h = np.random.randn(N, H)\n",
        "hr = h.reshape(N, 1, H).repeat(T, axis=1)\n",
        "# or hr = h.reshape(N, 1, H)\n",
        "\n",
        "t = hs * hr\n",
        "print(t.shape)\n",
        "\n",
        "s = np.sum(t, axis=2)\n",
        "print(s.shape)\n",
        "\n",
        "softmax = Softmax()\n",
        "a = softmax.forward(s)\n",
        "print(a.shape)"
      ],
      "execution_count": null,
      "outputs": []
    },
    {
      "cell_type": "code",
      "metadata": {
        "id": "jMStXcMFwfus"
      },
      "source": [
        "import sys\n",
        "sys.path.append('..')\n",
        "from common.np import * #import numpy as np\n",
        "from common.layers import Softmax\n",
        "\n",
        "class AttentionWeight:\n",
        "    def __init__(self):\n",
        "        self.params, self.grads = [], []\n",
        "        self.softmax = Softmax()\n",
        "        self.cache = None\n",
        "    \n",
        "    def forward(self, hs, h):\n",
        "        N, T, H = hs.shape\n",
        "\n",
        "        hr = h.reshape(N, 1, H).repeat(T, axis=1)\n",
        "        t = hs * hr\n",
        "        s = np.sum(t, axis=2)\n",
        "        a = self.softmax.forward(s)\n",
        "\n",
        "        self.cache = (hs, hr)\n",
        "        return a\n",
        "\n",
        "    def backward(self, da):\n",
        "        hs, hr = self.cache\n",
        "        N, T, H = hs.shape\n",
        "\n",
        "        ds = self.softmax.backward(da)\n",
        "        dt = ds.reshape(N, T, 1).repeat(H, axis=2)\n",
        "        dhs = dt * hr\n",
        "        dhr = dt * hs\n",
        "        dh = np.sum(dhr, axis=1)\n",
        "\n",
        "        return dhs, dh"
      ],
      "execution_count": null,
      "outputs": []
    },
    {
      "cell_type": "code",
      "metadata": {
        "id": "vlofOWvt020u"
      },
      "source": [
        ""
      ],
      "execution_count": null,
      "outputs": []
    }
  ]
}