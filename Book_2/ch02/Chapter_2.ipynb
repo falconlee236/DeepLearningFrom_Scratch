{
  "nbformat": 4,
  "nbformat_minor": 0,
  "metadata": {
    "colab": {
      "name": "Chapter_2.ipynb",
      "private_outputs": true,
      "provenance": [],
      "collapsed_sections": [],
      "mount_file_id": "1m3L4tDdWF1rjRVKXkDWWSpbw56UGI9Uo",
      "authorship_tag": "ABX9TyNz5xWBblM8uqN7clPeNazA",
      "include_colab_link": true
    },
    "kernelspec": {
      "name": "python3",
      "display_name": "Python 3"
    },
    "language_info": {
      "name": "python"
    }
  },
  "cells": [
    {
      "cell_type": "markdown",
      "metadata": {
        "id": "view-in-github",
        "colab_type": "text"
      },
      "source": [
        "<a href=\"https://colab.research.google.com/github/falconlee236/DeepLearningFrom_Scratch/blob/main/Book_2/ch02/Chapter_2.ipynb\" target=\"_parent\"><img src=\"https://colab.research.google.com/assets/colab-badge.svg\" alt=\"Open In Colab\"/></a>"
      ]
    },
    {
      "cell_type": "markdown",
      "metadata": {
        "id": "ZLqsGZrwpzMB"
      },
      "source": [
        "# Chapter 2 Distributed Representation of Natural Language and word"
      ]
    },
    {
      "cell_type": "markdown",
      "metadata": {
        "id": "7y6dXI2dqMOH"
      },
      "source": [
        "**2.3 Statistical-Based Techniques**"
      ]
    },
    {
      "cell_type": "markdown",
      "metadata": {
        "id": "ITgOPw98sPIe"
      },
      "source": [
        "*2.3.1 Corpus preprocessing from python*"
      ]
    },
    {
      "cell_type": "code",
      "metadata": {
        "id": "-oaHSYCDsYcY"
      },
      "source": [
        "text = \"You say goodbye and I say hello.\""
      ],
      "execution_count": null,
      "outputs": []
    },
    {
      "cell_type": "code",
      "metadata": {
        "id": "IyW5bbA3sdQZ"
      },
      "source": [
        "text = text.lower()\n",
        "text = text.replace('.', ' .')\n",
        "text"
      ],
      "execution_count": null,
      "outputs": []
    },
    {
      "cell_type": "code",
      "metadata": {
        "id": "2KFEfBhMsmsF"
      },
      "source": [
        "words = text.split(' ')\n",
        "words"
      ],
      "execution_count": null,
      "outputs": []
    },
    {
      "cell_type": "code",
      "metadata": {
        "id": "D1HAB6vJsrRl"
      },
      "source": [
        "word_to_id = {}\n",
        "id_to_word = {}\n",
        "\n",
        "for word in words:\n",
        "    if word not in word_to_id:\n",
        "        new_id = len(word_to_id)\n",
        "        word_to_id[word] = new_id\n",
        "        id_to_word[new_id] = word"
      ],
      "execution_count": null,
      "outputs": []
    },
    {
      "cell_type": "code",
      "metadata": {
        "id": "21G5E91uuZaK"
      },
      "source": [
        "id_to_word"
      ],
      "execution_count": null,
      "outputs": []
    },
    {
      "cell_type": "code",
      "metadata": {
        "id": "y-J9YlQpuaU3"
      },
      "source": [
        "word_to_id"
      ],
      "execution_count": null,
      "outputs": []
    },
    {
      "cell_type": "code",
      "metadata": {
        "id": "UCoSKZF_ucdY"
      },
      "source": [
        "id_to_word[1]"
      ],
      "execution_count": null,
      "outputs": []
    },
    {
      "cell_type": "code",
      "metadata": {
        "id": "sQtlV552uhU-"
      },
      "source": [
        "word_to_id['hello']"
      ],
      "execution_count": null,
      "outputs": []
    },
    {
      "cell_type": "code",
      "metadata": {
        "id": "S7nytqmMujVN"
      },
      "source": [
        "import numpy as np\n",
        "corpus = [word_to_id[w] for w in words]\n",
        "corpus = np.array(corpus)\n",
        "corpus"
      ],
      "execution_count": null,
      "outputs": []
    },
    {
      "cell_type": "code",
      "metadata": {
        "id": "LRkfQrcpuzUa"
      },
      "source": [
        "def preprocess(text):\n",
        "    text = text.lower()\n",
        "    text = text.replace('.', ' .')\n",
        "    words = text.split()\n",
        "\n",
        "    word_to_id = {}\n",
        "    id_to_word = {}\n",
        "    for word in words:\n",
        "        if word not in word_to_id:\n",
        "            new_id = len(word_to_id)\n",
        "            word_to_id[word] = new_id\n",
        "            id_to_word[new_id] = word\n",
        "    \n",
        "    corpus = np.array([word_to_id[w] for w in words])\n",
        "\n",
        "    return corpus, word_to_id, id_to_word"
      ],
      "execution_count": null,
      "outputs": []
    },
    {
      "cell_type": "code",
      "metadata": {
        "id": "lfuq7sqGvitW"
      },
      "source": [
        "text = \"You say goodbye and I say hello.\"\n",
        "corpus, word_to_id, id_to_word = preprocess(text)"
      ],
      "execution_count": null,
      "outputs": []
    },
    {
      "cell_type": "markdown",
      "metadata": {
        "id": "66xG4aJdzBuQ"
      },
      "source": [
        "*2.3.4 Co-occurence Matrix*"
      ]
    },
    {
      "cell_type": "code",
      "metadata": {
        "id": "nTWom987voW6"
      },
      "source": [
        "import numpy as np\n",
        "text = 'You say goodbye and I say hello.'\n",
        "corpus, word_to_id, id_to_word = preprocess(text)\n",
        "\n",
        "print(corpus)\n",
        "# [01 2 3 4 1 5 6]\n",
        "\n",
        "print(id_to_word)\n",
        "# {0: 'you', 1: 'say', 2:'goodbye', 3: 'and', 4: 'i', 5: 'hello', 6: '.'}"
      ],
      "execution_count": null,
      "outputs": []
    },
    {
      "cell_type": "code",
      "metadata": {
        "id": "nAaSIqXjysKF"
      },
      "source": [
        "C = np.array([\n",
        "              [0, 1, 0, 0, 0, 0, 0],\n",
        "              [1, 0, 1, 0, 1, 1, 0],\n",
        "              [0, 1, 0, 1, 0, 0, 0],\n",
        "              [0, 0, 1, 0, 1, 0, 0],\n",
        "              [0, 1, 0, 1, 0, 0, 0],\n",
        "              [0, 1, 0, 0, 0, 0, 1],\n",
        "              [0, 0, 0, 0, 0, 1, 0]\n",
        "], dtype=np.int32)"
      ],
      "execution_count": null,
      "outputs": []
    },
    {
      "cell_type": "code",
      "metadata": {
        "id": "x9zstWuhzo1v"
      },
      "source": [
        "print(C[0]) # vector representation of word that has 0 id\n",
        "# [0 1 0 0 0 0 0]\n",
        "\n",
        "print(C[4]) # vector representation of word that has 4 id\n",
        "# [0 1 0 1 0 0 0]\n",
        "\n",
        "print(C[word_to_id['goodbye']]) # vector representation of 'goodbye'\n",
        "# [0 1 0 1 0 0 0]"
      ],
      "execution_count": null,
      "outputs": []
    },
    {
      "cell_type": "code",
      "metadata": {
        "id": "cW-fueW40IWZ"
      },
      "source": [
        "def create_co_matrix(corpus, vocab_size, window_size=1):\n",
        "    corpus_size = len(corpus)\n",
        "    co_matrix = np.zeros((vocab_size, vocab_size), dtype=np.int32)\n",
        "\n",
        "    for idx, word_id in enumerate(corpus):\n",
        "        for i in range(1, window_size + 1):\n",
        "            left_idx = idx - i\n",
        "            right_idx = idx + i\n",
        "\n",
        "            if left_idx >= 0:\n",
        "                left_word_id = corpus[left_idx]\n",
        "                co_matrix[word_id, left_word_id] += 1\n",
        "            \n",
        "            if right_idx < corpus_size:\n",
        "                right_word_id = corpus[right_idx]\n",
        "                co_matrix[word_id, right_word_id] += 1\n",
        "        \n",
        "    return co_matrix"
      ],
      "execution_count": null,
      "outputs": []
    },
    {
      "cell_type": "markdown",
      "metadata": {
        "id": "Llz42-uR1kDL"
      },
      "source": [
        "*2.3.5 Between vector Similarity*"
      ]
    },
    {
      "cell_type": "code",
      "metadata": {
        "id": "jbcElNr02Fll"
      },
      "source": [
        "def cos_similarity(x, y):\n",
        "    nx = x / np.sqrt(np.sum(x ** 2)) # normalization of x\n",
        "    ny = y / np.sqrt(np.sum(y ** 2)) # normalization of y\n",
        "    return np.dot(nx, ny)"
      ],
      "execution_count": null,
      "outputs": []
    },
    {
      "cell_type": "code",
      "metadata": {
        "id": "gPxoTD4D2wAY"
      },
      "source": [
        "def cos_similarity(x, y, eps=1e-8):\n",
        "    nx = x / np.sqrt(np.sum(x ** 2) + eps)\n",
        "    ny = y / np.sqrt(np.sum(y ** 2) + eps)\n",
        "    return np.dot(nx, ny)"
      ],
      "execution_count": null,
      "outputs": []
    },
    {
      "cell_type": "code",
      "metadata": {
        "id": "JrIvtCgD3APn"
      },
      "source": [
        "import numpy as np\n",
        "\n",
        "text = 'You say goodbye and I say hello.'\n",
        "corpus, word_to_id, id_to_word = preprocess(text)\n",
        "vocab_size = len(word_to_id)\n",
        "C = create_co_matrix(corpus, vocab_size)\n",
        "\n",
        "c0 = C[word_to_id['you']] # word vector of \"you\"\n",
        "c1 = C[word_to_id['i']] # word vector of \"i\"\n",
        "print(cos_similarity(c0, c1))"
      ],
      "execution_count": null,
      "outputs": []
    },
    {
      "cell_type": "markdown",
      "metadata": {
        "id": "Ltpqh-TX3iRi"
      },
      "source": [
        "*2.3.6 Ranking presentation of similar word*"
      ]
    },
    {
      "cell_type": "code",
      "metadata": {
        "id": "_1roepJn4PGu"
      },
      "source": [
        "def most_similar(query, word_to_id, id_to_word, word_matrix, top=5):\n",
        "    # 1. pop query\n",
        "    if query not in word_to_id:\n",
        "        print(f\"{query} is not found.\")\n",
        "        return\n",
        "    \n",
        "    print('\\n[query] ' + query)\n",
        "    query_id = word_to_id[query]\n",
        "    query_vec = word_matrix[query_id]\n",
        "\n",
        "    # 2. cos simliarity calculate\n",
        "    vocab_size = len(id_to_word)\n",
        "    similarity = np.zeros(vocab_size)\n",
        "    for i in range(vocab_size):\n",
        "        similarity[i] = cos_similarity(word_matrix[i], query_vec)\n",
        "\n",
        "    # 3. print descending order cos-simliarity based\n",
        "    count = 0\n",
        "    for i in (-1 * similarity).argsort():\n",
        "        if id_to_word[i] == query:\n",
        "            continue\n",
        "        print(f\"{id_to_word[i]}: {similarity[i]}\")\n",
        "\n",
        "        count += 1\n",
        "        if count >= top:\n",
        "            return"
      ],
      "execution_count": null,
      "outputs": []
    },
    {
      "cell_type": "code",
      "metadata": {
        "id": "YutTNRko6tu5"
      },
      "source": [
        "x = np.array([100, -20, 2])\n",
        "x.argsort()"
      ],
      "execution_count": null,
      "outputs": []
    },
    {
      "cell_type": "code",
      "metadata": {
        "id": "ajMKmLx1639R"
      },
      "source": [
        "(-x).argsort()"
      ],
      "execution_count": null,
      "outputs": []
    },
    {
      "cell_type": "code",
      "metadata": {
        "id": "zqW16IVX67Tu"
      },
      "source": [
        "import numpy as np\n",
        "\n",
        "text = 'You say goodbye and I say hello.'\n",
        "corpus, word_to_id, id_to_word = preprocess(text)\n",
        "vocab_size = len(word_to_id)\n",
        "C = create_co_matrix(corpus, vocab_size)\n",
        "\n",
        "most_similar('you', word_to_id, id_to_word, C, top=5)"
      ],
      "execution_count": null,
      "outputs": []
    },
    {
      "cell_type": "markdown",
      "metadata": {
        "id": "C3howODA7Iod"
      },
      "source": [
        "**2.4 Improving Statistical-Based Techniques**"
      ]
    },
    {
      "cell_type": "markdown",
      "metadata": {
        "id": "NZGk4Rwmf7b3"
      },
      "source": [
        "*2.4.1 Pointwise Mutual Information(PMI)*"
      ]
    },
    {
      "cell_type": "code",
      "metadata": {
        "id": "fC1icMYjgDn_"
      },
      "source": [
        "def ppmi(C, verbose=False, eps=1e-8):\n",
        "    M = np.zeros_like(C, dtype=np.float32)\n",
        "    N = np.sum(C)\n",
        "    S = np.sum(C, axis=0)\n",
        "    total = C.shape[0] * C.shape[1]\n",
        "    cnt = 0\n",
        "\n",
        "    for i in range(C.shape[0]):\n",
        "        for j in range(C.shape[1]):\n",
        "            pmi = np.log2(C[i, j] * N / (S[j]*S[i] + eps))\n",
        "            M[i, j] = max(0, pmi)\n",
        "\n",
        "            if verbose:\n",
        "                cnt += 1\n",
        "                if cnt % (total//100) == 0:\n",
        "                    print(f\"{100*cnt/total: .1f}% complete\")\n",
        "    return M"
      ],
      "execution_count": null,
      "outputs": []
    },
    {
      "cell_type": "code",
      "metadata": {
        "id": "ja_JPB6ej21u"
      },
      "source": [
        "import numpy as np\n",
        "\n",
        "text = 'You say goodby and I say Hello.'\n",
        "corpus, word_to_id, id_to_word = preprocess(text)\n",
        "vocab_size = len(word_to_id)\n",
        "C = create_co_matrix(corpus, vocab_size)\n",
        "W = ppmi(C)\n",
        "\n",
        "np.set_printoptions(precision=3) # 3 Significant Digits\n",
        "print(\"co-occurence matrix\")\n",
        "print(C)\n",
        "print('-'*50)\n",
        "print('PPMI')\n",
        "print(W)"
      ],
      "execution_count": null,
      "outputs": []
    },
    {
      "cell_type": "markdown",
      "metadata": {
        "id": "qZIqw7A1kWr7"
      },
      "source": [
        "*2.4.3 Dimensionality reduction about SVD*"
      ]
    },
    {
      "cell_type": "code",
      "metadata": {
        "id": "gtVIlmvgmkLr"
      },
      "source": [
        "import numpy as np\n",
        "import matplotlib.pyplot as plt\n",
        "\n",
        "text = 'You say goodby and I say Hello.'\n",
        "corpus, word_to_id, id_to_word = preprocess(text)\n",
        "vocab_size = len(word_to_id)\n",
        "C = create_co_matrix(corpus, vocab_size)\n",
        "W = ppmi(C)\n",
        "\n",
        "# SVD\n",
        "U, S, V = np.linalg.svd(W)"
      ],
      "execution_count": null,
      "outputs": []
    },
    {
      "cell_type": "code",
      "metadata": {
        "id": "qJoBuLIfm81u"
      },
      "source": [
        "print(C[0]) # co-occurence matrix\n",
        "print(W[0]) # PPMI matrix\n",
        "print(U[0]) # SVD"
      ],
      "execution_count": null,
      "outputs": []
    },
    {
      "cell_type": "code",
      "metadata": {
        "id": "9YhLRz9UnR33"
      },
      "source": [
        "print(U[0, :2])"
      ],
      "execution_count": null,
      "outputs": []
    },
    {
      "cell_type": "code",
      "metadata": {
        "id": "2pjPoAGYnc23"
      },
      "source": [
        "for word, word_id in word_to_id.items():\n",
        "    plt.annotate(word, (U[word_id, 0], U[word_id, 1]))\n",
        "\n",
        "plt.scatter(U[:, 0], U[:, 1], alpha=0.5)\n",
        "plt.show()"
      ],
      "execution_count": null,
      "outputs": []
    },
    {
      "cell_type": "markdown",
      "metadata": {
        "id": "9urQjuD6peG1"
      },
      "source": [
        "*2.4.4 PTB Dataset*"
      ]
    },
    {
      "cell_type": "code",
      "metadata": {
        "id": "kOFQVruLq-7f"
      },
      "source": [
        "%cd drive/MyDrive/DeepLearningFrom_Scratch/Book_2/ch02"
      ],
      "execution_count": null,
      "outputs": []
    },
    {
      "cell_type": "code",
      "metadata": {
        "id": "DrPgzz7rqTwK"
      },
      "source": [
        "import sys\n",
        "sys.path.append('..')\n",
        "from dataset import ptb\n",
        "\n",
        "corpus, word_to_id, id_to_word = ptb.load_data('train')\n",
        "\n",
        "print(f'corpus size: {len(corpus)}')\n",
        "print(f\"corpus[:30]: {corpus[:30]}\")\n",
        "print()\n",
        "print(f\"id_to_word[0]: {id_to_word[0]}\")\n",
        "print(f\"id_to_word[1]: {id_to_word[1]}\")\n",
        "print(f\"id_to_word[2]: {id_to_word[2]}\")\n",
        "print()\n",
        "print(f\"word_to_id['car']: {word_to_id['car']}\")\n",
        "print(f\"word_to_id['happy']: {word_to_id['happy']}\")\n",
        "print(f\"word_to_id['lexus']: {word_to_id['lexus']}\")"
      ],
      "execution_count": null,
      "outputs": []
    },
    {
      "cell_type": "markdown",
      "metadata": {
        "id": "u2RVjo3lsAcX"
      },
      "source": [
        "*2.4.5 PTB dataset Review*"
      ]
    },
    {
      "cell_type": "code",
      "metadata": {
        "id": "55cnensrsfzJ"
      },
      "source": [
        "import sys\n",
        "sys.path.append(\"..\")\n",
        "import numpy as np\n",
        "from dataset import ptb\n",
        "\n",
        "window_size = 2\n",
        "wordvec_size = 100\n",
        "\n",
        "corpus, word_to_id, id_to_word = ptb.load_data('train')\n",
        "vocab_size = len(word_to_id)\n",
        "print('co occurence number calculating ...')\n",
        "C = create_co_matrix(corpus, vocab_size, window_size)\n",
        "print('PPMI calculating ...')\n",
        "W = ppmi(C, verbose=True)\n",
        "\n",
        "print('SVD calculating ...')\n",
        "try:\n",
        "    # truncated SVD (fast!)\n",
        "    from sklearn.utils.extmath import randomized_svd\n",
        "    U, S, V = randomized_svd(W, n_components=wordvec_size, n_iter=5, random_state=None)\n",
        "\n",
        "except ImportError:\n",
        "    # SVD (slow)\n",
        "    U, S, V = np.linalg.svd(W)\n",
        "\n",
        "word_vecs = U[:, :wordvec_size]\n",
        "\n",
        "querys = ['you', 'year', 'car', 'toyota']\n",
        "for query in querys:\n",
        "    most_similar(query, word_to_id, id_to_word, word_vecs, top=5)"
      ],
      "execution_count": null,
      "outputs": []
    },
    {
      "cell_type": "code",
      "metadata": {
        "id": "iIKEsCdOsxIA"
      },
      "source": [
        ""
      ],
      "execution_count": null,
      "outputs": []
    }
  ]
}