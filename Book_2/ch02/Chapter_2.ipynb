{
  "nbformat": 4,
  "nbformat_minor": 0,
  "metadata": {
    "colab": {
      "name": "Chapter_2.ipynb",
      "private_outputs": true,
      "provenance": [],
      "mount_file_id": "1m3L4tDdWF1rjRVKXkDWWSpbw56UGI9Uo",
      "authorship_tag": "ABX9TyOCNmzgyc5n2gs3qfV2fjIK",
      "include_colab_link": true
    },
    "kernelspec": {
      "name": "python3",
      "display_name": "Python 3"
    },
    "language_info": {
      "name": "python"
    }
  },
  "cells": [
    {
      "cell_type": "markdown",
      "metadata": {
        "id": "view-in-github",
        "colab_type": "text"
      },
      "source": [
        "<a href=\"https://colab.research.google.com/github/falconlee236/DeepLearningFrom_Scratch/blob/main/Book_2/ch02/Chapter_2.ipynb\" target=\"_parent\"><img src=\"https://colab.research.google.com/assets/colab-badge.svg\" alt=\"Open In Colab\"/></a>"
      ]
    },
    {
      "cell_type": "markdown",
      "metadata": {
        "id": "ZLqsGZrwpzMB"
      },
      "source": [
        "# Chapter 2 Distributed Representation of Natural Language and word"
      ]
    },
    {
      "cell_type": "markdown",
      "metadata": {
        "id": "7y6dXI2dqMOH"
      },
      "source": [
        "**2.3 Statistical-Based Techniques**"
      ]
    },
    {
      "cell_type": "markdown",
      "metadata": {
        "id": "ITgOPw98sPIe"
      },
      "source": [
        "*2.3.1 Corpus preprocessing from python*"
      ]
    },
    {
      "cell_type": "code",
      "metadata": {
        "id": "-oaHSYCDsYcY"
      },
      "source": [
        "text = \"You say goodbye and I say hello.\""
      ],
      "execution_count": null,
      "outputs": []
    },
    {
      "cell_type": "code",
      "metadata": {
        "id": "IyW5bbA3sdQZ"
      },
      "source": [
        "text = text.lower()\n",
        "text = text.replace('.', ' .')\n",
        "text"
      ],
      "execution_count": null,
      "outputs": []
    },
    {
      "cell_type": "code",
      "metadata": {
        "id": "2KFEfBhMsmsF"
      },
      "source": [
        "words = text.split(' ')\n",
        "words"
      ],
      "execution_count": null,
      "outputs": []
    },
    {
      "cell_type": "code",
      "metadata": {
        "id": "D1HAB6vJsrRl"
      },
      "source": [
        "word_to_id = {}\n",
        "id_to_word = {}\n",
        "\n",
        "for word in words:\n",
        "    if word not in word_to_id:\n",
        "        new_id = len(word_to_id)\n",
        "        word_to_id[word] = new_id\n",
        "        id_to_word[new_id] = word"
      ],
      "execution_count": null,
      "outputs": []
    },
    {
      "cell_type": "code",
      "metadata": {
        "id": "21G5E91uuZaK"
      },
      "source": [
        "id_to_word"
      ],
      "execution_count": null,
      "outputs": []
    },
    {
      "cell_type": "code",
      "metadata": {
        "id": "y-J9YlQpuaU3"
      },
      "source": [
        "word_to_id"
      ],
      "execution_count": null,
      "outputs": []
    },
    {
      "cell_type": "code",
      "metadata": {
        "id": "UCoSKZF_ucdY"
      },
      "source": [
        "id_to_word[1]"
      ],
      "execution_count": null,
      "outputs": []
    },
    {
      "cell_type": "code",
      "metadata": {
        "id": "sQtlV552uhU-"
      },
      "source": [
        "word_to_id['hello']"
      ],
      "execution_count": null,
      "outputs": []
    },
    {
      "cell_type": "code",
      "metadata": {
        "id": "S7nytqmMujVN"
      },
      "source": [
        "import numpy as np\n",
        "corpus = [word_to_id[w] for w in words]\n",
        "corpus = np.array(corpus)\n",
        "corpus"
      ],
      "execution_count": null,
      "outputs": []
    },
    {
      "cell_type": "code",
      "metadata": {
        "id": "LRkfQrcpuzUa"
      },
      "source": [
        "def preprocess(text):\n",
        "    text = text.lower()\n",
        "    text = text.replace('.', ' .')\n",
        "    words = text.split()\n",
        "\n",
        "    word_to_id = {}\n",
        "    id_to_word = {}\n",
        "    for word in words:\n",
        "        if word not in word_to_id:\n",
        "            new_id = len(word_to_id)\n",
        "            word_to_id[word] = new_id\n",
        "            id_to_word[new_id] = word\n",
        "    \n",
        "    corpus = np.array([word_to_id[w] for w in words])\n",
        "\n",
        "    return corpus, word_to_id, id_to_word"
      ],
      "execution_count": null,
      "outputs": []
    },
    {
      "cell_type": "code",
      "metadata": {
        "id": "lfuq7sqGvitW"
      },
      "source": [
        "text = \"You say goodbye and I say hello.\"\n",
        "corpus, word_to_id, id_to_word = preprocess(text)"
      ],
      "execution_count": null,
      "outputs": []
    },
    {
      "cell_type": "code",
      "metadata": {
        "id": "nTWom987voW6"
      },
      "source": [
        ""
      ],
      "execution_count": null,
      "outputs": []
    }
  ]
}