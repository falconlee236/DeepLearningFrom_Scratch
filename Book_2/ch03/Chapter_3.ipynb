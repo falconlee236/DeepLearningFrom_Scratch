{
  "nbformat": 4,
  "nbformat_minor": 0,
  "metadata": {
    "colab": {
      "name": "Chapter_3.ipynb",
      "private_outputs": true,
      "provenance": [],
      "mount_file_id": "1jKYb66wA0uLUyBu5E6ThdvAKEedxt-Qd",
      "authorship_tag": "ABX9TyPJjaeOJrkNiuF5VUMHgvxO",
      "include_colab_link": true
    },
    "kernelspec": {
      "name": "python3",
      "display_name": "Python 3"
    },
    "language_info": {
      "name": "python"
    }
  },
  "cells": [
    {
      "cell_type": "markdown",
      "metadata": {
        "id": "view-in-github",
        "colab_type": "text"
      },
      "source": [
        "<a href=\"https://colab.research.google.com/github/falconlee236/DeepLearningFrom_Scratch/blob/main/Book_2/ch03/Chapter_3.ipynb\" target=\"_parent\"><img src=\"https://colab.research.google.com/assets/colab-badge.svg\" alt=\"Open In Colab\"/></a>"
      ]
    },
    {
      "cell_type": "markdown",
      "metadata": {
        "id": "SJtZTYpw2zAC"
      },
      "source": [
        "# Chapter 3 word2vec"
      ]
    },
    {
      "cell_type": "markdown",
      "metadata": {
        "id": "StyILJyi25Tg"
      },
      "source": [
        "**3.1 Inference-based techniques and Nerual Network**"
      ]
    },
    {
      "cell_type": "markdown",
      "metadata": {
        "id": "2xLOy4zW5HVv"
      },
      "source": [
        "*3.1.3 word processing of neural network*"
      ]
    },
    {
      "cell_type": "code",
      "metadata": {
        "id": "wYnvVpt-5Mz2"
      },
      "source": [
        "import numpy as np\n",
        "\n",
        "c = np.array([[1, 0, 0, 0, 0, 0, 0]]) # input\n",
        "W = np.random.randn(7, 3) # weight\n",
        "h = np.matmul(c, W) # middle node\n",
        "print(h)"
      ],
      "execution_count": null,
      "outputs": []
    },
    {
      "cell_type": "code",
      "metadata": {
        "id": "U-Dvd-fs57R1"
      },
      "source": [
        ""
      ],
      "execution_count": null,
      "outputs": []
    },
    {
      "cell_type": "code",
      "metadata": {
        "id": "TgpRQXGQ5fRV"
      },
      "source": [
        "import sys\n",
        "sys.path.append('..')\n",
        "import numpy as np\n",
        "from common.layers import MatMul"
      ],
      "execution_count": null,
      "outputs": []
    }
  ]
}