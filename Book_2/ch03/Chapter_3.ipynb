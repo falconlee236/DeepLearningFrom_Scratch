{
  "nbformat": 4,
  "nbformat_minor": 0,
  "metadata": {
    "colab": {
      "name": "Chapter_3.ipynb",
      "private_outputs": true,
      "provenance": [],
      "mount_file_id": "1jKYb66wA0uLUyBu5E6ThdvAKEedxt-Qd",
      "authorship_tag": "ABX9TyP2Hg7yVCsC78axikM1o+2X",
      "include_colab_link": true
    },
    "kernelspec": {
      "name": "python3",
      "display_name": "Python 3"
    },
    "language_info": {
      "name": "python"
    }
  },
  "cells": [
    {
      "cell_type": "markdown",
      "metadata": {
        "id": "view-in-github",
        "colab_type": "text"
      },
      "source": [
        "<a href=\"https://colab.research.google.com/github/falconlee236/DeepLearningFrom_Scratch/blob/main/Book_2/ch03/Chapter_3.ipynb\" target=\"_parent\"><img src=\"https://colab.research.google.com/assets/colab-badge.svg\" alt=\"Open In Colab\"/></a>"
      ]
    },
    {
      "cell_type": "markdown",
      "metadata": {
        "id": "SJtZTYpw2zAC"
      },
      "source": [
        "# Chapter 3 word2vec"
      ]
    },
    {
      "cell_type": "markdown",
      "metadata": {
        "id": "StyILJyi25Tg"
      },
      "source": [
        "**3.1 Inference-based techniques and Nerual Network**"
      ]
    },
    {
      "cell_type": "markdown",
      "metadata": {
        "id": "2xLOy4zW5HVv"
      },
      "source": [
        "*3.1.3 word processing of neural network*"
      ]
    },
    {
      "cell_type": "code",
      "metadata": {
        "id": "wYnvVpt-5Mz2"
      },
      "source": [
        "import numpy as np\n",
        "\n",
        "c = np.array([[1, 0, 0, 0, 0, 0, 0]]) # input\n",
        "W = np.random.randn(7, 3) # weight\n",
        "h = np.matmul(c, W) # middle node\n",
        "print(h)"
      ],
      "execution_count": null,
      "outputs": []
    },
    {
      "cell_type": "code",
      "metadata": {
        "id": "6Cc4QaZH6jVw"
      },
      "source": [
        "%cd drive/MyDrive/DeepLearningFrom_Scratch/Book_2/ch03/"
      ],
      "execution_count": null,
      "outputs": []
    },
    {
      "cell_type": "code",
      "metadata": {
        "id": "TgpRQXGQ5fRV"
      },
      "source": [
        "import sys\n",
        "sys.path.append('..')\n",
        "import numpy as np\n",
        "from common.layers import MatMul\n",
        "\n",
        "c = np.array([[1, 0, 0, 0, 0, 0, 0]])\n",
        "W = np.random.randn(7, 3)\n",
        "layer = MatMul(W)\n",
        "h = layer.forward(c)\n",
        "print(h)"
      ],
      "execution_count": null,
      "outputs": []
    },
    {
      "cell_type": "markdown",
      "metadata": {
        "id": "JOOyFtCf7IrD"
      },
      "source": [
        "**3.2 simple word2vec**"
      ]
    },
    {
      "cell_type": "markdown",
      "metadata": {
        "id": "ABFe-JIZ-xaV"
      },
      "source": [
        "*3.2.1 inference processing of CBOW model*"
      ]
    },
    {
      "cell_type": "code",
      "metadata": {
        "id": "uViOTkz0AVpE"
      },
      "source": [
        "import sys\n",
        "sys.path.append('..')\n",
        "import numpy as np\n",
        "from common.layers import MatMul\n",
        "\n",
        "# sample context data\n",
        "c0 = np.array([[1, 0, 0, 0, 0, 0, 0]])\n",
        "c1 = np.array([[0, 0, 1, 0, 0, 0, 0]])\n",
        "\n",
        "# weight initalize\n",
        "W_in = np.random.randn(7, 3)\n",
        "W_out = np.random.randn(3, 7)\n",
        "\n",
        "# layer generate\n",
        "in_layer0 = MatMul(W_in)\n",
        "in_layer1 = MatMul(W_in)\n",
        "out_layer = MatMul(W_out)\n",
        "\n",
        "# forwarding\n",
        "h0 = in_layer0.forward(c0)\n",
        "h1 = in_layer1.forward(c1)\n",
        "h = 0.5 * (h0 + h1)\n",
        "s = out_layer.forward(h)\n",
        "\n",
        "print(s)"
      ],
      "execution_count": null,
      "outputs": []
    },
    {
      "cell_type": "markdown",
      "metadata": {
        "id": "kMsAzphaBLWR"
      },
      "source": [
        "**3.3 Training data ready**"
      ]
    },
    {
      "cell_type": "markdown",
      "metadata": {
        "id": "s6kpQKNBCVpa"
      },
      "source": [
        "*3.3.1 context and target*"
      ]
    },
    {
      "cell_type": "code",
      "metadata": {
        "id": "1t_jfnxDC1At"
      },
      "source": [
        "import sys\n",
        "sys.path.append('..')\n",
        "from common.util import preprocess\n",
        "\n",
        "text = 'You say goodbye and I say hello.'\n",
        "corpus, word_to_id, id_to_word = preprocess(text)\n",
        "print(corpus)\n",
        "\n",
        "print(id_to_word)"
      ],
      "execution_count": null,
      "outputs": []
    },
    {
      "cell_type": "code",
      "metadata": {
        "id": "GIVbsCGQDD2T"
      },
      "source": [
        "def create_contexts_target(corpus, window_size=1):\n",
        "    target = corpus[window_size:-window_size]\n",
        "    contexts = []\n",
        "\n",
        "    for idx in range(window_size, len(corpus)-window_size):\n",
        "        cs = []\n",
        "        for t in range(-window_size, window_size + 1):\n",
        "            if t == 0:\n",
        "                continue\n",
        "            cs.append(corpus[idx + t])\n",
        "        contexts.append(cs)\n",
        "    \n",
        "    return np.array(contexts), np.array(target)"
      ],
      "execution_count": null,
      "outputs": []
    },
    {
      "cell_type": "code",
      "metadata": {
        "id": "4tZwtfEYEXfH"
      },
      "source": [
        "contexts, target = create_contexts_target(corpus, window_size=1)\n",
        "print(contexts)\n",
        "print(target)"
      ],
      "execution_count": null,
      "outputs": []
    },
    {
      "cell_type": "code",
      "metadata": {
        "id": "0Gj7tjk7EfLq"
      },
      "source": [
        "import sys\n",
        "sys.path.append('..')\n",
        "from common.util import preprocess, create_contexts_target, convert_one_hot\n",
        "\n",
        "text = 'You say goodbye and I say Hello.'\n",
        "corpus, word_to_id, id_to_word = preprocess(text)\n",
        "\n",
        "contexts, target = create_contexts_target(corpus, window_size=1)\n",
        "\n",
        "vocab_size = len(word_to_id)\n",
        "target = convert_one_hot(target, vocab_size)\n",
        "contexts = convert_one_hot(contexts, vocab_size)\n",
        "print(target)\n",
        "print(contexts)"
      ],
      "execution_count": null,
      "outputs": []
    },
    {
      "cell_type": "markdown",
      "metadata": {
        "id": "kPR-XmGSGDEX"
      },
      "source": [
        "**3.4 CBOW model Implementation**"
      ]
    },
    {
      "cell_type": "code",
      "metadata": {
        "id": "PcOQMcKWGRP2"
      },
      "source": [
        ""
      ],
      "execution_count": null,
      "outputs": []
    }
  ]
}