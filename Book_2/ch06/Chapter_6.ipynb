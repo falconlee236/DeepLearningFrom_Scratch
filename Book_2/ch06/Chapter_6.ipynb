{
  "nbformat": 4,
  "nbformat_minor": 0,
  "metadata": {
    "colab": {
      "name": "Chapter_6.ipynb",
      "private_outputs": true,
      "provenance": [],
      "collapsed_sections": [],
      "mount_file_id": "1zOnGHdb348lrCYIuGaSAlfsCfgaHjYpe",
      "authorship_tag": "ABX9TyPHoN+N0wKMY1HAq18EkXC/",
      "include_colab_link": true
    },
    "kernelspec": {
      "name": "python3",
      "display_name": "Python 3"
    },
    "language_info": {
      "name": "python"
    }
  },
  "cells": [
    {
      "cell_type": "markdown",
      "metadata": {
        "id": "view-in-github",
        "colab_type": "text"
      },
      "source": [
        "<a href=\"https://colab.research.google.com/github/falconlee236/DeepLearningFrom_Scratch/blob/main/Book_2/ch06/Chapter_6.ipynb\" target=\"_parent\"><img src=\"https://colab.research.google.com/assets/colab-badge.svg\" alt=\"Open In Colab\"/></a>"
      ]
    },
    {
      "cell_type": "markdown",
      "metadata": {
        "id": "mvd4KUvS7ahX"
      },
      "source": [
        "# Chapter 6 RNN with gate added"
      ]
    },
    {
      "cell_type": "markdown",
      "metadata": {
        "id": "kiq1OLVD76vF"
      },
      "source": [
        "**6.1 Problem of RNN**"
      ]
    },
    {
      "cell_type": "markdown",
      "metadata": {
        "id": "PMFje42hyXhZ"
      },
      "source": [
        "*6.1.3 Cause of gradient loss and gradient explosion*"
      ]
    },
    {
      "cell_type": "code",
      "metadata": {
        "id": "XREvp68lypm7"
      },
      "source": [
        "import numpy as np\n",
        "import matplotlib.pyplot as plt\n",
        "\n",
        "N = 2 # mini-batch size\n",
        "H = 3 # Dimension of hidden state vector\n",
        "T = 20 # length of Time Series Data\n",
        "\n",
        "dh = np.ones((N, H))\n",
        "np.random.seed(3) # seed fix\n",
        "Wh = np.random.randn(H, H)\n",
        "\n",
        "norm_list = []\n",
        "for t in range(T):\n",
        "    dh = np.matmul(dh, Wh.T)\n",
        "    norm = np.sqrt(np.sum(dh ** 2)) / N\n",
        "    norm_list.append(norm)\n",
        "\n",
        "plt.plot(np.arange(len(norm_list)), norm_list)\n",
        "plt.show()"
      ],
      "execution_count": null,
      "outputs": []
    },
    {
      "cell_type": "code",
      "metadata": {
        "id": "MEIEBs3e0JQB"
      },
      "source": [
        "import numpy as np\n",
        "import matplotlib.pyplot as plt\n",
        "\n",
        "N = 2 # mini-batch size\n",
        "H = 3 # Dimension of hidden state vector\n",
        "T = 20 # length of Time Series Data\n",
        "\n",
        "dh = np.ones((N, H))\n",
        "np.random.seed(3) # seed fix\n",
        "Wh = np.random.randn(H, H) * 0.5\n",
        "\n",
        "norm_list = []\n",
        "for t in range(T):\n",
        "    dh = np.matmul(dh, Wh.T)\n",
        "    norm = np.sqrt(np.sum(dh ** 2)) / N\n",
        "    norm_list.append(norm)\n",
        "\n",
        "plt.plot(np.arange(len(norm_list)), norm_list)\n",
        "plt.show()"
      ],
      "execution_count": null,
      "outputs": []
    },
    {
      "cell_type": "markdown",
      "metadata": {
        "id": "5MSt83sZ03IJ"
      },
      "source": [
        "*6.1.4 exploding gradient counterplan*"
      ]
    },
    {
      "cell_type": "code",
      "metadata": {
        "id": "CnR1gpPo3TWT"
      },
      "source": [
        "import numpy as np\n",
        "\n",
        "dW1 = np.random.rand(3, 3) * 10\n",
        "dW2 = np.random.rand(3, 3) * 10\n",
        "grads = [dW1, dW2]\n",
        "max_norm = 5.0\n",
        "\n",
        "def clip_grads(grads, max_norm):\n",
        "    total_norm = 0\n",
        "    for grad in grads:\n",
        "        total_norm += np.sum(grad ** 2)\n",
        "    total_norm = np.sqrt(total_norm)\n",
        "\n",
        "    rate = max_norm / (total_norm + 1e-6)\n",
        "    if rate < 1:\n",
        "        for grad in grads:\n",
        "            grad *= rate"
      ],
      "execution_count": null,
      "outputs": []
    },
    {
      "cell_type": "markdown",
      "metadata": {
        "id": "VYem8Jky4bJM"
      },
      "source": [
        "**6.3 LSTM(Long short-Term Memory) Implementation**"
      ]
    },
    {
      "cell_type": "code",
      "metadata": {
        "id": "3MX0MYi64tpF"
      },
      "source": [
        "class LSTM:\n",
        "    def __init__(self, Wx, Wh, b):\n",
        "        self.params = [Wx, Wh, b]\n",
        "        self.grads = [np.zeros_like(Wx), np.zeros_like(Wh), np.zeros_like(b)]\n",
        "        self.cache = None\n",
        "\n",
        "    def forward(self, x, h_prev, c_prev):\n",
        "        Wx, Wh, b = self.params\n",
        "        N, H = h_prev.shape\n",
        "\n",
        "        A = np.matmul(x, Wx) + np.matmul(h_prev, Wh) + b\n",
        "\n",
        "        # slice\n",
        "        f = A[:, :H]\n",
        "        g = A[:, H:2*H]\n",
        "        i = A[:, 2*H:3*H]\n",
        "        o = A[:, 3*H:]\n",
        "\n",
        "        f = sigmoid(f)\n",
        "        g = np.tanh(g)\n",
        "        i = sigmoid(i)\n",
        "        o = sigmoid(o)\n",
        "\n",
        "        c_next = f * c_prev + g * i\n",
        "        h_next = o * np.tanh(c_next)\n",
        "\n",
        "        self.cache = (x, h_prev, c_prev, i, f, g, o, c_next)\n",
        "        return h_next, c_next"
      ],
      "execution_count": null,
      "outputs": []
    },
    {
      "cell_type": "markdown",
      "metadata": {
        "id": "XwL1fNF4-X9r"
      },
      "source": [
        "*6.3.1 Time LSTM implementation*"
      ]
    },
    {
      "cell_type": "code",
      "metadata": {
        "id": "BY-023-A-mkX"
      },
      "source": [
        "class TimeLSTM:\n",
        "    def __init__(self, Wx, Wh, b, stateful=False):\n",
        "        self.params = [Wx, Wh, b]\n",
        "        self.grads = [np.zeros_like(Wx), np.zeros_like(Wh), np.zeros_like(b)]\n",
        "        self.layers = None\n",
        "        self.h, self.c = None, None\n",
        "        self.dh = None\n",
        "        self.stateful = stateful\n",
        "\n",
        "    def forward(self, xs):\n",
        "        Wx, Wh, b = self.params\n",
        "        N, T, D = xs.shape\n",
        "        H = Wh.shape[0]\n",
        "\n",
        "        self.layers = []\n",
        "        hs = np.empty((N, T, H), dtype='f')\n",
        "\n",
        "        if not self.stateful or self.h is None:\n",
        "            self.h = np.zeros((N, H), dtype='f')\n",
        "        if not self.stateful or self.c is None:\n",
        "            self.c = np.zeros((N, H), dtype='f')\n",
        "\n",
        "        for t in range(T):\n",
        "            layer = LSTM(*self.params)\n",
        "            self.h, self.c = layer.forward(xs[:, t, :], self.h, self.c)\n",
        "            hs[:, t, :] = self.h\n",
        "\n",
        "            self.layers.append(layer)\n",
        "\n",
        "        return hs\n",
        "    \n",
        "    def backward(self, dhs):\n",
        "        Wx, Wh, b = self.params\n",
        "        N, T, H = dhs.shape\n",
        "        D = Wx.shape[0]\n",
        "\n",
        "        dxs = np.empty((N, T, D), dtype='f')\n",
        "        dh, dc = 0, 0\n",
        "\n",
        "        grads = [0, 0, 0]\n",
        "        for t in reversed(range(T)):\n",
        "            layer = self.layers[t]\n",
        "            dx, dh, dc = layer.backward(dhs[:, t, :] + dh, dc)\n",
        "            dxs[:, t, :] = dx\n",
        "            for i, grad in enumerate(layer.grads):\n",
        "                grads[i] += grad\n",
        "        \n",
        "        for i, grad in enumerate(grads):\n",
        "            self.grads[i][...] = grad\n",
        "        \n",
        "        self.dh = dh\n",
        "        return dxs\n",
        "\n",
        "    def set_state(self, h, c=None):\n",
        "        self.h, self.c = h, c\n",
        "\n",
        "    def reset_state(self):\n",
        "        self.h, self.c = None, None"
      ],
      "execution_count": null,
      "outputs": []
    },
    {
      "cell_type": "code",
      "metadata": {
        "id": "FvCmKiqFDPfj"
      },
      "source": [
        ""
      ],
      "execution_count": null,
      "outputs": []
    }
  ]
}