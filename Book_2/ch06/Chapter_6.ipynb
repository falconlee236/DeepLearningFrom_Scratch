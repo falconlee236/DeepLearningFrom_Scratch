{
  "nbformat": 4,
  "nbformat_minor": 0,
  "metadata": {
    "colab": {
      "name": "Chapter_6.ipynb",
      "private_outputs": true,
      "provenance": [],
      "collapsed_sections": [],
      "mount_file_id": "1zOnGHdb348lrCYIuGaSAlfsCfgaHjYpe",
      "authorship_tag": "ABX9TyOs4NQCZjunD45D8vePEddz",
      "include_colab_link": true
    },
    "kernelspec": {
      "name": "python3",
      "display_name": "Python 3"
    },
    "language_info": {
      "name": "python"
    }
  },
  "cells": [
    {
      "cell_type": "markdown",
      "metadata": {
        "id": "view-in-github",
        "colab_type": "text"
      },
      "source": [
        "<a href=\"https://colab.research.google.com/github/falconlee236/DeepLearningFrom_Scratch/blob/main/Book_2/ch06/Chapter_6.ipynb\" target=\"_parent\"><img src=\"https://colab.research.google.com/assets/colab-badge.svg\" alt=\"Open In Colab\"/></a>"
      ]
    },
    {
      "cell_type": "markdown",
      "metadata": {
        "id": "mvd4KUvS7ahX"
      },
      "source": [
        "# Chapter 6 RNN with gate added"
      ]
    },
    {
      "cell_type": "markdown",
      "metadata": {
        "id": "kiq1OLVD76vF"
      },
      "source": [
        "**6.1 Problem of RNN**"
      ]
    },
    {
      "cell_type": "markdown",
      "metadata": {
        "id": "PMFje42hyXhZ"
      },
      "source": [
        "*6.1.3 Cause of gradient loss and gradient explosion*"
      ]
    },
    {
      "cell_type": "code",
      "metadata": {
        "id": "XREvp68lypm7"
      },
      "source": [
        "import numpy as np\n",
        "import matplotlib.pyplot as plt\n",
        "\n",
        "N = 2 # mini-batch size\n",
        "H = 3 # Dimension of hidden state vector\n",
        "T = 20 # length of Time Series Data\n",
        "\n",
        "dh = np.ones((N, H))\n",
        "np.random.seed(3) # seed fix\n",
        "Wh = np.random.randn(H, H)\n",
        "\n",
        "norm_list = []\n",
        "for t in range(T):\n",
        "    dh = np.matmul(dh, Wh.T)\n",
        "    norm = np.sqrt(np.sum(dh ** 2)) / N\n",
        "    norm_list.append(norm)\n",
        "\n",
        "plt.plot(np.arange(len(norm_list)), norm_list)\n",
        "plt.show()"
      ],
      "execution_count": null,
      "outputs": []
    },
    {
      "cell_type": "code",
      "metadata": {
        "id": "MEIEBs3e0JQB"
      },
      "source": [
        "import numpy as np\n",
        "import matplotlib.pyplot as plt\n",
        "\n",
        "N = 2 # mini-batch size\n",
        "H = 3 # Dimension of hidden state vector\n",
        "T = 20 # length of Time Series Data\n",
        "\n",
        "dh = np.ones((N, H))\n",
        "np.random.seed(3) # seed fix\n",
        "Wh = np.random.randn(H, H) * 0.5\n",
        "\n",
        "norm_list = []\n",
        "for t in range(T):\n",
        "    dh = np.matmul(dh, Wh.T)\n",
        "    norm = np.sqrt(np.sum(dh ** 2)) / N\n",
        "    norm_list.append(norm)\n",
        "\n",
        "plt.plot(np.arange(len(norm_list)), norm_list)\n",
        "plt.show()"
      ],
      "execution_count": null,
      "outputs": []
    },
    {
      "cell_type": "code",
      "metadata": {
        "id": "5MSt83sZ03IJ"
      },
      "source": [
        ""
      ],
      "execution_count": null,
      "outputs": []
    }
  ]
}