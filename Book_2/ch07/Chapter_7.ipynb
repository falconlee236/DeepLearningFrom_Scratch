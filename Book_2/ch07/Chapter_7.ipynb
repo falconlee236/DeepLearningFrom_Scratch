{
  "nbformat": 4,
  "nbformat_minor": 0,
  "metadata": {
    "colab": {
      "name": "Chapter_7.ipynb",
      "private_outputs": true,
      "provenance": [],
      "authorship_tag": "ABX9TyPELMoHYuvLfvFJNwLPCqOJ",
      "include_colab_link": true
    },
    "kernelspec": {
      "name": "python3",
      "display_name": "Python 3"
    },
    "language_info": {
      "name": "python"
    }
  },
  "cells": [
    {
      "cell_type": "markdown",
      "metadata": {
        "id": "view-in-github",
        "colab_type": "text"
      },
      "source": [
        "<a href=\"https://colab.research.google.com/github/falconlee236/DeepLearningFrom_Scratch/blob/main/Book_2/ch07/Chapter_7.ipynb\" target=\"_parent\"><img src=\"https://colab.research.google.com/assets/colab-badge.svg\" alt=\"Open In Colab\"/></a>"
      ]
    },
    {
      "cell_type": "markdown",
      "metadata": {
        "id": "WfMk8a6CKyKD"
      },
      "source": [
        "# Chapter 7 Language generate using RNN"
      ]
    },
    {
      "cell_type": "markdown",
      "metadata": {
        "id": "Ldz2fyz8MU4B"
      },
      "source": [
        "**7.1 Language generate using Language Model**"
      ]
    },
    {
      "cell_type": "markdown",
      "metadata": {
        "id": "k9jJ-wA3NNp1"
      },
      "source": [
        "*7.1.2 Langauge generate Implementation*"
      ]
    },
    {
      "cell_type": "code",
      "metadata": {
        "id": "aEAKNMGoNWcm"
      },
      "source": [
        ""
      ],
      "execution_count": null,
      "outputs": []
    },
    {
      "cell_type": "code",
      "metadata": {
        "id": "3zleZJdGNTWE"
      },
      "source": [
        "import sys\n",
        "sys.path.append('..')\n"
      ],
      "execution_count": null,
      "outputs": []
    }
  ]
}