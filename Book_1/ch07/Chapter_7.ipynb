{
  "nbformat": 4,
  "nbformat_minor": 0,
  "metadata": {
    "colab": {
      "name": "Chapter_7.ipynb",
      "private_outputs": true,
      "provenance": [],
      "collapsed_sections": [],
      "mount_file_id": "1tkHZsUGvASSmQ0UC1Ts2hp5P4eo8xa3F",
      "authorship_tag": "ABX9TyOBzcMrK+bo6ja0qzRqS8bQ",
      "include_colab_link": true
    },
    "kernelspec": {
      "name": "python3",
      "display_name": "Python 3"
    },
    "language_info": {
      "name": "python"
    }
  },
  "cells": [
    {
      "cell_type": "markdown",
      "metadata": {
        "id": "view-in-github",
        "colab_type": "text"
      },
      "source": [
        "<a href=\"https://colab.research.google.com/github/falconlee236/DeepLearningFrom_Scratch/blob/main/Book_1/ch07/Chapter_7.ipynb\" target=\"_parent\"><img src=\"https://colab.research.google.com/assets/colab-badge.svg\" alt=\"Open In Colab\"/></a>"
      ]
    },
    {
      "cell_type": "markdown",
      "metadata": {
        "id": "wOwYmVKJj1hH"
      },
      "source": [
        "# Chapter 7 convolutional neural network(CNN)"
      ]
    },
    {
      "cell_type": "markdown",
      "metadata": {
        "id": "XuSn49UxIv7K"
      },
      "source": [
        "**7.4 Implementing Convolution/Pooling layer**"
      ]
    },
    {
      "cell_type": "markdown",
      "metadata": {
        "id": "6iD3XwdiOLcx"
      },
      "source": [
        "*7.4.1 4-dimension Array*"
      ]
    },
    {
      "cell_type": "code",
      "metadata": {
        "id": "YFzk_1usOPZg"
      },
      "source": [
        "import numpy as np\n",
        "\n",
        "# data 10, channel 1 height 28, width 28\n",
        "x = np.random.rand(10, 1, 28, 28)\n",
        "x.shape"
      ],
      "execution_count": null,
      "outputs": []
    },
    {
      "cell_type": "code",
      "metadata": {
        "id": "1E6QqSbOOftH"
      },
      "source": [
        "x[0].shape"
      ],
      "execution_count": null,
      "outputs": []
    },
    {
      "cell_type": "code",
      "metadata": {
        "id": "SZ1-LmcJOjU2"
      },
      "source": [
        "x[1].shape"
      ],
      "execution_count": null,
      "outputs": []
    },
    {
      "cell_type": "code",
      "metadata": {
        "id": "nNB8wgGiOoKX"
      },
      "source": [
        "x[0, 0] # or x[0][0]"
      ],
      "execution_count": null,
      "outputs": []
    },
    {
      "cell_type": "markdown",
      "metadata": {
        "id": "67DYR5AGOzsR"
      },
      "source": [
        "*7.4.3 Implementing Convolutional layer*"
      ]
    },
    {
      "cell_type": "code",
      "metadata": {
        "id": "y8gwSJM8QdyE"
      },
      "source": [
        "%cd drive/MyDrive/DeepLearningFrom_Scratch/Book_1/ch07/"
      ],
      "execution_count": null,
      "outputs": []
    },
    {
      "cell_type": "code",
      "metadata": {
        "id": "OQiQGXMqQjmj"
      },
      "source": [
        "import sys, os\n",
        "sys.path.append(os.pardir)\n",
        "from common.util import im2col\n",
        "\n",
        "x1 = np.random.rand(1, 3, 7, 7) # (data, channel, height, width)\n",
        "col1 = im2col(x1, 5, 5, stride=1, pad=0)\n",
        "print(col1.shape) # (9, 75) -> column =  3 * 5 * 5 number of filter elements\n",
        "\n",
        "x2 = np.random.rand(10, 3, 7, 7) # 10 data\n",
        "col2 = im2col(x2, 5, 5, stride=1, pad=0)\n",
        "print(col2.shape) # (9, 75)"
      ],
      "execution_count": null,
      "outputs": []
    },
    {
      "cell_type": "code",
      "metadata": {
        "id": "DQZ0ByKlRjd3"
      },
      "source": [
        "class Convolution:\n",
        "    def __init__(self, W, b, stride=1, pad=0):\n",
        "        self.W = W\n",
        "        self.b = b\n",
        "        self.stride = stride\n",
        "        self.pad = pad\n",
        "    \n",
        "    def forward(self, x):\n",
        "        FN, C, FH, FW = self.W.shape\n",
        "        N, C, H, W = x.shape\n",
        "        out_h = int(1 + (H + 2 * self.pad - FH) / self.stride)\n",
        "        out_w = int(1 + (W + 2 * self.pad - FW) / self.stride)\n",
        "\n",
        "        col = im2col(x, FH, FW, self.stride, self.pad)\n",
        "        col_W = self.W.reshape(FN, -1).T # filter deployment ->750 elements, reshpae(10, -1) -> 10 * 75 array\n",
        "        out = np.dot(col, col_W) + self.b\n",
        "\n",
        "        out = out.reshpae(N, out_h, out_w, -1).trasnpose(0, 3, 1, 2)\n",
        "\n",
        "        return out\n"
      ],
      "execution_count": null,
      "outputs": []
    },
    {
      "cell_type": "code",
      "metadata": {
        "id": "1kpSxTNCTjm7"
      },
      "source": [
        "#"
      ],
      "execution_count": null,
      "outputs": []
    }
  ]
}