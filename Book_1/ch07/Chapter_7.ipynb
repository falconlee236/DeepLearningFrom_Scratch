{
  "nbformat": 4,
  "nbformat_minor": 0,
  "metadata": {
    "colab": {
      "name": "Chapter_7.ipynb",
      "private_outputs": true,
      "provenance": [],
      "collapsed_sections": [],
      "mount_file_id": "1tkHZsUGvASSmQ0UC1Ts2hp5P4eo8xa3F",
      "authorship_tag": "ABX9TyPZaoQLyEPSr8b4KtkYiWkh",
      "include_colab_link": true
    },
    "kernelspec": {
      "name": "python3",
      "display_name": "Python 3"
    },
    "language_info": {
      "name": "python"
    }
  },
  "cells": [
    {
      "cell_type": "markdown",
      "metadata": {
        "id": "view-in-github",
        "colab_type": "text"
      },
      "source": [
        "<a href=\"https://colab.research.google.com/github/falconlee236/DeepLearningFrom_Scratch/blob/main/Book_1/ch07/Chapter_7.ipynb\" target=\"_parent\"><img src=\"https://colab.research.google.com/assets/colab-badge.svg\" alt=\"Open In Colab\"/></a>"
      ]
    },
    {
      "cell_type": "markdown",
      "metadata": {
        "id": "wOwYmVKJj1hH"
      },
      "source": [
        "# Chapter 7 convolutional neural network(CNN)"
      ]
    },
    {
      "cell_type": "markdown",
      "metadata": {
        "id": "XuSn49UxIv7K"
      },
      "source": [
        "**7.4 Implementing Convolution/Pooling layer**"
      ]
    },
    {
      "cell_type": "markdown",
      "metadata": {
        "id": "6iD3XwdiOLcx"
      },
      "source": [
        "*7.4.1 4-dimension Array*"
      ]
    },
    {
      "cell_type": "code",
      "metadata": {
        "id": "YFzk_1usOPZg"
      },
      "source": [
        "import numpy as np\n",
        "\n",
        "# data 10, channel 1 height 28, width 28\n",
        "x = np.random.rand(10, 1, 28, 28)\n",
        "x.shape"
      ],
      "execution_count": null,
      "outputs": []
    },
    {
      "cell_type": "code",
      "metadata": {
        "id": "1E6QqSbOOftH"
      },
      "source": [
        "x[0].shape"
      ],
      "execution_count": null,
      "outputs": []
    },
    {
      "cell_type": "code",
      "metadata": {
        "id": "SZ1-LmcJOjU2"
      },
      "source": [
        "x[1].shape"
      ],
      "execution_count": null,
      "outputs": []
    },
    {
      "cell_type": "code",
      "metadata": {
        "id": "nNB8wgGiOoKX"
      },
      "source": [
        "x[0, 0] # or x[0][0]"
      ],
      "execution_count": null,
      "outputs": []
    },
    {
      "cell_type": "markdown",
      "metadata": {
        "id": "67DYR5AGOzsR"
      },
      "source": [
        "*7.4.3 Implementing Convolutional layer*"
      ]
    },
    {
      "cell_type": "code",
      "metadata": {
        "id": "y8gwSJM8QdyE"
      },
      "source": [
        "%cd drive/MyDrive/DeepLearningFrom_Scratch/Book_1/ch07/"
      ],
      "execution_count": null,
      "outputs": []
    },
    {
      "cell_type": "code",
      "metadata": {
        "id": "OQiQGXMqQjmj"
      },
      "source": [
        "import sys, os\n",
        "sys.path.append(os.pardir)\n",
        "from common.util import im2col\n",
        "\n",
        "x1 = np.random.rand(1, 3, 7, 7) # (data, channel, height, width)\n",
        "col1 = im2col(x1, 5, 5, stride=1, pad=0)\n",
        "print(col1.shape) # (9, 75) -> column =  3 * 5 * 5 number of filter elements\n",
        "\n",
        "x2 = np.random.rand(10, 3, 7, 7) # 10 data\n",
        "col2 = im2col(x2, 5, 5, stride=1, pad=0)\n",
        "print(col2.shape) # (9, 75)"
      ],
      "execution_count": null,
      "outputs": []
    },
    {
      "cell_type": "code",
      "metadata": {
        "id": "DQZ0ByKlRjd3"
      },
      "source": [
        "class Convolution:\n",
        "    def __init__(self, W, b, stride=1, pad=0):\n",
        "        self.W = W\n",
        "        self.b = b\n",
        "        self.stride = stride\n",
        "        self.pad = pad\n",
        "    \n",
        "    def forward(self, x):\n",
        "        FN, C, FH, FW = self.W.shape\n",
        "        N, C, H, W = x.shape\n",
        "        out_h = int(1 + (H + 2 * self.pad - FH) / self.stride)\n",
        "        out_w = int(1 + (W + 2 * self.pad - FW) / self.stride)\n",
        "\n",
        "        col = im2col(x, FH, FW, self.stride, self.pad)\n",
        "        col_W = self.W.reshape(FN, -1).T # filter deployment ->750 elements, reshpae(10, -1) -> 10 * 75 array\n",
        "        out = np.dot(col, col_W) + self.b\n",
        "\n",
        "        out = out.reshpae(N, out_h, out_w, -1).trasnpose(0, 3, 1, 2)\n",
        "\n",
        "        return out\n"
      ],
      "execution_count": null,
      "outputs": []
    },
    {
      "cell_type": "markdown",
      "metadata": {
        "id": "1kpSxTNCTjm7"
      },
      "source": [
        "*7.4.4 Implementing Pooling Layer*"
      ]
    },
    {
      "cell_type": "code",
      "metadata": {
        "id": "w5tZLzrJa4YT"
      },
      "source": [
        "class Pooling:\n",
        "    def __init__(self, pool_h, pool_w, stride=1, pad=0):\n",
        "        self.pool_h = pool_h\n",
        "        self.pool_w = pool_w\n",
        "        self.stride = stride\n",
        "        self.pad = pad\n",
        "    \n",
        "    def forward(self, x):\n",
        "        N, C, H, W = x.shape\n",
        "        out_h = int(1 + (H - self.pool_h) / self.stride)\n",
        "        out_w = int(1 + (W - self.pool_w) / self.stride)\n",
        "\n",
        "        # deployment (1)\n",
        "        col = im2col(x, self.pool_h, self.pool_w, self.stride, self.pad)\n",
        "        col = col.reshape(-1, self.pool_h * self.pool_w)\n",
        "\n",
        "        # max value (2)\n",
        "        out = np.max(col, axis=1)\n",
        "\n",
        "        # reshape (3)\n",
        "        out = out.reshape(N, out_h, out_w, C).transpose(0, 3, 1, 2)\n",
        "\n",
        "        return out"
      ],
      "execution_count": null,
      "outputs": []
    },
    {
      "cell_type": "markdown",
      "metadata": {
        "id": "Fx8AYsGVifEn"
      },
      "source": [
        "**7.5. Implementing CNN**"
      ]
    },
    {
      "cell_type": "code",
      "metadata": {
        "id": "b3qOWLD8ikaY"
      },
      "source": [
        "class SimpleConvNet:\n",
        "    def __init__(self, input_dim=(1, 28, 28), \n",
        "                 conv_param={'filter_num': 30, 'filter_size': 5, 'pad': 0, 'stride': 1},\n",
        "                 hidden_size=100, output_size=10, weight_init_std=0.01):\n",
        "        filter_num = conv_param['filter_num']\n",
        "        filter_size = conv_param['filter_size']\n",
        "        filter_pad = conv_param['pad']\n",
        "        filter_stride = conv_param['stride']\n",
        "        input_size = input_dim[1]\n",
        "        conv_ouput_size = (input_size - filter_size + 2 * filter_pad) / filter_stride + 1\n",
        "        pool_ouput_size = int(filter_num * (conv_ouput_size/2) * (conv_ouput_size/2)) # 2 * 2 pooling\n",
        "\n",
        "        self.params = {}\n",
        "        self.params['W1'] = weight_init_std * np.rand.randn(filter_num, input_dim[0], filter_size, filter_size)\n",
        "        self.params['b1'] = np.zeros(filter_num)\n",
        "        self.params['W2'] = weight_init_std * np.rand.randn(pool_output_size, hidden_size)\n",
        "        self.params['b2'] = np.zeros(hidden_size)\n",
        "        self.params['W3'] = weight_init_std * np.rand.randn(hidden_size, output_size)\n",
        "        self.params['b3'] = np.zeros(output_size)\n",
        "\n",
        "        self.layers = OrderedDict()\n",
        "        self.layers['Conv1'] = Convolution(self.params['W1'], self.params['b1'],\n",
        "                                           conv_param['stride'], conv_param['pad'])\n",
        "        self.layers['Relu1'] = Relu()\n",
        "        self.layers['Pool1'] = Pooling(pool_h=2, pool_2=2, stride=2)\n",
        "        self.layers['Affine1'] = Affine(self.params['W2'], self.params['b2'])\n",
        "        self.layers['Relu2'] = Relu()\n",
        "        self.layers['Affine2'] = Affine(self.params['W3'], self.params['b3'])\n",
        "        \n",
        "        self.last_layer = SoftmaxWithLoss()\n",
        "\n",
        "    def predict(self, x):\n",
        "        for layer in self.layers.values():\n",
        "            x = layer.forward(x)\n",
        "        return x\n",
        "    \n",
        "    def loss(self, x, t):\n",
        "        y = self.predict(x)\n",
        "        return self.last_layer.forward(y, t)\n",
        "    \n",
        "    def gradient(self, x, t):\n",
        "        # forwarding\n",
        "        self.loss(x, t)\n",
        "\n",
        "        # backwarding \n",
        "        dout = 1\n",
        "        dout = self.last_layer.backward(dout)\n",
        "\n",
        "        layers = list(self.layers.values())\n",
        "        layers.reverse()\n",
        "        for laayer in layers:\n",
        "            dout = layer.backward(dout)\n",
        "\n",
        "        # result save\n",
        "        grads = {}\n",
        "        grads['W1'] = self.layers['Conv1'].dW\n",
        "        grads['b1'] = self.layers['Conv1'].db\n",
        "        grads['W2'] = self.layers['Affine1'].dW\n",
        "        grads['b2'] = self.layers['Affine1'].db\n",
        "        grads['W3'] = self.layers['Affine2'].dW\n",
        "        grads['b3'] = self.layers['Affine2'].db\n",
        "\n",
        "        return grads"
      ],
      "execution_count": null,
      "outputs": []
    },
    {
      "cell_type": "code",
      "metadata": {
        "id": "bzuHkwlyJ_Ar"
      },
      "source": [
        "#ch07/train_convnet.py\n",
        "\n"
      ],
      "execution_count": null,
      "outputs": []
    }
  ]
}