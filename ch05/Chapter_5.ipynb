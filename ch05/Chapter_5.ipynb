{
  "nbformat": 4,
  "nbformat_minor": 0,
  "metadata": {
    "colab": {
      "name": "Chapter_5.ipynb",
      "private_outputs": true,
      "provenance": [],
      "collapsed_sections": [],
      "mount_file_id": "1EbXp3EjKte-sE_Niukd7zbRAcvBXQMp5",
      "authorship_tag": "ABX9TyMGvx2BQoO0X3QpUITgOX0q",
      "include_colab_link": true
    },
    "kernelspec": {
      "name": "python3",
      "display_name": "Python 3"
    },
    "language_info": {
      "name": "python"
    }
  },
  "cells": [
    {
      "cell_type": "markdown",
      "metadata": {
        "id": "view-in-github",
        "colab_type": "text"
      },
      "source": [
        "<a href=\"https://colab.research.google.com/github/falconlee236/DeepLearningFrom_Scratch/blob/main/ch05/Chapter_5.ipynb\" target=\"_parent\"><img src=\"https://colab.research.google.com/assets/colab-badge.svg\" alt=\"Open In Colab\"/></a>"
      ]
    },
    {
      "cell_type": "markdown",
      "metadata": {
        "id": "6tCENznEHPHd"
      },
      "source": [
        "# Chapter 5 Backpropagation"
      ]
    },
    {
      "cell_type": "markdown",
      "metadata": {
        "id": "re_avslTHfVK"
      },
      "source": [
        "**5.4 implementing simple layer**"
      ]
    },
    {
      "cell_type": "markdown",
      "metadata": {
        "id": "mQ4_G5PGMugp"
      },
      "source": [
        "*5.4.1 multiplication layer*"
      ]
    },
    {
      "cell_type": "code",
      "metadata": {
        "id": "GBUOpxZbM53f"
      },
      "source": [
        "class MulLayer:\n",
        "    def __init__(self):\n",
        "        self.x = None\n",
        "        self.y = None\n",
        "    \n",
        "    def forward(self, x, y):\n",
        "        self.x = x\n",
        "        self.y = y\n",
        "        out = x * y\n",
        "        \n",
        "        return out\n",
        "    \n",
        "    def backward(self, dout):\n",
        "        dx = dout * self.y # exchange x and y\n",
        "        dy = dout * self.x\n",
        "\n",
        "        return dx, dy\n"
      ],
      "execution_count": null,
      "outputs": []
    },
    {
      "cell_type": "code",
      "metadata": {
        "id": "8U_JVgSBNmU8"
      },
      "source": [
        "apple = 100\n",
        "apple_num = 2\n",
        "tax = 1.1\n",
        "\n",
        "# layers\n",
        "mul_apple_layer = MulLayer()\n",
        "mul_tax_layer = MulLayer()\n",
        "\n",
        "# forward\n",
        "apple_price = mul_apple_layer.forward(apple, apple_num)\n",
        "price = mul_tax_layer.forward(apple_price, tax)\n",
        "\n",
        "print(price) # 200"
      ],
      "execution_count": null,
      "outputs": []
    },
    {
      "cell_type": "code",
      "metadata": {
        "id": "b8iCBeNUN_Hc"
      },
      "source": [
        "# backward\n",
        "dprice = 1\n",
        "dapple_price, dtax = mul_tax_layer.backward(dprice)\n",
        "dapple, dapple_num = mul_apple_layer.backward(dapple_price)\n",
        "\n",
        "print(dapple, dapple_num, dtax) # 2.2 110 200"
      ],
      "execution_count": null,
      "outputs": []
    },
    {
      "cell_type": "markdown",
      "metadata": {
        "id": "bFB7fRevOlBd"
      },
      "source": [
        "*5.4.2 Addition Layer*"
      ]
    },
    {
      "cell_type": "code",
      "metadata": {
        "id": "GRX4kwXBPau9"
      },
      "source": [
        "class AddLayer:\n",
        "    def __init__(self):\n",
        "        pass\n",
        "    \n",
        "    def forward(self, x, y):\n",
        "        out = x + y\n",
        "        return out\n",
        "    \n",
        "    def backward(self, dout):\n",
        "        dx = dout * 1\n",
        "        dy = dout * 1\n",
        "        return dx, dy"
      ],
      "execution_count": null,
      "outputs": []
    },
    {
      "cell_type": "code",
      "metadata": {
        "id": "9DJZzxchPcdS"
      },
      "source": [
        "apple = 100\n",
        "apple_num = 2\n",
        "orange = 150\n",
        "orange_num = 3\n",
        "tax = 1.1\n",
        "\n",
        "# layers\n",
        "mul_apple_layer = MulLayer()\n",
        "mul_orange_layer = MulLayer()\n",
        "add_apple_orange_layer = AddLayer()\n",
        "mul_tax_layer = MulLayer()\n",
        "\n",
        "# forward\n",
        "apple_price = mul_apple_layer.forward(apple, apple_num) #(1)\n",
        "orange_price = mul_orange_layer.forward(orange, orange_num) #(2)\n",
        "all_price = add_apple_orange_layer.forward(apple_price, orange_price) #(3)\n",
        "price = mul_tax_layer.forward(all_price, tax) #(4)\n",
        "\n",
        "# backward\n",
        "dprice = 1\n",
        "dall_price, dtax = mul_tax_layer.backward(dprice) #(4)\n",
        "dapple_price, dorange_price = add_apple_orange_layer.backward(dall_price) #(3)\n",
        "dorange, dorange_num = mul_orange_layer.backward(dorange_price) #(2)\n",
        "dapple, dapple_num = mul_apple_layer.backward(dapple_price) #(1)\n",
        "\n",
        "print(price) # 715\n",
        "print(dapple_num, dapple, dorange, dorange_num, dtax) # 110 2.2 3.3 165 650"
      ],
      "execution_count": null,
      "outputs": []
    },
    {
      "cell_type": "markdown",
      "metadata": {
        "id": "KgKoEN4WRn9e"
      },
      "source": [
        "**5.5 Implementing Activation funciton layer**"
      ]
    },
    {
      "cell_type": "markdown",
      "metadata": {
        "id": "LS_bIipGR6Av"
      },
      "source": [
        "*5.5.1 ReLU Layer*"
      ]
    },
    {
      "cell_type": "code",
      "metadata": {
        "id": "q_vW2zyqR-kV"
      },
      "source": [
        "class Relu:\n",
        "    def __init__(self):\n",
        "        self.mask = None\n",
        "    \n",
        "    def forward(self, x):\n",
        "        self.mask = (x <= 0)\n",
        "        out = x.copy()\n",
        "        out[self.mask] = 0\n",
        "\n",
        "        return out\n",
        "\n",
        "    def backward(self, dout):\n",
        "        dout[self.mask] = 0\n",
        "        dx = dout\n",
        "\n",
        "        return dx"
      ],
      "execution_count": null,
      "outputs": []
    },
    {
      "cell_type": "code",
      "metadata": {
        "id": "hSAVBhePS0hL"
      },
      "source": [
        "import numpy as np\n",
        "\n",
        "x = np.array([[1.0, -0.5], [-2.0, 3.0]])\n",
        "print(x)"
      ],
      "execution_count": null,
      "outputs": []
    },
    {
      "cell_type": "code",
      "metadata": {
        "id": "E-fZxMcTS5Ue"
      },
      "source": [
        "mask = (x <= 0)\n",
        "mask"
      ],
      "execution_count": null,
      "outputs": []
    },
    {
      "cell_type": "markdown",
      "metadata": {
        "id": "_GSXOlX8TPzm"
      },
      "source": [
        "*5.5.2 Sigmoid Layer*"
      ]
    },
    {
      "cell_type": "code",
      "metadata": {
        "id": "S9KATcAwWjY-"
      },
      "source": [
        "class Sigmoid:\n",
        "    def __init__(self):\n",
        "        self.out = None\n",
        "\n",
        "    def forward(self, x):\n",
        "        out = 1 / (1 + np.exp(-x))\n",
        "        self.out = out\n",
        "\n",
        "        return out\n",
        "\n",
        "    def backward(self, dout):\n",
        "        dx = dout * (1.0 - self.out) * self.out\n",
        "\n",
        "        return dx"
      ],
      "execution_count": null,
      "outputs": []
    },
    {
      "cell_type": "markdown",
      "metadata": {
        "id": "k5c11smXW4SE"
      },
      "source": [
        "**5.6 Implementing Affine/Softmax layer**"
      ]
    },
    {
      "cell_type": "markdown",
      "metadata": {
        "id": "JcB2Gq6honi4"
      },
      "source": [
        "*5.6.2 Using to batch of Affine Layer*"
      ]
    },
    {
      "cell_type": "code",
      "metadata": {
        "id": "zqjaF-eFo9-y"
      },
      "source": [
        "X_dot_W = np.array([[0, 0, 0], [10, 10, 10]])\n",
        "B = np.array([1, 2, 3])\n",
        "\n",
        "X_dot_W"
      ],
      "execution_count": null,
      "outputs": []
    },
    {
      "cell_type": "code",
      "metadata": {
        "id": "aEH6FMHupGO5"
      },
      "source": [
        "X_dot_W + B"
      ],
      "execution_count": null,
      "outputs": []
    },
    {
      "cell_type": "code",
      "metadata": {
        "id": "ZIyGkF5lpHz0"
      },
      "source": [
        "dY = np.array([[1, 2, 3], [4, 5, 6]])\n",
        "dY"
      ],
      "execution_count": null,
      "outputs": []
    },
    {
      "cell_type": "code",
      "metadata": {
        "id": "qzBvnZV8p_KF"
      },
      "source": [
        "dB = np.sum(dY, axis=0)\n",
        "dB"
      ],
      "execution_count": null,
      "outputs": []
    },
    {
      "cell_type": "code",
      "metadata": {
        "id": "4V1-RTxKqWQy"
      },
      "source": [
        "class Affine:\n",
        "    def __init__(self, W, b):\n",
        "        self.W = W\n",
        "        self.b = b\n",
        "        self.x = None\n",
        "        self.dW = None\n",
        "        self.db = None\n",
        "    \n",
        "    def forward(self, x):\n",
        "        self.x = x\n",
        "        out = np.dot(x, self.W) + self.b\n",
        "\n",
        "        return out\n",
        "\n",
        "    def backward(self, dout):\n",
        "        dx = np.dot(dout, self.W.T)\n",
        "        self.dW = np.dot(self.x.T, dout)\n",
        "        self.db = np.sum(dout, axis=0)\n",
        "\n",
        "        return dx"
      ],
      "execution_count": null,
      "outputs": []
    },
    {
      "cell_type": "markdown",
      "metadata": {
        "id": "mrg12a_ssITu"
      },
      "source": [
        "*5.6.3 Softmax-with-Loss Layer*"
      ]
    },
    {
      "cell_type": "code",
      "metadata": {
        "id": "Yot9g1neuHNx"
      },
      "source": [
        "class SoftmaxWithLoss:\n",
        "    def __init__(self):\n",
        "        self.loss = None # loss\n",
        "        self.y = None # output of softmax\n",
        "        self.t = None # answer label(one-hot vector)\n",
        "\n",
        "    def forward(self, x, t):\n",
        "        self.t = t\n",
        "        self.y = softmax(x)\n",
        "        self.loss = cross_entropy_error(self.y, self.t)\n",
        "        return self.loss\n",
        "\n",
        "    def backward(self, dout=1):\n",
        "        batch_size = self.t.shape[0]\n",
        "        dx = (self.y - self.t) / batch_size\n",
        "\n",
        "        return dx"
      ],
      "execution_count": null,
      "outputs": []
    },
    {
      "cell_type": "markdown",
      "metadata": {
        "id": "s-O4K-ywwUqP"
      },
      "source": [
        "**5.7 Implementing Backpropagation**"
      ]
    },
    {
      "cell_type": "markdown",
      "metadata": {
        "id": "Ze6uWeoghMYK"
      },
      "source": [
        "*5.7.2 Implementing Nerual Network applied for backpropagation*"
      ]
    },
    {
      "cell_type": "code",
      "metadata": {
        "id": "ofQ1smY7hoRd"
      },
      "source": [
        "%cd drive/MyDrive/DeepLearningFrom_Scratch/ch05/"
      ],
      "execution_count": null,
      "outputs": []
    },
    {
      "cell_type": "code",
      "metadata": {
        "id": "2-OuMD0vhacS"
      },
      "source": [
        "import sys, os\n",
        "sys.path.append(os.pardir)\n",
        "import numpy as np\n",
        "from common.layers import *\n",
        "from common.gradient import numerical_gradient\n",
        "from collections import OrderedDict\n",
        "\n",
        "class TwoLayerNet:\n",
        "    def __init__(self, input_size, hidden_size, output_size, weight_init_std=0.01):\n",
        "        # initialize weight\n",
        "        self.params = {}\n",
        "        self.params['W1'] = weight_init_std * np.random.randn(input_size, hidden_size)\n",
        "        self.params['b1'] = np.zeros(hidden_size)\n",
        "        self.params['W2'] = weight_init_std * np.random.randn(hidden_size, output_size)\n",
        "        self.params['b2'] = np.zeros(output_size)\n",
        "\n",
        "        # Generate layer\n",
        "        self.layers = OrderedDict()\n",
        "        self.layers['Affine1'] = Affine(self.params['W1'], self.params['b1'])\n",
        "        self.layers['Relu1'] = Relu()\n",
        "        self.layers['Affine2'] = Affine(self.params['W2'], self.params['b2'])\n",
        "\n",
        "        self.lastLayer = SoftmaxWithLoss()\n",
        "\n",
        "    def predict(self, x):\n",
        "        for layer in self.layers.values():\n",
        "            x = layer.forward(x)\n",
        "\n",
        "        return x\n",
        "    \n",
        "    # x: input data, t: answer label\n",
        "    def loss(self, x, t):\n",
        "        y = self.predict(x)\n",
        "        return self.lastLayer.forward(y, t)\n",
        "    \n",
        "    def accuracy(self, x, t):\n",
        "        y = self.predict(x)\n",
        "        y = np.argmax(y, axis=1)\n",
        "        if t.ndim != 1:\n",
        "            t = np.argmax(t, axis=1)\n",
        "        \n",
        "        accuracy = np.sum(y == t) / float(x.shape[0])\n",
        "        return accuracy\n",
        "    \n",
        "    # x: input data, t: answer label\n",
        "    def numerical_gradient(self, x, t):\n",
        "        loss_W = lambda W: self.loss(x, t)\n",
        "\n",
        "        grads = {}\n",
        "        grads['W1'] = numerical_gradient(loss_W, self.params['W1'])\n",
        "        grads['b1'] = numerical_gradient(loss_W, self.params['b1'])\n",
        "        grads['W2'] = numerical_gradient(loss_W, self.params['W2'])\n",
        "        grads['b2'] = numerical_gradient(loss_W, self.params['b2'])\n",
        "        return grads\n",
        "    \n",
        "    def gradient(self, x, t):\n",
        "        # forwarding\n",
        "        self.loss(x, t)\n",
        "\n",
        "        # backwarding\n",
        "        dout = 1\n",
        "        dout = self.lastLayer.backward(dout)\n",
        "\n",
        "        layers = list(self.layers.values())\n",
        "        layers.reverse()\n",
        "        for layer in layers:\n",
        "            dout = layer.backward(dout)\n",
        "        \n",
        "        # output save\n",
        "        grads = {}\n",
        "        grads['W1'] = self.layers['Affine1'].dW\n",
        "        grads['b1'] = self.layers['Affine1'].db\n",
        "        grads['W2'] = self.layers['Affine2'].dW\n",
        "        grads['b2'] = self.layers['Affine2'].db\n",
        "        \n",
        "        return grads"
      ],
      "execution_count": null,
      "outputs": []
    }
  ]
}