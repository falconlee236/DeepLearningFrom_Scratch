{
  "nbformat": 4,
  "nbformat_minor": 0,
  "metadata": {
    "colab": {
      "name": "Chapter_1.ipynb",
      "provenance": [],
      "mount_file_id": "https://github.com/falconlee236/DeepLearningFrom_Scratch/blob/main/Chapter_1.ipynb",
      "authorship_tag": "ABX9TyP0FS7IVlZFOk4e9l/fZwWX"
    },
    "kernelspec": {
      "name": "python3",
      "display_name": "Python 3"
    },
    "language_info": {
      "name": "python"
    },
    "accelerator": "GPU"
  },
  "cells": [
    {
      "cell_type": "markdown",
      "metadata": {
        "id": "PXJycyESsH7E"
      },
      "source": [
        "# **1.5 Numpy**"
      ]
    },
    {
      "cell_type": "markdown",
      "metadata": {
        "id": "9HkcsooqsPzj"
      },
      "source": [
        "1.5.1 Bring Numpy module"
      ]
    },
    {
      "cell_type": "code",
      "metadata": {
        "id": "WQASlpVHsh-w"
      },
      "source": [
        "import numpy as np"
      ],
      "execution_count": 26,
      "outputs": []
    },
    {
      "cell_type": "markdown",
      "metadata": {
        "id": "LxU9lydespIx"
      },
      "source": [
        "1.5.2 Creating Numpy Array"
      ]
    },
    {
      "cell_type": "code",
      "metadata": {
        "colab": {
          "base_uri": "https://localhost:8080/"
        },
        "id": "RqnGqm2LvSoR",
        "outputId": "708c20f1-6d69-4230-e3d9-83256675bdf2"
      },
      "source": [
        "x = np.array([1.0, 2.0, 3.0])\n",
        "print(x)\n",
        "type(x)"
      ],
      "execution_count": 27,
      "outputs": [
        {
          "output_type": "stream",
          "text": [
            "[1. 2. 3.]\n"
          ],
          "name": "stdout"
        },
        {
          "output_type": "execute_result",
          "data": {
            "text/plain": [
              "numpy.ndarray"
            ]
          },
          "metadata": {
            "tags": []
          },
          "execution_count": 27
        }
      ]
    },
    {
      "cell_type": "markdown",
      "metadata": {
        "id": "7OBP0h6StBk3"
      },
      "source": [
        "1.5.3 Arithmetic operand of Numpy "
      ]
    },
    {
      "cell_type": "code",
      "metadata": {
        "id": "D24BdiY7AhP3",
        "colab": {
          "base_uri": "https://localhost:8080/"
        },
        "outputId": "daf7c67c-c8b1-47dc-9266-fe2e8c881cae"
      },
      "source": [
        "x = np.array([1.0, 2.0, 3.0])\n",
        "y = np.array([2.0, 4.0, 6.0])\n",
        "x + y"
      ],
      "execution_count": 28,
      "outputs": [
        {
          "output_type": "execute_result",
          "data": {
            "text/plain": [
              "array([3., 6., 9.])"
            ]
          },
          "metadata": {
            "tags": []
          },
          "execution_count": 28
        }
      ]
    },
    {
      "cell_type": "code",
      "metadata": {
        "id": "l9FKZlmTBAFP",
        "colab": {
          "base_uri": "https://localhost:8080/"
        },
        "outputId": "910357e6-5d88-45c7-9684-acd833176d60"
      },
      "source": [
        "x - y"
      ],
      "execution_count": 29,
      "outputs": [
        {
          "output_type": "execute_result",
          "data": {
            "text/plain": [
              "array([-1., -2., -3.])"
            ]
          },
          "metadata": {
            "tags": []
          },
          "execution_count": 29
        }
      ]
    },
    {
      "cell_type": "code",
      "metadata": {
        "id": "iFGgvmHXBAx3",
        "colab": {
          "base_uri": "https://localhost:8080/"
        },
        "outputId": "d7a6f640-2d90-4456-bb98-cb48d8065352"
      },
      "source": [
        "x * y"
      ],
      "execution_count": 30,
      "outputs": [
        {
          "output_type": "execute_result",
          "data": {
            "text/plain": [
              "array([ 2.,  8., 18.])"
            ]
          },
          "metadata": {
            "tags": []
          },
          "execution_count": 30
        }
      ]
    },
    {
      "cell_type": "code",
      "metadata": {
        "id": "QydUc_c3BCVn",
        "colab": {
          "base_uri": "https://localhost:8080/"
        },
        "outputId": "41f95a42-52c6-487c-e136-432be37c3af2"
      },
      "source": [
        "x / y"
      ],
      "execution_count": 31,
      "outputs": [
        {
          "output_type": "execute_result",
          "data": {
            "text/plain": [
              "array([0.5, 0.5, 0.5])"
            ]
          },
          "metadata": {
            "tags": []
          },
          "execution_count": 31
        }
      ]
    },
    {
      "cell_type": "code",
      "metadata": {
        "id": "AJqB9PtdBEHv",
        "colab": {
          "base_uri": "https://localhost:8080/"
        },
        "outputId": "4f175c33-83d2-4dc5-d06e-a6ec0a9ca4f8"
      },
      "source": [
        "x = np.array([1.0, 2.0, 3.0])\n",
        "x / 2.0"
      ],
      "execution_count": 32,
      "outputs": [
        {
          "output_type": "execute_result",
          "data": {
            "text/plain": [
              "array([0.5, 1. , 1.5])"
            ]
          },
          "metadata": {
            "tags": []
          },
          "execution_count": 32
        }
      ]
    },
    {
      "cell_type": "markdown",
      "metadata": {
        "id": "fq4Gr5p1tPcI"
      },
      "source": [
        "1.5.4 N-Dimension Array of Numpy"
      ]
    },
    {
      "cell_type": "code",
      "metadata": {
        "id": "sPkZ5UEbluc7",
        "colab": {
          "base_uri": "https://localhost:8080/"
        },
        "outputId": "744b42db-20b0-4500-9e63-958cc74e2af4"
      },
      "source": [
        "A = np.array([[1, 2], [3, 4]])\n",
        "print(A)"
      ],
      "execution_count": 33,
      "outputs": [
        {
          "output_type": "stream",
          "text": [
            "[[1 2]\n",
            " [3 4]]\n"
          ],
          "name": "stdout"
        }
      ]
    },
    {
      "cell_type": "code",
      "metadata": {
        "id": "zpzmu6z3naQ9",
        "colab": {
          "base_uri": "https://localhost:8080/"
        },
        "outputId": "eb7798b1-0227-4a57-fee2-be57b3ef88e5"
      },
      "source": [
        "A.shape"
      ],
      "execution_count": 34,
      "outputs": [
        {
          "output_type": "execute_result",
          "data": {
            "text/plain": [
              "(2, 2)"
            ]
          },
          "metadata": {
            "tags": []
          },
          "execution_count": 34
        }
      ]
    },
    {
      "cell_type": "code",
      "metadata": {
        "id": "w4gCbL_RncGq",
        "colab": {
          "base_uri": "https://localhost:8080/"
        },
        "outputId": "a3ded9d5-abe9-4190-c116-0972f2715909"
      },
      "source": [
        "A.dtype"
      ],
      "execution_count": 35,
      "outputs": [
        {
          "output_type": "execute_result",
          "data": {
            "text/plain": [
              "dtype('int64')"
            ]
          },
          "metadata": {
            "tags": []
          },
          "execution_count": 35
        }
      ]
    },
    {
      "cell_type": "code",
      "metadata": {
        "id": "qV3wvvlcndU_",
        "colab": {
          "base_uri": "https://localhost:8080/"
        },
        "outputId": "d9de3a08-d2fb-492e-d376-feabb3d7a144"
      },
      "source": [
        "B = np.array([[3, 0], [0, 6]])\n",
        "A + B"
      ],
      "execution_count": 36,
      "outputs": [
        {
          "output_type": "execute_result",
          "data": {
            "text/plain": [
              "array([[ 4,  2],\n",
              "       [ 3, 10]])"
            ]
          },
          "metadata": {
            "tags": []
          },
          "execution_count": 36
        }
      ]
    },
    {
      "cell_type": "code",
      "metadata": {
        "id": "8moMdsBvnlA-",
        "colab": {
          "base_uri": "https://localhost:8080/"
        },
        "outputId": "98a953a1-9dc1-4b38-922f-4f555c4492fb"
      },
      "source": [
        "# column wise operation -> [[1 * 3, 2 * 0], [3 * 0, 4 * 6]]\n",
        "A * B"
      ],
      "execution_count": 37,
      "outputs": [
        {
          "output_type": "execute_result",
          "data": {
            "text/plain": [
              "array([[ 3,  0],\n",
              "       [ 0, 24]])"
            ]
          },
          "metadata": {
            "tags": []
          },
          "execution_count": 37
        }
      ]
    },
    {
      "cell_type": "markdown",
      "metadata": {
        "id": "mT8KVw31uIYx"
      },
      "source": [
        "1.5.5 BroadCast"
      ]
    },
    {
      "cell_type": "code",
      "metadata": {
        "id": "3jV6iOdxpzXb",
        "colab": {
          "base_uri": "https://localhost:8080/"
        },
        "outputId": "be4928a9-3eec-4a0a-cec7-c6c650598d05"
      },
      "source": [
        "A * 10"
      ],
      "execution_count": 38,
      "outputs": [
        {
          "output_type": "execute_result",
          "data": {
            "text/plain": [
              "array([[10, 20],\n",
              "       [30, 40]])"
            ]
          },
          "metadata": {
            "tags": []
          },
          "execution_count": 38
        }
      ]
    },
    {
      "cell_type": "code",
      "metadata": {
        "id": "d9lBYh-4rnsZ",
        "colab": {
          "base_uri": "https://localhost:8080/"
        },
        "outputId": "adadbea7-cf0a-47c2-be3d-436c7968a268"
      },
      "source": [
        "A = np.array([[1, 2], [3, 4]])\n",
        "B = np.array([10, 20])\n",
        "# B -> [[10, 20], [10, 20]] broadcast\n",
        "A * B"
      ],
      "execution_count": 39,
      "outputs": [
        {
          "output_type": "execute_result",
          "data": {
            "text/plain": [
              "array([[10, 40],\n",
              "       [30, 80]])"
            ]
          },
          "metadata": {
            "tags": []
          },
          "execution_count": 39
        }
      ]
    },
    {
      "cell_type": "markdown",
      "metadata": {
        "id": "TbtFMtudsAPT"
      },
      "source": [
        "1.5.6 Element Indexing"
      ]
    },
    {
      "cell_type": "code",
      "metadata": {
        "id": "LAdw4955uSX9",
        "colab": {
          "base_uri": "https://localhost:8080/"
        },
        "outputId": "db01e0ca-296d-4d7e-cf46-6bda27caf760"
      },
      "source": [
        "X = np.array([[51, 55], [14, 19], [0, 4]])\n",
        "X"
      ],
      "execution_count": 40,
      "outputs": [
        {
          "output_type": "execute_result",
          "data": {
            "text/plain": [
              "array([[51, 55],\n",
              "       [14, 19],\n",
              "       [ 0,  4]])"
            ]
          },
          "metadata": {
            "tags": []
          },
          "execution_count": 40
        }
      ]
    },
    {
      "cell_type": "code",
      "metadata": {
        "id": "09HcMxPFuYf7",
        "colab": {
          "base_uri": "https://localhost:8080/"
        },
        "outputId": "0828c2f0-6c7c-4c02-d657-63894adc986c"
      },
      "source": [
        "X[0]"
      ],
      "execution_count": 41,
      "outputs": [
        {
          "output_type": "execute_result",
          "data": {
            "text/plain": [
              "array([51, 55])"
            ]
          },
          "metadata": {
            "tags": []
          },
          "execution_count": 41
        }
      ]
    },
    {
      "cell_type": "code",
      "metadata": {
        "id": "FHvAIz00uaSH",
        "colab": {
          "base_uri": "https://localhost:8080/"
        },
        "outputId": "536256e3-aebc-4918-e9ae-877efaef775a"
      },
      "source": [
        "X[0][1]"
      ],
      "execution_count": 42,
      "outputs": [
        {
          "output_type": "execute_result",
          "data": {
            "text/plain": [
              "55"
            ]
          },
          "metadata": {
            "tags": []
          },
          "execution_count": 42
        }
      ]
    },
    {
      "cell_type": "code",
      "metadata": {
        "id": "RTRE4HPUuc2S",
        "colab": {
          "base_uri": "https://localhost:8080/"
        },
        "outputId": "326a0dbd-4b9a-4c44-c251-d812dd0f5d71"
      },
      "source": [
        "X[:, 1]"
      ],
      "execution_count": 43,
      "outputs": [
        {
          "output_type": "execute_result",
          "data": {
            "text/plain": [
              "array([55, 19,  4])"
            ]
          },
          "metadata": {
            "tags": []
          },
          "execution_count": 43
        }
      ]
    },
    {
      "cell_type": "code",
      "metadata": {
        "id": "psW5TJ-duxTE",
        "colab": {
          "base_uri": "https://localhost:8080/"
        },
        "outputId": "7ba0d03e-be93-4403-f0f6-1bf5320b24c8"
      },
      "source": [
        "for row in X:\n",
        "  print(row)"
      ],
      "execution_count": 44,
      "outputs": [
        {
          "output_type": "stream",
          "text": [
            "[51 55]\n",
            "[14 19]\n",
            "[0 4]\n"
          ],
          "name": "stdout"
        }
      ]
    },
    {
      "cell_type": "code",
      "metadata": {
        "id": "SxiVVClhu9q7",
        "colab": {
          "base_uri": "https://localhost:8080/"
        },
        "outputId": "5945cca9-0592-44f6-efea-149025fc3428"
      },
      "source": [
        "X = X.flatten()\n",
        "X"
      ],
      "execution_count": 45,
      "outputs": [
        {
          "output_type": "execute_result",
          "data": {
            "text/plain": [
              "array([51, 55, 14, 19,  0,  4])"
            ]
          },
          "metadata": {
            "tags": []
          },
          "execution_count": 45
        }
      ]
    },
    {
      "cell_type": "code",
      "metadata": {
        "id": "XaUzeodUvEg7",
        "colab": {
          "base_uri": "https://localhost:8080/"
        },
        "outputId": "a220afce-1e00-4e6e-ee48-d1a16f218542"
      },
      "source": [
        "X[np.array([0, 2, 4])]"
      ],
      "execution_count": 46,
      "outputs": [
        {
          "output_type": "execute_result",
          "data": {
            "text/plain": [
              "array([51, 14,  0])"
            ]
          },
          "metadata": {
            "tags": []
          },
          "execution_count": 46
        }
      ]
    },
    {
      "cell_type": "code",
      "metadata": {
        "id": "eCY5oinQvIaQ",
        "colab": {
          "base_uri": "https://localhost:8080/"
        },
        "outputId": "1708c885-5bc3-435f-92c5-3f57cf33a2b6"
      },
      "source": [
        "X > 15"
      ],
      "execution_count": 47,
      "outputs": [
        {
          "output_type": "execute_result",
          "data": {
            "text/plain": [
              "array([ True,  True, False,  True, False, False])"
            ]
          },
          "metadata": {
            "tags": []
          },
          "execution_count": 47
        }
      ]
    },
    {
      "cell_type": "code",
      "metadata": {
        "id": "p-1q8FQbvMgJ",
        "colab": {
          "base_uri": "https://localhost:8080/"
        },
        "outputId": "f1f88c15-6f28-4d94-cff8-2740acaa778d"
      },
      "source": [
        "X[X > 15]"
      ],
      "execution_count": 48,
      "outputs": [
        {
          "output_type": "execute_result",
          "data": {
            "text/plain": [
              "array([51, 55, 19])"
            ]
          },
          "metadata": {
            "tags": []
          },
          "execution_count": 48
        }
      ]
    },
    {
      "cell_type": "markdown",
      "metadata": {
        "id": "TEcCgiOnvN3A"
      },
      "source": [
        "# **1.6 matplotlib**"
      ]
    },
    {
      "cell_type": "markdown",
      "metadata": {
        "id": "WPXp8IWh3lan"
      },
      "source": [
        "**1.6.1 simple graph drawing**"
      ]
    },
    {
      "cell_type": "code",
      "metadata": {
        "id": "tRAup8Ke3p0S",
        "colab": {
          "base_uri": "https://localhost:8080/",
          "height": 265
        },
        "outputId": "8f6d50fd-3bbf-4b51-e1b9-8e7c076c7f1c"
      },
      "source": [
        "import numpy as np\n",
        "import matplotlib.pyplot as plt\n",
        "\n",
        "# Data set\n",
        "x = np.arange(0, 6, 0.1)\n",
        "y = np.sin(x)\n",
        "\n",
        "# Graph Drawing\n",
        "plt.plot(x, y)\n",
        "plt.show()"
      ],
      "execution_count": 49,
      "outputs": [
        {
          "output_type": "display_data",
          "data": {
            "image/png": "[encoded data removed]",
            "text/plain": [
              "<Figure size 432x288 with 1 Axes>"
            ]
          },
          "metadata": {
            "tags": [],
            "needs_background": "light"
          }
        }
      ]
    },
    {
      "cell_type": "markdown",
      "metadata": {
        "id": "IWpOcwHS38RO"
      },
      "source": [
        "**1.6.2 feature of pyplot**"
      ]
    },
    {
      "cell_type": "code",
      "metadata": {
        "id": "53Uk5jug4KTb",
        "colab": {
          "base_uri": "https://localhost:8080/",
          "height": 295
        },
        "outputId": "0ce3c0be-9e81-41c9-e769-46cf03284158"
      },
      "source": [
        "import numpy as np\n",
        "import matplotlib.pyplot as plt\n",
        "\n",
        "# Data set\n",
        "x = np.arange(0, 6, 0.1)\n",
        "y1 = np.sin(x)\n",
        "y2 = np.cos(x)\n",
        "\n",
        "# Graph Drawing\n",
        "plt.plot(x, y1, label=\"sin\")\n",
        "plt.plot(x, y2, label=\"cos\") # Drawing cos function as dotted line\n",
        "plt.xlabel(\"x\") # x-axis name\n",
        "plt.ylabel(\"y\") # y-axis name\n",
        "plt.title(\"sin & cos\") # title\n",
        "plt.legend()\n",
        "plt.show() "
      ],
      "execution_count": 50,
      "outputs": [
        {
          "output_type": "display_data",
          "data": {
            "image/png": "[encoded data removed]",
            "text/plain": [
              "<Figure size 432x288 with 1 Axes>"
            ]
          },
          "metadata": {
            "tags": [],
            "needs_background": "light"
          }
        }
      ]
    },
    {
      "cell_type": "markdown",
      "metadata": {
        "id": "MduT86W14kzq"
      },
      "source": [
        "**1.6.3 Image display**"
      ]
    },
    {
      "cell_type": "code",
      "metadata": {
        "id": "aUtVFzOVDgB_",
        "outputId": "ba3a9834-c018-4baa-a317-c50a76dbff11",
        "colab": {
          "base_uri": "https://localhost:8080/",
          "height": 287
        }
      },
      "source": [
        "import matplotlib.pyplot as plt\n",
        "from matplotlib.image import imread\n",
        "\n",
        "img = imread(\"dataset/cactus.png\") # image reading\n",
        "\n",
        "plt.imshow(img)\n",
        "plt.show()"
      ],
      "execution_count": 60,
      "outputs": [
        {
          "output_type": "display_data",
          "data": {
            "image/png": "[encoded data removed]",
            "text/plain": [
              "<Figure size 432x288 with 1 Axes>"
            ]
          },
          "metadata": {
            "tags": [],
            "needs_background": "light"
          }
        },
        {
          "output_type": "stream",
          "text": [
            "Chapter_1.ipynb  dataset  LICENSE  README.md\n"
          ],
          "name": "stdout"
        }
      ]
    }
  ]
}