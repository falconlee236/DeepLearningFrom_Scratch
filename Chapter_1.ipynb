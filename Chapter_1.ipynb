{
  "nbformat": 4,
  "nbformat_minor": 0,
  "metadata": {
    "colab": {
      "name": "Chapter_1.ipynb",
      "provenance": [],
      "toc_visible": true,
      "authorship_tag": "ABX9TyOan7Bg9jAVDyAV+unAEOVS"
    },
    "kernelspec": {
      "name": "python3",
      "display_name": "Python 3"
    },
    "language_info": {
      "name": "python"
    },
    "accelerator": "GPU"
  },
  "cells": [
    {
      "cell_type": "markdown",
      "metadata": {
        "id": "PXJycyESsH7E"
      },
      "source": [
        "# **1.5 Numpy**"
      ]
    },
    {
      "cell_type": "markdown",
      "metadata": {
        "id": "9HkcsooqsPzj"
      },
      "source": [
        "1.5.1 Bring Numpy module"
      ]
    },
    {
      "cell_type": "code",
      "metadata": {
        "id": "WQASlpVHsh-w"
      },
      "source": [
        "import numpy as np"
      ],
      "execution_count": 1,
      "outputs": []
    },
    {
      "cell_type": "markdown",
      "metadata": {
        "id": "LxU9lydespIx"
      },
      "source": [
        "1.5.2 Creating Numpy Array"
      ]
    },
    {
      "cell_type": "code",
      "metadata": {
        "colab": {
          "base_uri": "https://localhost:8080/"
        },
        "id": "RqnGqm2LvSoR",
        "outputId": "fea245c6-7b9b-4faf-f838-c0c5806bc0b3"
      },
      "source": [
        "x = np.array([1.0, 2.0, 3.0])\n",
        "print(x)\n",
        "type(x)"
      ],
      "execution_count": 2,
      "outputs": [
        {
          "output_type": "stream",
          "text": [
            "[1. 2. 3.]\n"
          ],
          "name": "stdout"
        },
        {
          "output_type": "execute_result",
          "data": {
            "text/plain": [
              "numpy.ndarray"
            ]
          },
          "metadata": {
            "tags": []
          },
          "execution_count": 2
        }
      ]
    },
    {
      "cell_type": "markdown",
      "metadata": {
        "id": "7OBP0h6StBk3"
      },
      "source": [
        "1.5.3 Arithmetic operand of Numpy "
      ]
    },
    {
      "cell_type": "code",
      "metadata": {
        "id": "D24BdiY7AhP3",
        "colab": {
          "base_uri": "https://localhost:8080/"
        },
        "outputId": "d7a62fc5-b4b2-42df-9b18-69dc50a579bd"
      },
      "source": [
        "x = np.array([1.0, 2.0, 3.0])\n",
        "y = np.array([2.0, 4.0, 6.0])\n",
        "x + y"
      ],
      "execution_count": 3,
      "outputs": [
        {
          "output_type": "execute_result",
          "data": {
            "text/plain": [
              "array([3., 6., 9.])"
            ]
          },
          "metadata": {
            "tags": []
          },
          "execution_count": 3
        }
      ]
    },
    {
      "cell_type": "code",
      "metadata": {
        "id": "l9FKZlmTBAFP",
        "colab": {
          "base_uri": "https://localhost:8080/"
        },
        "outputId": "e00d1afa-c5d8-45a8-d885-c6d10139c8d2"
      },
      "source": [
        "x - y"
      ],
      "execution_count": 4,
      "outputs": [
        {
          "output_type": "execute_result",
          "data": {
            "text/plain": [
              "array([-1., -2., -3.])"
            ]
          },
          "metadata": {
            "tags": []
          },
          "execution_count": 4
        }
      ]
    },
    {
      "cell_type": "code",
      "metadata": {
        "id": "iFGgvmHXBAx3",
        "colab": {
          "base_uri": "https://localhost:8080/"
        },
        "outputId": "bcb5baf5-9a1c-4df1-ef3b-da132220d015"
      },
      "source": [
        "x * y"
      ],
      "execution_count": 5,
      "outputs": [
        {
          "output_type": "execute_result",
          "data": {
            "text/plain": [
              "array([ 2.,  8., 18.])"
            ]
          },
          "metadata": {
            "tags": []
          },
          "execution_count": 5
        }
      ]
    },
    {
      "cell_type": "code",
      "metadata": {
        "id": "QydUc_c3BCVn",
        "colab": {
          "base_uri": "https://localhost:8080/"
        },
        "outputId": "ff262a0f-fd8b-4cdf-98e2-99bd5d1b8d46"
      },
      "source": [
        "x / y"
      ],
      "execution_count": 6,
      "outputs": [
        {
          "output_type": "execute_result",
          "data": {
            "text/plain": [
              "array([0.5, 0.5, 0.5])"
            ]
          },
          "metadata": {
            "tags": []
          },
          "execution_count": 6
        }
      ]
    },
    {
      "cell_type": "code",
      "metadata": {
        "id": "AJqB9PtdBEHv",
        "colab": {
          "base_uri": "https://localhost:8080/"
        },
        "outputId": "633ad4bd-8da0-41be-da4a-0eb0049737ec"
      },
      "source": [
        "x = np.array([1.0, 2.0, 3.0])\n",
        "x / 2.0"
      ],
      "execution_count": 7,
      "outputs": [
        {
          "output_type": "execute_result",
          "data": {
            "text/plain": [
              "array([0.5, 1. , 1.5])"
            ]
          },
          "metadata": {
            "tags": []
          },
          "execution_count": 7
        }
      ]
    },
    {
      "cell_type": "markdown",
      "metadata": {
        "id": "fq4Gr5p1tPcI"
      },
      "source": [
        "1.5.4 N-Dimension Array of Numpy"
      ]
    },
    {
      "cell_type": "code",
      "metadata": {
        "id": "sPkZ5UEbluc7",
        "colab": {
          "base_uri": "https://localhost:8080/"
        },
        "outputId": "b9241f22-889b-4032-c3e5-c46694db3f30"
      },
      "source": [
        "A = np.array([[1, 2], [3, 4]])\n",
        "print(A)"
      ],
      "execution_count": 8,
      "outputs": [
        {
          "output_type": "stream",
          "text": [
            "[[1 2]\n",
            " [3 4]]\n"
          ],
          "name": "stdout"
        }
      ]
    },
    {
      "cell_type": "code",
      "metadata": {
        "id": "zpzmu6z3naQ9",
        "colab": {
          "base_uri": "https://localhost:8080/"
        },
        "outputId": "71e5450f-9508-49aa-e68c-da109e9a0670"
      },
      "source": [
        "A.shape"
      ],
      "execution_count": 9,
      "outputs": [
        {
          "output_type": "execute_result",
          "data": {
            "text/plain": [
              "(2, 2)"
            ]
          },
          "metadata": {
            "tags": []
          },
          "execution_count": 9
        }
      ]
    },
    {
      "cell_type": "code",
      "metadata": {
        "id": "w4gCbL_RncGq",
        "colab": {
          "base_uri": "https://localhost:8080/"
        },
        "outputId": "99a691f1-dc74-4a2d-96a6-cee4e53e48ad"
      },
      "source": [
        "A.dtype"
      ],
      "execution_count": 10,
      "outputs": [
        {
          "output_type": "execute_result",
          "data": {
            "text/plain": [
              "dtype('int64')"
            ]
          },
          "metadata": {
            "tags": []
          },
          "execution_count": 10
        }
      ]
    },
    {
      "cell_type": "code",
      "metadata": {
        "id": "qV3wvvlcndU_",
        "colab": {
          "base_uri": "https://localhost:8080/"
        },
        "outputId": "8355b2b1-76aa-483d-e2f9-4993147171cb"
      },
      "source": [
        "B = np.array([[3, 0], [0, 6]])\n",
        "A + B"
      ],
      "execution_count": 11,
      "outputs": [
        {
          "output_type": "execute_result",
          "data": {
            "text/plain": [
              "array([[ 4,  2],\n",
              "       [ 3, 10]])"
            ]
          },
          "metadata": {
            "tags": []
          },
          "execution_count": 11
        }
      ]
    },
    {
      "cell_type": "code",
      "metadata": {
        "id": "8moMdsBvnlA-",
        "colab": {
          "base_uri": "https://localhost:8080/"
        },
        "outputId": "77795be0-2a53-4336-c47d-e4af9182cd4b"
      },
      "source": [
        "# column wise operation -> [[1 * 3, 2 * 0], [3 * 0, 4 * 6]]\n",
        "A * B"
      ],
      "execution_count": 12,
      "outputs": [
        {
          "output_type": "execute_result",
          "data": {
            "text/plain": [
              "array([[ 3,  0],\n",
              "       [ 0, 24]])"
            ]
          },
          "metadata": {
            "tags": []
          },
          "execution_count": 12
        }
      ]
    },
    {
      "cell_type": "markdown",
      "metadata": {
        "id": "mT8KVw31uIYx"
      },
      "source": [
        "1.5.5 BroadCast"
      ]
    },
    {
      "cell_type": "code",
      "metadata": {
        "id": "3jV6iOdxpzXb",
        "colab": {
          "base_uri": "https://localhost:8080/"
        },
        "outputId": "0183d426-38ce-4c12-bd10-2de384affc5e"
      },
      "source": [
        "A * 10"
      ],
      "execution_count": 13,
      "outputs": [
        {
          "output_type": "execute_result",
          "data": {
            "text/plain": [
              "array([[10, 20],\n",
              "       [30, 40]])"
            ]
          },
          "metadata": {
            "tags": []
          },
          "execution_count": 13
        }
      ]
    },
    {
      "cell_type": "code",
      "metadata": {
        "id": "d9lBYh-4rnsZ",
        "colab": {
          "base_uri": "https://localhost:8080/"
        },
        "outputId": "d97273cc-5671-4bb2-8ce6-b495febd080a"
      },
      "source": [
        "A = np.array([[1, 2], [3, 4]])\n",
        "B = np.array([10, 20])\n",
        "# B -> [[10, 20], [10, 20]] broadcast\n",
        "A * B"
      ],
      "execution_count": 14,
      "outputs": [
        {
          "output_type": "execute_result",
          "data": {
            "text/plain": [
              "array([[10, 40],\n",
              "       [30, 80]])"
            ]
          },
          "metadata": {
            "tags": []
          },
          "execution_count": 14
        }
      ]
    },
    {
      "cell_type": "markdown",
      "metadata": {
        "id": "TbtFMtudsAPT"
      },
      "source": [
        "1.5.6 Element Indexing"
      ]
    },
    {
      "cell_type": "code",
      "metadata": {
        "id": "LAdw4955uSX9",
        "colab": {
          "base_uri": "https://localhost:8080/"
        },
        "outputId": "46967587-8bae-4db6-e87e-ae8739d8c4eb"
      },
      "source": [
        "X = np.array([[51, 55], [14, 19], [0, 4]])\n",
        "X"
      ],
      "execution_count": 15,
      "outputs": [
        {
          "output_type": "execute_result",
          "data": {
            "text/plain": [
              "array([[51, 55],\n",
              "       [14, 19],\n",
              "       [ 0,  4]])"
            ]
          },
          "metadata": {
            "tags": []
          },
          "execution_count": 15
        }
      ]
    },
    {
      "cell_type": "code",
      "metadata": {
        "id": "09HcMxPFuYf7",
        "colab": {
          "base_uri": "https://localhost:8080/"
        },
        "outputId": "a1b84226-f2e2-4a53-d529-a4fb20684339"
      },
      "source": [
        "X[0]"
      ],
      "execution_count": 16,
      "outputs": [
        {
          "output_type": "execute_result",
          "data": {
            "text/plain": [
              "array([51, 55])"
            ]
          },
          "metadata": {
            "tags": []
          },
          "execution_count": 16
        }
      ]
    },
    {
      "cell_type": "code",
      "metadata": {
        "id": "FHvAIz00uaSH",
        "colab": {
          "base_uri": "https://localhost:8080/"
        },
        "outputId": "f4210ac3-44ed-4d11-d7f0-8b6c9385dfc3"
      },
      "source": [
        "X[0][1]"
      ],
      "execution_count": 17,
      "outputs": [
        {
          "output_type": "execute_result",
          "data": {
            "text/plain": [
              "55"
            ]
          },
          "metadata": {
            "tags": []
          },
          "execution_count": 17
        }
      ]
    },
    {
      "cell_type": "code",
      "metadata": {
        "id": "RTRE4HPUuc2S",
        "colab": {
          "base_uri": "https://localhost:8080/"
        },
        "outputId": "747bb1cc-b392-4ca6-e67b-d8283f917ca4"
      },
      "source": [
        "X[:, 1]"
      ],
      "execution_count": 18,
      "outputs": [
        {
          "output_type": "execute_result",
          "data": {
            "text/plain": [
              "array([55, 19,  4])"
            ]
          },
          "metadata": {
            "tags": []
          },
          "execution_count": 18
        }
      ]
    },
    {
      "cell_type": "code",
      "metadata": {
        "id": "psW5TJ-duxTE",
        "colab": {
          "base_uri": "https://localhost:8080/"
        },
        "outputId": "5a7e0eef-f8e0-489c-8417-5d5faf85eae7"
      },
      "source": [
        "for row in X:\n",
        "  print(row)"
      ],
      "execution_count": 19,
      "outputs": [
        {
          "output_type": "stream",
          "text": [
            "[51 55]\n",
            "[14 19]\n",
            "[0 4]\n"
          ],
          "name": "stdout"
        }
      ]
    },
    {
      "cell_type": "code",
      "metadata": {
        "id": "SxiVVClhu9q7",
        "colab": {
          "base_uri": "https://localhost:8080/"
        },
        "outputId": "da5b7e0e-e06f-4d61-d298-c0dcc01ede5e"
      },
      "source": [
        "X = X.flatten()\n",
        "X"
      ],
      "execution_count": 20,
      "outputs": [
        {
          "output_type": "execute_result",
          "data": {
            "text/plain": [
              "array([51, 55, 14, 19,  0,  4])"
            ]
          },
          "metadata": {
            "tags": []
          },
          "execution_count": 20
        }
      ]
    },
    {
      "cell_type": "code",
      "metadata": {
        "id": "XaUzeodUvEg7",
        "colab": {
          "base_uri": "https://localhost:8080/"
        },
        "outputId": "afe72521-13a8-4e05-9ca0-f08a16d223cb"
      },
      "source": [
        "X[np.array([0, 2, 4])]"
      ],
      "execution_count": 21,
      "outputs": [
        {
          "output_type": "execute_result",
          "data": {
            "text/plain": [
              "array([51, 14,  0])"
            ]
          },
          "metadata": {
            "tags": []
          },
          "execution_count": 21
        }
      ]
    },
    {
      "cell_type": "code",
      "metadata": {
        "id": "eCY5oinQvIaQ",
        "colab": {
          "base_uri": "https://localhost:8080/"
        },
        "outputId": "6b9e0d23-420b-4b4f-d927-e65d427b3888"
      },
      "source": [
        "X > 15"
      ],
      "execution_count": 22,
      "outputs": [
        {
          "output_type": "execute_result",
          "data": {
            "text/plain": [
              "array([ True,  True, False,  True, False, False])"
            ]
          },
          "metadata": {
            "tags": []
          },
          "execution_count": 22
        }
      ]
    },
    {
      "cell_type": "code",
      "metadata": {
        "id": "p-1q8FQbvMgJ",
        "colab": {
          "base_uri": "https://localhost:8080/"
        },
        "outputId": "808da56e-7dbb-4dfa-f5ad-c85de526fba9"
      },
      "source": [
        "X[X > 15]"
      ],
      "execution_count": 23,
      "outputs": [
        {
          "output_type": "execute_result",
          "data": {
            "text/plain": [
              "array([51, 55, 19])"
            ]
          },
          "metadata": {
            "tags": []
          },
          "execution_count": 23
        }
      ]
    },
    {
      "cell_type": "markdown",
      "metadata": {
        "id": "TEcCgiOnvN3A"
      },
      "source": [
        "# **1.6 matplotlib**"
      ]
    },
    {
      "cell_type": "markdown",
      "metadata": {
        "id": "WPXp8IWh3lan"
      },
      "source": [
        "**1.6.1 simple graph drawing**"
      ]
    },
    {
      "cell_type": "code",
      "metadata": {
        "id": "tRAup8Ke3p0S",
        "outputId": "a26faa5d-ab08-4ba1-c22a-9b8568938d16",
        "colab": {
          "base_uri": "https://localhost:8080/",
          "height": 265
        }
      },
      "source": [
        "import numpy as np\n",
        "import matplotlib.pyplot as plt\n",
        "\n",
        "# Data set\n",
        "x = np.arange(0, 6, 0.1)\n",
        "y = np.sin(x)\n",
        "\n",
        "# Graph Drawing\n",
        "plt.plot(x, y)\n",
        "plt.show()"
      ],
      "execution_count": 25,
      "outputs": [
        {
          "output_type": "display_data",
          "data": {
            "image/png": "[encoded data removed]",
            "text/plain": [
              "<Figure size 432x288 with 1 Axes>"
            ]
          },
          "metadata": {
            "tags": [],
            "needs_background": "light"
          }
        }
      ]
    },
    {
      "cell_type": "markdown",
      "metadata": {
        "id": "IWpOcwHS38RO"
      },
      "source": [
        "**1.6.2 feature of pyplot**"
      ]
    },
    {
      "cell_type": "code",
      "metadata": {
        "id": "53Uk5jug4KTb",
        "outputId": "78823710-2280-4f36-b29b-ffa4df388cef",
        "colab": {
          "base_uri": "https://localhost:8080/",
          "height": 295
        }
      },
      "source": [
        "import numpy as np\n",
        "import matplotlib.pyplot as plt\n",
        "\n",
        "# Data set\n",
        "x = np.arange(0, 6, 0.1)\n",
        "y1 = np.sin(x)\n",
        "y2 = np.cos(x)\n",
        "\n",
        "# Graph Drawing\n",
        "plt.plot(x, y1, label=\"sin\")\n",
        "plt.plot(x, y2, label=\"cos\") # Drawing cos function as dotted line\n",
        "plt.xlabel(\"x\") # x-axis name\n",
        "plt.ylabel(\"y\") # y-axis name\n",
        "plt.title(\"sin & cos\") # title\n",
        "plt.legend()\n",
        "plt.show() "
      ],
      "execution_count": 26,
      "outputs": [
        {
          "output_type": "display_data",
          "data": {
            "image/png": "[encoded data removed]",
            "text/plain": [
              "<Figure size 432x288 with 1 Axes>"
            ]
          },
          "metadata": {
            "tags": [],
            "needs_background": "light"
          }
        }
      ]
    },
    {
      "cell_type": "markdown",
      "metadata": {
        "id": "MduT86W14kzq"
      },
      "source": [
        "**1.6.3 Image display**"
      ]
    },
    {
      "cell_type": "code",
      "metadata": {
        "id": "Gg_0jRi14tpb"
      },
      "source": [
        ""
      ],
      "execution_count": null,
      "outputs": []
    }
  ]
}