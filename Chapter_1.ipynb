{
  "nbformat": 4,
  "nbformat_minor": 0,
  "metadata": {
    "colab": {
      "name": "Chapter_1.ipynb",
      "provenance": [],
      "authorship_tag": "ABX9TyOcrSHO4Mur51svs+5tlSOj"
    },
    "kernelspec": {
      "name": "python3",
      "display_name": "Python 3"
    },
    "language_info": {
      "name": "python"
    },
    "accelerator": "GPU"
  },
  "cells": [
    {
      "cell_type": "markdown",
      "metadata": {
        "id": "PXJycyESsH7E"
      },
      "source": [
        "# **1.5 Numpy**"
      ]
    },
    {
      "cell_type": "markdown",
      "metadata": {
        "id": "9HkcsooqsPzj"
      },
      "source": [
        "1.5.1 Bring Numpy module"
      ]
    },
    {
      "cell_type": "code",
      "metadata": {
        "id": "WQASlpVHsh-w"
      },
      "source": [
        "import numpy as np"
      ],
      "execution_count": 29,
      "outputs": []
    },
    {
      "cell_type": "markdown",
      "metadata": {
        "id": "LxU9lydespIx"
      },
      "source": [
        "1.5.2 Creating Numpy Array"
      ]
    },
    {
      "cell_type": "code",
      "metadata": {
        "colab": {
          "base_uri": "https://localhost:8080/"
        },
        "id": "RqnGqm2LvSoR",
        "outputId": "b5ad5664-6e2f-4856-8dfc-1940768886b6"
      },
      "source": [
        "x = np.array([1.0, 2.0, 3.0])\n",
        "print(x)\n",
        "type(x)"
      ],
      "execution_count": 30,
      "outputs": [
        {
          "output_type": "stream",
          "text": [
            "[1. 2. 3.]\n"
          ],
          "name": "stdout"
        },
        {
          "output_type": "execute_result",
          "data": {
            "text/plain": [
              "numpy.ndarray"
            ]
          },
          "metadata": {
            "tags": []
          },
          "execution_count": 30
        }
      ]
    },
    {
      "cell_type": "markdown",
      "metadata": {
        "id": "7OBP0h6StBk3"
      },
      "source": [
        "1.5.3 Arithmetic operand of Numpy "
      ]
    },
    {
      "cell_type": "code",
      "metadata": {
        "id": "D24BdiY7AhP3",
        "colab": {
          "base_uri": "https://localhost:8080/"
        },
        "outputId": "148821f2-5056-4f3c-9e84-50f399690a47"
      },
      "source": [
        "x = np.array([1.0, 2.0, 3.0])\n",
        "y = np.array([2.0, 4.0, 6.0])\n",
        "x + y"
      ],
      "execution_count": 31,
      "outputs": [
        {
          "output_type": "execute_result",
          "data": {
            "text/plain": [
              "array([3., 6., 9.])"
            ]
          },
          "metadata": {
            "tags": []
          },
          "execution_count": 31
        }
      ]
    },
    {
      "cell_type": "code",
      "metadata": {
        "id": "l9FKZlmTBAFP",
        "colab": {
          "base_uri": "https://localhost:8080/"
        },
        "outputId": "26e1f609-643e-4676-e84f-3c8d4e7299d6"
      },
      "source": [
        "x - y"
      ],
      "execution_count": 32,
      "outputs": [
        {
          "output_type": "execute_result",
          "data": {
            "text/plain": [
              "array([-1., -2., -3.])"
            ]
          },
          "metadata": {
            "tags": []
          },
          "execution_count": 32
        }
      ]
    },
    {
      "cell_type": "code",
      "metadata": {
        "id": "iFGgvmHXBAx3",
        "colab": {
          "base_uri": "https://localhost:8080/"
        },
        "outputId": "dad3e2b2-9723-4658-ef44-7920b9eacfca"
      },
      "source": [
        "x * y"
      ],
      "execution_count": 33,
      "outputs": [
        {
          "output_type": "execute_result",
          "data": {
            "text/plain": [
              "array([ 2.,  8., 18.])"
            ]
          },
          "metadata": {
            "tags": []
          },
          "execution_count": 33
        }
      ]
    },
    {
      "cell_type": "code",
      "metadata": {
        "id": "QydUc_c3BCVn",
        "colab": {
          "base_uri": "https://localhost:8080/"
        },
        "outputId": "b737965e-ec68-4680-9ece-72fc8b68e41f"
      },
      "source": [
        "x / y"
      ],
      "execution_count": 34,
      "outputs": [
        {
          "output_type": "execute_result",
          "data": {
            "text/plain": [
              "array([0.5, 0.5, 0.5])"
            ]
          },
          "metadata": {
            "tags": []
          },
          "execution_count": 34
        }
      ]
    },
    {
      "cell_type": "code",
      "metadata": {
        "id": "AJqB9PtdBEHv",
        "colab": {
          "base_uri": "https://localhost:8080/"
        },
        "outputId": "ae1a6738-05c4-4196-a09a-2a669103bbe7"
      },
      "source": [
        "x = np.array([1.0, 2.0, 3.0])\n",
        "x / 2.0"
      ],
      "execution_count": 35,
      "outputs": [
        {
          "output_type": "execute_result",
          "data": {
            "text/plain": [
              "array([0.5, 1. , 1.5])"
            ]
          },
          "metadata": {
            "tags": []
          },
          "execution_count": 35
        }
      ]
    },
    {
      "cell_type": "markdown",
      "metadata": {
        "id": "fq4Gr5p1tPcI"
      },
      "source": [
        "1.5.4 N-Dimension Array of Numpy"
      ]
    },
    {
      "cell_type": "code",
      "metadata": {
        "id": "sPkZ5UEbluc7",
        "colab": {
          "base_uri": "https://localhost:8080/"
        },
        "outputId": "03392c47-1573-46ec-edd7-cca01ec16bb2"
      },
      "source": [
        "A = np.array([[1, 2], [3, 4]])\n",
        "print(A)"
      ],
      "execution_count": 36,
      "outputs": [
        {
          "output_type": "stream",
          "text": [
            "[[1 2]\n",
            " [3 4]]\n"
          ],
          "name": "stdout"
        }
      ]
    },
    {
      "cell_type": "code",
      "metadata": {
        "id": "zpzmu6z3naQ9",
        "outputId": "69d54671-5f36-4e36-a53c-995fd4c1cf36",
        "colab": {
          "base_uri": "https://localhost:8080/"
        }
      },
      "source": [
        "A.shape"
      ],
      "execution_count": 37,
      "outputs": [
        {
          "output_type": "execute_result",
          "data": {
            "text/plain": [
              "(2, 2)"
            ]
          },
          "metadata": {
            "tags": []
          },
          "execution_count": 37
        }
      ]
    },
    {
      "cell_type": "code",
      "metadata": {
        "id": "w4gCbL_RncGq",
        "colab": {
          "base_uri": "https://localhost:8080/"
        },
        "outputId": "3545e3b1-e502-4e01-a3bf-1f1e83272a33"
      },
      "source": [
        "A.dtype"
      ],
      "execution_count": 38,
      "outputs": [
        {
          "output_type": "execute_result",
          "data": {
            "text/plain": [
              "dtype('int64')"
            ]
          },
          "metadata": {
            "tags": []
          },
          "execution_count": 38
        }
      ]
    },
    {
      "cell_type": "code",
      "metadata": {
        "id": "qV3wvvlcndU_",
        "colab": {
          "base_uri": "https://localhost:8080/"
        },
        "outputId": "ba50db11-2a3a-4452-ca6b-dad2b6d78091"
      },
      "source": [
        "B = np.array([[3, 0], [0, 6]])\n",
        "A + B"
      ],
      "execution_count": 39,
      "outputs": [
        {
          "output_type": "execute_result",
          "data": {
            "text/plain": [
              "array([[ 4,  2],\n",
              "       [ 3, 10]])"
            ]
          },
          "metadata": {
            "tags": []
          },
          "execution_count": 39
        }
      ]
    },
    {
      "cell_type": "code",
      "metadata": {
        "id": "8moMdsBvnlA-",
        "colab": {
          "base_uri": "https://localhost:8080/"
        },
        "outputId": "eefd1dd5-2f5c-43ff-cbbd-6adc7a74e94e"
      },
      "source": [
        "# column wise operation -> [[1 * 3, 2 * 0], [3 * 0, 4 * 6]]\n",
        "A * B"
      ],
      "execution_count": 40,
      "outputs": [
        {
          "output_type": "execute_result",
          "data": {
            "text/plain": [
              "array([[ 3,  0],\n",
              "       [ 0, 24]])"
            ]
          },
          "metadata": {
            "tags": []
          },
          "execution_count": 40
        }
      ]
    },
    {
      "cell_type": "markdown",
      "metadata": {
        "id": "mT8KVw31uIYx"
      },
      "source": [
        "1.5.5 BroadCast"
      ]
    },
    {
      "cell_type": "code",
      "metadata": {
        "id": "3jV6iOdxpzXb",
        "outputId": "bb1380aa-97b5-40ef-e84c-d8ac4f968551",
        "colab": {
          "base_uri": "https://localhost:8080/"
        }
      },
      "source": [
        "A * 10"
      ],
      "execution_count": 41,
      "outputs": [
        {
          "output_type": "execute_result",
          "data": {
            "text/plain": [
              "array([[10, 20],\n",
              "       [30, 40]])"
            ]
          },
          "metadata": {
            "tags": []
          },
          "execution_count": 41
        }
      ]
    },
    {
      "cell_type": "code",
      "metadata": {
        "id": "d9lBYh-4rnsZ",
        "outputId": "20e7161c-16f6-400f-aa8a-82da4bc9c7f0",
        "colab": {
          "base_uri": "https://localhost:8080/"
        }
      },
      "source": [
        "A = np.array([[1, 2], [3, 4]])\n",
        "B = np.array([10, 20])\n",
        "# B -> [[10, 20], [10, 20]] broadcast\n",
        "A * B"
      ],
      "execution_count": 42,
      "outputs": [
        {
          "output_type": "execute_result",
          "data": {
            "text/plain": [
              "array([[10, 40],\n",
              "       [30, 80]])"
            ]
          },
          "metadata": {
            "tags": []
          },
          "execution_count": 42
        }
      ]
    },
    {
      "cell_type": "markdown",
      "metadata": {
        "id": "TbtFMtudsAPT"
      },
      "source": [
        "1.5.6 Element Indexing"
      ]
    },
    {
      "cell_type": "code",
      "metadata": {
        "id": "LAdw4955uSX9",
        "outputId": "c7a2cb0c-e81a-4f88-c91c-d8b7387d605f",
        "colab": {
          "base_uri": "https://localhost:8080/"
        }
      },
      "source": [
        "X = np.array([[51, 55], [14, 19], [0, 4]])\n",
        "X"
      ],
      "execution_count": 43,
      "outputs": [
        {
          "output_type": "execute_result",
          "data": {
            "text/plain": [
              "array([[51, 55],\n",
              "       [14, 19],\n",
              "       [ 0,  4]])"
            ]
          },
          "metadata": {
            "tags": []
          },
          "execution_count": 43
        }
      ]
    },
    {
      "cell_type": "code",
      "metadata": {
        "id": "09HcMxPFuYf7",
        "outputId": "90dc1501-f8de-4ddb-d5bb-b0859ec00052",
        "colab": {
          "base_uri": "https://localhost:8080/"
        }
      },
      "source": [
        "X[0]"
      ],
      "execution_count": 44,
      "outputs": [
        {
          "output_type": "execute_result",
          "data": {
            "text/plain": [
              "array([51, 55])"
            ]
          },
          "metadata": {
            "tags": []
          },
          "execution_count": 44
        }
      ]
    },
    {
      "cell_type": "code",
      "metadata": {
        "id": "FHvAIz00uaSH",
        "outputId": "0950e1a1-aa45-4a5d-b09c-c6bcc492fdb7",
        "colab": {
          "base_uri": "https://localhost:8080/"
        }
      },
      "source": [
        "X[0][1]"
      ],
      "execution_count": 45,
      "outputs": [
        {
          "output_type": "execute_result",
          "data": {
            "text/plain": [
              "55"
            ]
          },
          "metadata": {
            "tags": []
          },
          "execution_count": 45
        }
      ]
    },
    {
      "cell_type": "code",
      "metadata": {
        "id": "RTRE4HPUuc2S",
        "outputId": "b1a45e13-d420-439a-db6f-34b5e0e1721a",
        "colab": {
          "base_uri": "https://localhost:8080/"
        }
      },
      "source": [
        "X[:, 1]"
      ],
      "execution_count": 50,
      "outputs": [
        {
          "output_type": "execute_result",
          "data": {
            "text/plain": [
              "array([55, 19,  4])"
            ]
          },
          "metadata": {
            "tags": []
          },
          "execution_count": 50
        }
      ]
    },
    {
      "cell_type": "code",
      "metadata": {
        "id": "psW5TJ-duxTE",
        "outputId": "79e9d665-6c20-47d2-fbd0-43a6cff6f9bb",
        "colab": {
          "base_uri": "https://localhost:8080/"
        }
      },
      "source": [
        "for row in X:\n",
        "  print(row)"
      ],
      "execution_count": 51,
      "outputs": [
        {
          "output_type": "stream",
          "text": [
            "[51 55]\n",
            "[14 19]\n",
            "[0 4]\n"
          ],
          "name": "stdout"
        }
      ]
    },
    {
      "cell_type": "code",
      "metadata": {
        "id": "SxiVVClhu9q7",
        "outputId": "0b3abc28-5891-483c-9ada-30068084001f",
        "colab": {
          "base_uri": "https://localhost:8080/"
        }
      },
      "source": [
        "X = X.flatten()\n",
        "X"
      ],
      "execution_count": 52,
      "outputs": [
        {
          "output_type": "execute_result",
          "data": {
            "text/plain": [
              "array([51, 55, 14, 19,  0,  4])"
            ]
          },
          "metadata": {
            "tags": []
          },
          "execution_count": 52
        }
      ]
    },
    {
      "cell_type": "code",
      "metadata": {
        "id": "XaUzeodUvEg7",
        "outputId": "bd392ece-709d-4624-90ce-bf508dfca112",
        "colab": {
          "base_uri": "https://localhost:8080/"
        }
      },
      "source": [
        "X[np.array([0, 2, 4])]"
      ],
      "execution_count": 53,
      "outputs": [
        {
          "output_type": "execute_result",
          "data": {
            "text/plain": [
              "array([51, 14,  0])"
            ]
          },
          "metadata": {
            "tags": []
          },
          "execution_count": 53
        }
      ]
    },
    {
      "cell_type": "code",
      "metadata": {
        "id": "eCY5oinQvIaQ",
        "outputId": "908f33ed-6611-401c-b1a6-90af2f3dd2ab",
        "colab": {
          "base_uri": "https://localhost:8080/"
        }
      },
      "source": [
        "X > 15"
      ],
      "execution_count": 54,
      "outputs": [
        {
          "output_type": "execute_result",
          "data": {
            "text/plain": [
              "array([ True,  True, False,  True, False, False])"
            ]
          },
          "metadata": {
            "tags": []
          },
          "execution_count": 54
        }
      ]
    },
    {
      "cell_type": "code",
      "metadata": {
        "id": "p-1q8FQbvMgJ",
        "outputId": "5fa02174-a1e2-410f-f69b-a139b441bca8",
        "colab": {
          "base_uri": "https://localhost:8080/"
        }
      },
      "source": [
        "X[X > 15]"
      ],
      "execution_count": 55,
      "outputs": [
        {
          "output_type": "execute_result",
          "data": {
            "text/plain": [
              "array([51, 55, 19])"
            ]
          },
          "metadata": {
            "tags": []
          },
          "execution_count": 55
        }
      ]
    },
    {
      "cell_type": "code",
      "metadata": {
        "id": "TEcCgiOnvN3A"
      },
      "source": [
        ""
      ],
      "execution_count": null,
      "outputs": []
    }
  ]
}