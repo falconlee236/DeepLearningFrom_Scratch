{
  "nbformat": 4,
  "nbformat_minor": 0,
  "metadata": {
    "colab": {
      "name": "Chapter_1.ipynb",
      "provenance": [],
      "authorship_tag": "ABX9TyPdYvvfcMhA5cjxQ2D1gZmC"
    },
    "kernelspec": {
      "name": "python3",
      "display_name": "Python 3"
    },
    "language_info": {
      "name": "python"
    },
    "accelerator": "GPU"
  },
  "cells": [
    {
      "cell_type": "code",
      "metadata": {
        "colab": {
          "base_uri": "https://localhost:8080/"
        },
        "id": "RqnGqm2LvSoR",
        "outputId": "f7dfafd1-1788-4d62-f8ea-479c162800a9"
      },
      "source": [
        "import numpy as np\n",
        "x = np.array([1.0, 2.0, 3.0])\n",
        "print(x)\n",
        "type(x)"
      ],
      "execution_count": null,
      "outputs": [
        {
          "output_type": "stream",
          "text": [
            "[1. 2. 3.]\n"
          ],
          "name": "stdout"
        },
        {
          "output_type": "execute_result",
          "data": {
            "text/plain": [
              "numpy.ndarray"
            ]
          },
          "metadata": {
            "tags": []
          },
          "execution_count": 13
        }
      ]
    },
    {
      "cell_type": "code",
      "metadata": {
        "id": "D24BdiY7AhP3",
        "colab": {
          "base_uri": "https://localhost:8080/"
        },
        "outputId": "ac448ed3-9758-46ca-b5e5-92628fe12f59"
      },
      "source": [
        "x = np.array([1.0, 2.0, 3.0])\n",
        "y = np.array([2.0, 4.0, 6.0])\n",
        "x + y"
      ],
      "execution_count": null,
      "outputs": [
        {
          "output_type": "execute_result",
          "data": {
            "text/plain": [
              "array([3., 6., 9.])"
            ]
          },
          "metadata": {
            "tags": []
          },
          "execution_count": 14
        }
      ]
    },
    {
      "cell_type": "code",
      "metadata": {
        "id": "l9FKZlmTBAFP",
        "colab": {
          "base_uri": "https://localhost:8080/"
        },
        "outputId": "b964a3ea-1581-4cb1-b6fa-58c070ed8ea0"
      },
      "source": [
        "x - y"
      ],
      "execution_count": null,
      "outputs": [
        {
          "output_type": "execute_result",
          "data": {
            "text/plain": [
              "array([-1., -2., -3.])"
            ]
          },
          "metadata": {
            "tags": []
          },
          "execution_count": 15
        }
      ]
    },
    {
      "cell_type": "code",
      "metadata": {
        "id": "iFGgvmHXBAx3",
        "colab": {
          "base_uri": "https://localhost:8080/"
        },
        "outputId": "42911d58-d7c0-454a-aa54-234b952cb5df"
      },
      "source": [
        "x * y"
      ],
      "execution_count": null,
      "outputs": [
        {
          "output_type": "execute_result",
          "data": {
            "text/plain": [
              "array([ 2.,  8., 18.])"
            ]
          },
          "metadata": {
            "tags": []
          },
          "execution_count": 16
        }
      ]
    },
    {
      "cell_type": "code",
      "metadata": {
        "id": "QydUc_c3BCVn",
        "colab": {
          "base_uri": "https://localhost:8080/"
        },
        "outputId": "de950fe4-1304-4f13-aa06-577c3417c3e9"
      },
      "source": [
        "x / y"
      ],
      "execution_count": null,
      "outputs": [
        {
          "output_type": "execute_result",
          "data": {
            "text/plain": [
              "array([0.5, 0.5, 0.5])"
            ]
          },
          "metadata": {
            "tags": []
          },
          "execution_count": 17
        }
      ]
    },
    {
      "cell_type": "code",
      "metadata": {
        "id": "AJqB9PtdBEHv",
        "colab": {
          "base_uri": "https://localhost:8080/"
        },
        "outputId": "1f449caf-63a6-4e5e-90e5-8245334621b8"
      },
      "source": [
        "x = np.array([1.0, 2.0, 3.0])\n",
        "x / 2.0"
      ],
      "execution_count": null,
      "outputs": [
        {
          "output_type": "execute_result",
          "data": {
            "text/plain": [
              "array([0.5, 1. , 1.5])"
            ]
          },
          "metadata": {
            "tags": []
          },
          "execution_count": 19
        }
      ]
    },
    {
      "cell_type": "code",
      "metadata": {
        "id": "sPkZ5UEbluc7",
        "colab": {
          "base_uri": "https://localhost:8080/"
        },
        "outputId": "87406dd9-7b31-4202-fefe-9cd8b7646f85"
      },
      "source": [
        "A = np.array([[1, 2], [3, 4]])\n",
        "A"
      ],
      "execution_count": null,
      "outputs": [
        {
          "output_type": "execute_result",
          "data": {
            "text/plain": [
              "array([[1, 2],\n",
              "       [3, 4]])"
            ]
          },
          "metadata": {
            "tags": []
          },
          "execution_count": 24
        }
      ]
    },
    {
      "cell_type": "code",
      "metadata": {
        "id": "zpzmu6z3naQ9",
        "colab": {
          "base_uri": "https://localhost:8080/"
        },
        "outputId": "78b43f3b-1348-461c-92d9-b63cac4dc88f"
      },
      "source": [
        "A.shape"
      ],
      "execution_count": null,
      "outputs": [
        {
          "output_type": "execute_result",
          "data": {
            "text/plain": [
              "(2, 2)"
            ]
          },
          "metadata": {
            "tags": []
          },
          "execution_count": 26
        }
      ]
    },
    {
      "cell_type": "code",
      "metadata": {
        "id": "w4gCbL_RncGq",
        "colab": {
          "base_uri": "https://localhost:8080/"
        },
        "outputId": "cba2ad9c-b0a7-4a4f-866a-2d73f90a2a3e"
      },
      "source": [
        "A.dtype"
      ],
      "execution_count": null,
      "outputs": [
        {
          "output_type": "execute_result",
          "data": {
            "text/plain": [
              "dtype('int64')"
            ]
          },
          "metadata": {
            "tags": []
          },
          "execution_count": 27
        }
      ]
    },
    {
      "cell_type": "code",
      "metadata": {
        "id": "qV3wvvlcndU_",
        "colab": {
          "base_uri": "https://localhost:8080/"
        },
        "outputId": "b5481c86-a759-45cc-a02c-75ba5a0cd398"
      },
      "source": [
        "B = np.array([[3, 0], [0, 6]])\n",
        "A + B"
      ],
      "execution_count": null,
      "outputs": [
        {
          "output_type": "execute_result",
          "data": {
            "text/plain": [
              "array([[ 4,  2],\n",
              "       [ 3, 10]])"
            ]
          },
          "metadata": {
            "tags": []
          },
          "execution_count": 29
        }
      ]
    },
    {
      "cell_type": "code",
      "metadata": {
        "id": "8moMdsBvnlA-",
        "colab": {
          "base_uri": "https://localhost:8080/"
        },
        "outputId": "8aef9951-827f-425a-d5e1-022a50b9d797"
      },
      "source": [
        "# column wise operation -> [[1 * 3, 2 * 0], [3 * 0, 4 * 6]]\n",
        "A * B"
      ],
      "execution_count": null,
      "outputs": [
        {
          "output_type": "execute_result",
          "data": {
            "text/plain": [
              "array([[ 3,  0],\n",
              "       [ 0, 24]])"
            ]
          },
          "metadata": {
            "tags": []
          },
          "execution_count": 30
        }
      ]
    },
    {
      "cell_type": "code",
      "metadata": {
        "id": "3jV6iOdxpzXb"
      },
      "source": [
        ""
      ],
      "execution_count": null,
      "outputs": []
    }
  ]
}