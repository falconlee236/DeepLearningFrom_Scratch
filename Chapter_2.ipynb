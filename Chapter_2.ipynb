{
  "nbformat": 4,
  "nbformat_minor": 0,
  "metadata": {
    "colab": {
      "name": "Chapter_2.ipynb",
      "private_outputs": true,
      "provenance": [],
      "collapsed_sections": [],
      "mount_file_id": "1gnfLWBvdJHSFxGDUcwjpuZOBuqy1jsCa",
      "authorship_tag": "ABX9TyMqRVnSP0GSmZ/3DHM6hvnZ",
      "include_colab_link": true
    },
    "kernelspec": {
      "name": "python3",
      "display_name": "Python 3"
    },
    "language_info": {
      "name": "python"
    }
  },
  "cells": [
    {
      "cell_type": "markdown",
      "metadata": {
        "id": "view-in-github",
        "colab_type": "text"
      },
      "source": [
        "<a href=\"https://colab.research.google.com/github/falconlee236/DeepLearningFrom_Scratch/blob/main/Chapter_2.ipynb\" target=\"_parent\"><img src=\"https://colab.research.google.com/assets/colab-badge.svg\" alt=\"Open In Colab\"/></a>"
      ]
    },
    {
      "cell_type": "markdown",
      "metadata": {
        "id": "Mcqk8Lv3Eq8L"
      },
      "source": [
        "# **Chapter 2 Perceptron**"
      ]
    },
    {
      "cell_type": "markdown",
      "metadata": {
        "id": "6lEUjjw1E466"
      },
      "source": [
        "**2.3 Perceptron implementing**"
      ]
    },
    {
      "cell_type": "markdown",
      "metadata": {
        "id": "shfEFIhMGdPC"
      },
      "source": [
        "*2.3.1 from simple implementation*"
      ]
    },
    {
      "cell_type": "code",
      "metadata": {
        "id": "v6mNJIGCGl56"
      },
      "source": [
        "def AND(x1, x2):\n",
        "  w1, w2, theta = 0.5, 0.5, 0.7\n",
        "  tmp = x1 * w1 + x2 * w2\n",
        "  return 1 if tmp > theta else 0"
      ],
      "execution_count": null,
      "outputs": []
    },
    {
      "cell_type": "code",
      "metadata": {
        "id": "vWYlP_e9Ik76"
      },
      "source": [
        "AND(0, 0)"
      ],
      "execution_count": null,
      "outputs": []
    },
    {
      "cell_type": "code",
      "metadata": {
        "id": "DlGWzaNgI55s"
      },
      "source": [
        "AND(1, 0)"
      ],
      "execution_count": null,
      "outputs": []
    },
    {
      "cell_type": "code",
      "metadata": {
        "id": "UmGiU2R_I8Nr"
      },
      "source": [
        "AND(0, 1)"
      ],
      "execution_count": null,
      "outputs": []
    },
    {
      "cell_type": "code",
      "metadata": {
        "id": "pPA3RlUZI9Cs"
      },
      "source": [
        "AND(1, 1)"
      ],
      "execution_count": null,
      "outputs": []
    },
    {
      "cell_type": "markdown",
      "metadata": {
        "id": "Hj-66kRjI9xD"
      },
      "source": [
        "*2.3.2 introducing weight and bias* <br>\n",
        "\n",
        "\n",
        "---\n",
        "\n",
        "\n",
        "from w1*x1 + w2*x2 > theta <br>\n",
        "to w1*x1 + w2*x2 + bias > 0  (bias = -theta)"
      ]
    },
    {
      "cell_type": "code",
      "metadata": {
        "id": "yTM5oMJwKLJc"
      },
      "source": [
        "import numpy as np\n",
        "x = np.array([0, 1]) # input\n",
        "w = np.array([0.5, 0.5]) # weight\n",
        "b = -0.7 # bias\n",
        "w * x"
      ],
      "execution_count": null,
      "outputs": []
    },
    {
      "cell_type": "code",
      "metadata": {
        "id": "d2q1W6VoKc5e"
      },
      "source": [
        "np.sum(w * x)"
      ],
      "execution_count": null,
      "outputs": []
    },
    {
      "cell_type": "code",
      "metadata": {
        "id": "jdicyZhBKg6-"
      },
      "source": [
        "np.sum(w * x) + b"
      ],
      "execution_count": null,
      "outputs": []
    },
    {
      "cell_type": "markdown",
      "metadata": {
        "id": "lgMzCNBmKpQ3"
      },
      "source": [
        "*2.3.3 implementing weight and bias*"
      ]
    },
    {
      "cell_type": "code",
      "metadata": {
        "id": "znz9N8dvKz0r"
      },
      "source": [
        "def AND(x1, x2):\n",
        "  x = np.array([x1, x2])\n",
        "  w = np.array([0.5, 0.5])\n",
        "  b = -0.7\n",
        "  return 1 if np.sum(x * w) + b > 0 else 0"
      ],
      "execution_count": null,
      "outputs": []
    },
    {
      "cell_type": "code",
      "metadata": {
        "id": "SorkO_emLITH"
      },
      "source": [
        "def NAND(x1, x2):\n",
        "  x = np.array([x1, x2])\n",
        "  w = np.array([-0.5, -0.5])\n",
        "  b = 0.7 # different only weight(w and b)\n",
        "  return 1 if np.sum(x * w) + b > 0 else 0\n",
        "\n",
        "def OR(x1, x2):\n",
        "  x = np.array([x1, x2])\n",
        "  w = np.array([0.5, 0.5])\n",
        "  b = -0.2 # different only weight(w and b)\n",
        "  return 1 if np.sum(x * w) + b > 0 else 0"
      ],
      "execution_count": null,
      "outputs": []
    },
    {
      "cell_type": "markdown",
      "metadata": {
        "id": "N5kLkcVrMXq7"
      },
      "source": [
        "**2.5 IF Coming multi-layer perceptron**"
      ]
    },
    {
      "cell_type": "markdown",
      "metadata": {
        "id": "8MABLFTiPFDR"
      },
      "source": [
        "*2.5.2 implementing XOR gate*"
      ]
    },
    {
      "cell_type": "code",
      "metadata": {
        "id": "2RQXl6-pPL7Z"
      },
      "source": [
        "def XOR(x1, x2):\n",
        "  s1 = NAND(x1, x2)\n",
        "  s2 = OR(x1, x2)\n",
        "  return AND(s1, s2)"
      ],
      "execution_count": null,
      "outputs": []
    },
    {
      "cell_type": "code",
      "metadata": {
        "id": "G1Z5PQW_PYhS"
      },
      "source": [
        "XOR(0, 0)"
      ],
      "execution_count": null,
      "outputs": []
    },
    {
      "cell_type": "code",
      "metadata": {
        "id": "WW2WT1lAPamG"
      },
      "source": [
        "XOR(1, 0)"
      ],
      "execution_count": null,
      "outputs": []
    },
    {
      "cell_type": "code",
      "metadata": {
        "id": "wQhr9XYnPeX-"
      },
      "source": [
        "XOR(0, 1)"
      ],
      "execution_count": null,
      "outputs": []
    },
    {
      "cell_type": "code",
      "metadata": {
        "id": "nQcr3s2UPjQr"
      },
      "source": [
        "XOR(1, 1)"
      ],
      "execution_count": null,
      "outputs": []
    }
  ]
}